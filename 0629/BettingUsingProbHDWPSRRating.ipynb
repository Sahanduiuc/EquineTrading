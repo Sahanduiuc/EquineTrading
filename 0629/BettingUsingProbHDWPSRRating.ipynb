{
 "cells": [
  {
   "cell_type": "markdown",
   "metadata": {},
   "source": [
    "# Betting Using Prob_HDWPSRRating"
   ]
  },
  {
   "cell_type": "code",
   "execution_count": 1,
   "metadata": {},
   "outputs": [],
   "source": [
    "import sys\n",
    "sys.path.append('I:/YaoTony/code/x8313')\n",
    "# sys.path.append('d:/Codes/EquineTrading/')\n",
    "from datetime import date\n",
    "import pytest\n",
    "from pandas import date_range\n",
    "import pandas as pd\n",
    "from horse.betsim.wrap.jcapper import JCapper\n",
    "from horse.betsim.math import compute_probs_from_odds\n",
    "import numpy as np"
   ]
  },
  {
   "cell_type": "code",
   "execution_count": 106,
   "metadata": {},
   "outputs": [
    {
     "name": "stderr",
     "output_type": "stream",
     "text": [
      "D:\\Softwares\\Anaconda3\\envs\\py35\\lib\\site-packages\\IPython\\core\\interactiveshell.py:2728: DtypeWarning: Columns (12,27,84,85,87,88,93) have mixed types. Specify dtype option on import or set low_memory=False.\n",
      "  interactivity=interactivity, compiler=compiler, result=result)\n"
     ]
    },
    {
     "data": {
      "text/html": [
       "<div>\n",
       "<style scoped>\n",
       "    .dataframe tbody tr th:only-of-type {\n",
       "        vertical-align: middle;\n",
       "    }\n",
       "\n",
       "    .dataframe tbody tr th {\n",
       "        vertical-align: top;\n",
       "    }\n",
       "\n",
       "    .dataframe thead th {\n",
       "        text-align: right;\n",
       "    }\n",
       "</style>\n",
       "<table border=\"1\" class=\"dataframe\">\n",
       "  <thead>\n",
       "    <tr style=\"text-align: right;\">\n",
       "      <th></th>\n",
       "      <th>race_id</th>\n",
       "      <th>EX_payout</th>\n",
       "      <th>PL_payout</th>\n",
       "      <th>SH_payout</th>\n",
       "      <th>SU_payout</th>\n",
       "      <th>TR_payout</th>\n",
       "      <th>WN_payout</th>\n",
       "      <th>index</th>\n",
       "      <th>track_id</th>\n",
       "      <th>date</th>\n",
       "      <th>...</th>\n",
       "      <th>year</th>\n",
       "      <th>month</th>\n",
       "      <th>weekday</th>\n",
       "      <th>prob_x8runner_HDWPSRRating_norm_par</th>\n",
       "      <th>EX_pool</th>\n",
       "      <th>PL_pool</th>\n",
       "      <th>SH_pool</th>\n",
       "      <th>SU_pool</th>\n",
       "      <th>TR_pool</th>\n",
       "      <th>WN_pool</th>\n",
       "    </tr>\n",
       "  </thead>\n",
       "  <tbody>\n",
       "    <tr>\n",
       "      <th>0</th>\n",
       "      <td>APX_20100625_1</td>\n",
       "      <td>6.6</td>\n",
       "      <td>2.15</td>\n",
       "      <td>1.633333</td>\n",
       "      <td>78.349995</td>\n",
       "      <td>24.1</td>\n",
       "      <td>2.05</td>\n",
       "      <td>0.0</td>\n",
       "      <td>APX</td>\n",
       "      <td>2010-06-25</td>\n",
       "      <td>...</td>\n",
       "      <td>2010.0</td>\n",
       "      <td>6.0</td>\n",
       "      <td>4.0</td>\n",
       "      <td>0.011273</td>\n",
       "      <td>51904.0</td>\n",
       "      <td>80078.0</td>\n",
       "      <td>80078.0</td>\n",
       "      <td>17933.0</td>\n",
       "      <td>42794.0</td>\n",
       "      <td>80078.0</td>\n",
       "    </tr>\n",
       "    <tr>\n",
       "      <th>1</th>\n",
       "      <td>APX_20100625_1</td>\n",
       "      <td>6.6</td>\n",
       "      <td>2.15</td>\n",
       "      <td>1.633333</td>\n",
       "      <td>78.349995</td>\n",
       "      <td>24.1</td>\n",
       "      <td>2.05</td>\n",
       "      <td>1.0</td>\n",
       "      <td>APX</td>\n",
       "      <td>2010-06-25</td>\n",
       "      <td>...</td>\n",
       "      <td>2010.0</td>\n",
       "      <td>6.0</td>\n",
       "      <td>4.0</td>\n",
       "      <td>0.332936</td>\n",
       "      <td>51904.0</td>\n",
       "      <td>80078.0</td>\n",
       "      <td>80078.0</td>\n",
       "      <td>17933.0</td>\n",
       "      <td>42794.0</td>\n",
       "      <td>80078.0</td>\n",
       "    </tr>\n",
       "    <tr>\n",
       "      <th>2</th>\n",
       "      <td>APX_20100625_1</td>\n",
       "      <td>6.6</td>\n",
       "      <td>2.15</td>\n",
       "      <td>1.633333</td>\n",
       "      <td>78.349995</td>\n",
       "      <td>24.1</td>\n",
       "      <td>2.05</td>\n",
       "      <td>2.0</td>\n",
       "      <td>APX</td>\n",
       "      <td>2010-06-25</td>\n",
       "      <td>...</td>\n",
       "      <td>2010.0</td>\n",
       "      <td>6.0</td>\n",
       "      <td>4.0</td>\n",
       "      <td>0.067706</td>\n",
       "      <td>51904.0</td>\n",
       "      <td>80078.0</td>\n",
       "      <td>80078.0</td>\n",
       "      <td>17933.0</td>\n",
       "      <td>42794.0</td>\n",
       "      <td>80078.0</td>\n",
       "    </tr>\n",
       "    <tr>\n",
       "      <th>3</th>\n",
       "      <td>APX_20100625_1</td>\n",
       "      <td>6.6</td>\n",
       "      <td>2.15</td>\n",
       "      <td>1.633333</td>\n",
       "      <td>78.349995</td>\n",
       "      <td>24.1</td>\n",
       "      <td>2.05</td>\n",
       "      <td>3.0</td>\n",
       "      <td>APX</td>\n",
       "      <td>2010-06-25</td>\n",
       "      <td>...</td>\n",
       "      <td>2010.0</td>\n",
       "      <td>6.0</td>\n",
       "      <td>4.0</td>\n",
       "      <td>0.026951</td>\n",
       "      <td>51904.0</td>\n",
       "      <td>80078.0</td>\n",
       "      <td>80078.0</td>\n",
       "      <td>17933.0</td>\n",
       "      <td>42794.0</td>\n",
       "      <td>80078.0</td>\n",
       "    </tr>\n",
       "    <tr>\n",
       "      <th>4</th>\n",
       "      <td>APX_20100625_1</td>\n",
       "      <td>6.6</td>\n",
       "      <td>2.15</td>\n",
       "      <td>1.633333</td>\n",
       "      <td>78.349995</td>\n",
       "      <td>24.1</td>\n",
       "      <td>2.05</td>\n",
       "      <td>4.0</td>\n",
       "      <td>APX</td>\n",
       "      <td>2010-06-25</td>\n",
       "      <td>...</td>\n",
       "      <td>2010.0</td>\n",
       "      <td>6.0</td>\n",
       "      <td>4.0</td>\n",
       "      <td>0.150379</td>\n",
       "      <td>51904.0</td>\n",
       "      <td>80078.0</td>\n",
       "      <td>80078.0</td>\n",
       "      <td>17933.0</td>\n",
       "      <td>42794.0</td>\n",
       "      <td>80078.0</td>\n",
       "    </tr>\n",
       "  </tbody>\n",
       "</table>\n",
       "<p>5 rows × 265 columns</p>\n",
       "</div>"
      ],
      "text/plain": [
       "          race_id  EX_payout  PL_payout  SH_payout  SU_payout  TR_payout  \\\n",
       "0  APX_20100625_1        6.6       2.15   1.633333  78.349995       24.1   \n",
       "1  APX_20100625_1        6.6       2.15   1.633333  78.349995       24.1   \n",
       "2  APX_20100625_1        6.6       2.15   1.633333  78.349995       24.1   \n",
       "3  APX_20100625_1        6.6       2.15   1.633333  78.349995       24.1   \n",
       "4  APX_20100625_1        6.6       2.15   1.633333  78.349995       24.1   \n",
       "\n",
       "   WN_payout  index track_id        date   ...       year  month weekday  \\\n",
       "0       2.05    0.0      APX  2010-06-25   ...     2010.0    6.0     4.0   \n",
       "1       2.05    1.0      APX  2010-06-25   ...     2010.0    6.0     4.0   \n",
       "2       2.05    2.0      APX  2010-06-25   ...     2010.0    6.0     4.0   \n",
       "3       2.05    3.0      APX  2010-06-25   ...     2010.0    6.0     4.0   \n",
       "4       2.05    4.0      APX  2010-06-25   ...     2010.0    6.0     4.0   \n",
       "\n",
       "  prob_x8runner_HDWPSRRating_norm_par  EX_pool  PL_pool  SH_pool  SU_pool  \\\n",
       "0                            0.011273  51904.0  80078.0  80078.0  17933.0   \n",
       "1                            0.332936  51904.0  80078.0  80078.0  17933.0   \n",
       "2                            0.067706  51904.0  80078.0  80078.0  17933.0   \n",
       "3                            0.026951  51904.0  80078.0  80078.0  17933.0   \n",
       "4                            0.150379  51904.0  80078.0  80078.0  17933.0   \n",
       "\n",
       "   TR_pool  WN_pool  \n",
       "0  42794.0  80078.0  \n",
       "1  42794.0  80078.0  \n",
       "2  42794.0  80078.0  \n",
       "3  42794.0  80078.0  \n",
       "4  42794.0  80078.0  \n",
       "\n",
       "[5 rows x 265 columns]"
      ]
     },
     "execution_count": 106,
     "metadata": {},
     "output_type": "execute_result"
    }
   ],
   "source": [
    "df_calibrate = pd.read_csv(\"DF_CALIBRATE_20180629.csv\")\n",
    "df_calibrate.head()"
   ]
  },
  {
   "cell_type": "code",
   "execution_count": 175,
   "metadata": {},
   "outputs": [],
   "source": [
    "df_calibrate = df_calibrate[df_calibrate.groupby(\"race_id\")[\"race_id\"].transform(lambda x: len(x))!=1]"
   ]
  },
  {
   "cell_type": "code",
   "execution_count": 176,
   "metadata": {},
   "outputs": [],
   "source": [
    "bet_payout_dict = {\"Win\":\"WN_payout\",\"Exacta\":\"EX_payout\"}"
   ]
  },
  {
   "cell_type": "markdown",
   "metadata": {},
   "source": [
    "## Harville.py: Add \"Win\" and \"Quinella\" in harville_multiprob"
   ]
  },
  {
   "cell_type": "code",
   "execution_count": 180,
   "metadata": {},
   "outputs": [],
   "source": [
    "import Harville"
   ]
  },
  {
   "cell_type": "code",
   "execution_count": 181,
   "metadata": {},
   "outputs": [
    {
     "data": {
      "text/plain": [
       "[[3, 0.41], [2, 0.39], [1, 0.2]]"
      ]
     },
     "execution_count": 181,
     "metadata": {},
     "output_type": "execute_result"
    }
   ],
   "source": [
    "Harville.harville_multiprob([1,2,3],[0.2,0.39,0.41],bet_type = \"Win\")"
   ]
  },
  {
   "cell_type": "code",
   "execution_count": 182,
   "metadata": {},
   "outputs": [
    {
     "data": {
      "text/plain": [
       "[[2, 3, 0.5331480966935259],\n",
       " [1, 3, 0.24148305084745758],\n",
       " [1, 2, 0.22536885245901642]]"
      ]
     },
     "execution_count": 182,
     "metadata": {},
     "output_type": "execute_result"
    }
   ],
   "source": [
    "Harville.harville_multiprob([1,2,3],[0.2,0.39,0.41],bet_type = \"Quinella\")"
   ]
  },
  {
   "cell_type": "markdown",
   "metadata": {},
   "source": [
    "## Apply Harville model to guide Win and Exacta betting"
   ]
  },
  {
   "cell_type": "code",
   "execution_count": 202,
   "metadata": {},
   "outputs": [],
   "source": [
    "def harville_betting(df, bet_type=\"Win\"):\n",
    "    df = df.dropna(axis=0)\n",
    "\n",
    "    df = df.sort_values(by = [\"race_id\"])\n",
    "    column_name = \"{}_is_betted_rightly\".format(bet_type)\n",
    "    df[column_name] = False\n",
    "    race_set = set(df['race_id'])\n",
    "    for race_id in race_set:\n",
    "        df_sub = df[df['race_id']==race_id]\n",
    "        try:\n",
    "            fav = Harville.harville_multiprob(\\\n",
    "                df_sub['runner_program_number_pp'].values,df_sub['prob_x8runner_HDWPSRRating_norm_par'].values,bet_type)[0]\n",
    "            n_sequence = len(fav)-1\n",
    "            is_correct = np.zeros(n_sequence)\n",
    "            for i in range(n_sequence):\n",
    "                is_correct[i] = (df_sub[df_sub[\"runner_program_number_pp\"]==fav[i]][\"official_finish_position\"]==i+1).bool()\n",
    "\n",
    "            if(is_correct.all()):\n",
    "                df.loc[df[\"race_id\"]==race_id,column_name] = True \n",
    "        \n",
    "        # todo: some wierd error\n",
    "        except:\n",
    "            pass\n",
    "#             print(df_sub)\n",
    "        \n",
    "        \n",
    "    return df"
   ]
  },
  {
   "cell_type": "code",
   "execution_count": 187,
   "metadata": {},
   "outputs": [],
   "source": [
    "def expected_return(payout_win,prob_win,rebate=0,bet=1):\n",
    "    pnl = bet*(prob_win*payout_win + (1-prob_win)*(-1) + rebate)\n",
    "    return pnl"
   ]
  },
  {
   "cell_type": "code",
   "execution_count": 206,
   "metadata": {},
   "outputs": [],
   "source": [
    "def betting_test(df):\n",
    "    is_right_columns = []\n",
    "    bet_types = []\n",
    "    payout_columns = []\n",
    "    for column_name in df.columns:\n",
    "        indx = column_name.find(\"_is_betted_rightly\")\n",
    "        if(indx!=-1):\n",
    "            is_right_columns.append(column_name)\n",
    "            bet_types.append(column_name[:indx])\n",
    "            payout_columns.append(bet_payout_dict[column_name[:indx]])\n",
    "    \n",
    "    # Precesion Calculation\n",
    "    for bet_type,is_correct in zip(bet_types,is_right_columns):\n",
    "        prob_win = df[is_correct].value_counts(normalize=True)[1]\n",
    "        print(\"the precision of {}: {}\".format(bet_type, prob_win))\n",
    "        \n",
    "    # PnL Calculation\n",
    "    race_set = set(df['race_id'])\n",
    "    for bet_type,is_correct,bet_payout in zip(bet_types,is_right_columns,payout_columns):\n",
    "        pnl = 0\n",
    "        for race_id in race_set:\n",
    "            df_sub = df[df['race_id']==race_id]\n",
    "#             print(bet_payout)\n",
    "#             print(df_sub[bet_payout])\n",
    "            is_paid = int(df_sub[is_correct].all())\n",
    "            payout = df_sub[bet_payout].iloc[0]\n",
    "            pnl += expected_return(payout, is_paid, 0, 1)\n",
    "        pnl/=len(race_set)\n",
    "            \n",
    "        print(\"the pnl for {}: {}\".format(bet_type, pnl))\n",
    "\n",
    "    pass"
   ]
  },
  {
   "cell_type": "markdown",
   "metadata": {},
   "source": [
    "## Scenarios Comparison\n",
    "\n",
    "### Cases\n",
    "\n",
    "* TR pool > EX pool\n",
    "* TR pool < EX pool\n",
    "\n",
    "### Metrics\n",
    "\n",
    "* Prediction Precision\n",
    "* Actual History PnL (You might want to give me rebate rates)"
   ]
  },
  {
   "cell_type": "markdown",
   "metadata": {},
   "source": [
    "### When TR pool > EX pool"
   ]
  },
  {
   "cell_type": "code",
   "execution_count": 209,
   "metadata": {},
   "outputs": [],
   "source": [
    "df_calibrate_2 = df_calibrate[df_calibrate[\"TR_pool\"]>df_calibrate[\"EX_pool\"]]\n",
    "df = df_calibrate_2[['race_id','EX_payout',\"WN_payout\",'runner_program_number_pp','official_finish_position','prob_x8runner_HDWPSRRating_norm_par']]\n",
    "df = harville_betting(df,'Win')\n",
    "df = harville_betting(df,\"Exacta\")"
   ]
  },
  {
   "cell_type": "code",
   "execution_count": 210,
   "metadata": {},
   "outputs": [
    {
     "name": "stdout",
     "output_type": "stream",
     "text": [
      "the precision of Win: 0.37425860023724794\n",
      "the precision of Exacta: 0.08481613285883749\n",
      "the pnl for Win: 0.4029288702928871\n",
      "the pnl for Exacta: -0.16799163179916318\n"
     ]
    }
   ],
   "source": [
    "betting_test(df)"
   ]
  },
  {
   "cell_type": "markdown",
   "metadata": {},
   "source": [
    "### When TR pool < EX pool"
   ]
  },
  {
   "cell_type": "code",
   "execution_count": 211,
   "metadata": {},
   "outputs": [
    {
     "name": "stdout",
     "output_type": "stream",
     "text": [
      "the precision of Win: 0.3432620706221475\n",
      "the precision of Exacta: 0.10076867643526304\n",
      "the pnl for Win: 0.29129662522202476\n",
      "the pnl for Exacta: 0.062344582593250486\n"
     ]
    }
   ],
   "source": [
    "df_calibrate_3 = df_calibrate[df_calibrate[\"TR_pool\"]<df_calibrate[\"EX_pool\"]]\n",
    "df = df_calibrate_3[['race_id','EX_payout',\"WN_payout\",'runner_program_number_pp','official_finish_position','prob_x8runner_HDWPSRRating_norm_par']]\n",
    "df = harville_betting(df,'Win')\n",
    "df = harville_betting(df,\"Exacta\")\n",
    "betting_test(df)"
   ]
  },
  {
   "cell_type": "markdown",
   "metadata": {},
   "source": [
    "# Conclusion\n",
    "\n",
    "* The model performed better when TR pool > EX pool. \n",
    "* Betting on Win based on Prob_HDWPSRRating_norm_par is much more benificial and accurate(stable) than betting on Exacta using this model"
   ]
  },
  {
   "cell_type": "code",
   "execution_count": null,
   "metadata": {},
   "outputs": [],
   "source": []
  }
 ],
 "metadata": {
  "kernelspec": {
   "display_name": "Python 3",
   "language": "python",
   "name": "python3"
  },
  "language_info": {
   "codemirror_mode": {
    "name": "ipython",
    "version": 3
   },
   "file_extension": ".py",
   "mimetype": "text/x-python",
   "name": "python",
   "nbconvert_exporter": "python",
   "pygments_lexer": "ipython3",
   "version": "3.5.4"
  }
 },
 "nbformat": 4,
 "nbformat_minor": 2
}
