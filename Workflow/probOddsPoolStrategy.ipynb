{
 "cells": [
  {
   "cell_type": "markdown",
   "metadata": {},
   "source": [
    "# To Yao\n",
    "\n"
   ]
  },
  {
   "cell_type": "code",
   "execution_count": 2,
   "metadata": {},
   "outputs": [],
   "source": [
    "import sys\n",
    "sys.path.append('I:/YaoTony/code/x8313')\n",
    "# sys.path.append('d:/Codes/EquineTrading/')\n",
    "from datetime import date\n",
    "import pytest\n",
    "from pandas import date_range\n",
    "import pandas as pd\n",
    "from horse.betsim.wrap.jcapper import JCapper\n",
    "from horse.betsim.math import compute_probs_from_odds\n",
    "import numpy as np"
   ]
  },
  {
   "cell_type": "code",
   "execution_count": 17,
   "metadata": {},
   "outputs": [],
   "source": [
    "df_payoutpool = pd.read_csv(\"df_calibrate_payoutpool_2080630.csv\")\n",
    "df_CALIBRATE = pd.read_csv(\"DF_CALIBRATE_20180630.csv\")"
   ]
  },
  {
   "cell_type": "markdown",
   "metadata": {},
   "source": [
    "## Data Comparison\n",
    "\n",
    "The only difference between two dataset is that df_calibrate_payoutpool_2080630.csv has 19 more races. And moreover, it has more reduntant data."
   ]
  },
  {
   "cell_type": "code",
   "execution_count": 18,
   "metadata": {},
   "outputs": [
    {
     "data": {
      "text/plain": [
       "(4226, 42)"
      ]
     },
     "execution_count": 18,
     "metadata": {},
     "output_type": "execute_result"
    }
   ],
   "source": [
    "df_payoutpool.shape"
   ]
  },
  {
   "cell_type": "code",
   "execution_count": 44,
   "metadata": {},
   "outputs": [
    {
     "data": {
      "text/plain": [
       "(1383, 6)"
      ]
     },
     "execution_count": 44,
     "metadata": {},
     "output_type": "execute_result"
    }
   ],
   "source": [
    "df_CALIBRATE.shape"
   ]
  },
  {
   "cell_type": "code",
   "execution_count": 40,
   "metadata": {},
   "outputs": [],
   "source": [
    "df_CALIBRATE = df_CALIBRATE.sort_values(by=[\"race_id\"])\n"
   ]
  },
  {
   "cell_type": "code",
   "execution_count": 41,
   "metadata": {},
   "outputs": [
    {
     "data": {
      "text/plain": [
       "182"
      ]
     },
     "execution_count": 41,
     "metadata": {},
     "output_type": "execute_result"
    }
   ],
   "source": [
    "len(set(df_CALIBRATE[\"race_id\"]))"
   ]
  },
  {
   "cell_type": "code",
   "execution_count": 39,
   "metadata": {},
   "outputs": [
    {
     "data": {
      "text/plain": [
       "201"
      ]
     },
     "execution_count": 39,
     "metadata": {},
     "output_type": "execute_result"
    }
   ],
   "source": [
    "len(set(df_payoutpool[\"race_id\"]))"
   ]
  },
  {
   "cell_type": "code",
   "execution_count": 49,
   "metadata": {},
   "outputs": [
    {
     "name": "stdout",
     "output_type": "stream",
     "text": [
      "ABT_20160703_1\n",
      "ARP_20160703_1\n",
      "ABT_20160703_4\n",
      "LBG_20160703_4\n",
      "CPW_20160703_8\n",
      "ABT_20160703_2\n",
      "GRP_20160703_5\n",
      "ABT_20160703_7\n",
      "LRL_20160703_2\n",
      "ABT_20160703_6\n",
      "CPW_20160703_9\n",
      "MNR_20160703_1\n",
      "ELP_20160703_3\n",
      "RUI_20160703_7\n",
      "ELP_20160703_9\n",
      "ABT_20160703_5\n",
      "ABT_20160703_3\n",
      "GRP_20160703_3\n",
      "CBY_20160703_3\n"
     ]
    }
   ],
   "source": [
    "# The races no in df_CALIBRATE\n",
    "for race_id in set(df_payoutpool[\"race_id\"]):\n",
    "    if race_id not in set(df_CALIBRATE[\"race_id\"]):\n",
    "        print(race_id)"
   ]
  },
  {
   "cell_type": "markdown",
   "metadata": {},
   "source": []
  },
  {
   "cell_type": "code",
   "execution_count": 54,
   "metadata": {},
   "outputs": [],
   "source": [
    "df_payoutpool = df_payoutpool[[\"race_id\",\"bet_type\",\"payout\",\"pool_name\",\"pool_size\",\"pool_type\",\"bet_amount\",\\\n",
    "               \"runners\",\"num_starters\",\"pct_cover_exacta\",\"pct_cover_trifecta\",\"pct_cover_superfecta\"\n",
    "]]"
   ]
  },
  {
   "cell_type": "markdown",
   "metadata": {},
   "source": [
    "## Data Combination\n",
    "* Question 1: What is pool_type means in df_payoutpool. It shows that even for the same race and bet, there can be different pool_type, so it should not be a feature for race.\n",
    "\n",
    "* Question 2: We don't have odds information in both dataset \n",
    "\n",
    "\n",
    "Note that pool size is a character of pool which denoted as pool_name, WPS means the combined pool of win, place, and show."
   ]
  },
  {
   "cell_type": "code",
   "execution_count": 55,
   "metadata": {},
   "outputs": [
    {
     "name": "stdout",
     "output_type": "stream",
     "text": [
      "             race_id bet_type  payout pool_name  pool_size  pool_type  \\\n",
      "1517  FEX_20160703_4       TR   95.30        TR    18536.0          4   \n",
      "1518  FEX_20160703_4       EX   27.45        EX    20117.0          3   \n",
      "1519  FEX_20160703_4       SU  601.75        SU    13144.0          5   \n",
      "1520  FEX_20160703_4       WN   10.95       WPS    31236.0          0   \n",
      "1521  FEX_20160703_4       WN   10.95       WPS    31236.0          1   \n",
      "1522  FEX_20160703_4       WN   10.95       WPS    31236.0          2   \n",
      "1523  FEX_20160703_4       PL    4.25       WPS    31236.0          0   \n",
      "1524  FEX_20160703_4       PL    4.25       WPS    31236.0          1   \n",
      "1525  FEX_20160703_4       PL    4.25       WPS    31236.0          2   \n",
      "1526  FEX_20160703_4       SH    2.45       WPS    31236.0          0   \n",
      "1527  FEX_20160703_4       SH    2.45       WPS    31236.0          1   \n",
      "1528  FEX_20160703_4       SH    2.45       WPS    31236.0          2   \n",
      "1529  FEX_20160703_4       PL    1.80       WPS    31236.0          0   \n",
      "1530  FEX_20160703_4       PL    1.80       WPS    31236.0          1   \n",
      "1531  FEX_20160703_4       PL    1.80       WPS    31236.0          2   \n",
      "1532  FEX_20160703_4       SH    1.35       WPS    31236.0          0   \n",
      "1533  FEX_20160703_4       SH    1.35       WPS    31236.0          1   \n",
      "1534  FEX_20160703_4       SH    1.35       WPS    31236.0          2   \n",
      "1535  FEX_20160703_4       SH    1.85       WPS    31236.0          0   \n",
      "1536  FEX_20160703_4       SH    1.85       WPS    31236.0          1   \n",
      "1537  FEX_20160703_4       SH    1.85       WPS    31236.0          2   \n",
      "\n",
      "      bet_amount  runners  num_starters  pct_cover_exacta  pct_cover_trifecta  \\\n",
      "1517         1.0    1-4-7             8          1.701786            0.283631   \n",
      "1518         1.0      1-4             8          0.490179            0.081696   \n",
      "1519         1.0  1-4-7-5             8         10.745536            1.790923   \n",
      "1520         1.0        1             8          0.195536            0.032589   \n",
      "1521         1.0        1             8          0.195536            0.032589   \n",
      "1522         1.0        1             8          0.195536            0.032589   \n",
      "1523         1.0        1             8          0.075893            0.012649   \n",
      "1524         1.0        1             8          0.075893            0.012649   \n",
      "1525         1.0        1             8          0.075893            0.012649   \n",
      "1526         1.0        1             8          0.043750            0.007292   \n",
      "1527         1.0        1             8          0.043750            0.007292   \n",
      "1528         1.0        1             8          0.043750            0.007292   \n",
      "1529         1.0        4             8          0.032143            0.005357   \n",
      "1530         1.0        4             8          0.032143            0.005357   \n",
      "1531         1.0        4             8          0.032143            0.005357   \n",
      "1532         1.0        4             8          0.024107            0.004018   \n",
      "1533         1.0        4             8          0.024107            0.004018   \n",
      "1534         1.0        4             8          0.024107            0.004018   \n",
      "1535         1.0        7             8          0.033036            0.005506   \n",
      "1536         1.0        7             8          0.033036            0.005506   \n",
      "1537         1.0        7             8          0.033036            0.005506   \n",
      "\n",
      "      pct_cover_superfecta  \n",
      "1517              0.056726  \n",
      "1518              0.016339  \n",
      "1519              0.358185  \n",
      "1520              0.006518  \n",
      "1521              0.006518  \n",
      "1522              0.006518  \n",
      "1523              0.002530  \n",
      "1524              0.002530  \n",
      "1525              0.002530  \n",
      "1526              0.001458  \n",
      "1527              0.001458  \n",
      "1528              0.001458  \n",
      "1529              0.001071  \n",
      "1530              0.001071  \n",
      "1531              0.001071  \n",
      "1532              0.000804  \n",
      "1533              0.000804  \n",
      "1534              0.000804  \n",
      "1535              0.001101  \n",
      "1536              0.001101  \n",
      "1537              0.001101  \n",
      "            race_id  EX_payout runner_program_number_pp  x8is_exacta  \\\n",
      "478  FEX_20160703_4      27.45                        2          0.0   \n",
      "476  FEX_20160703_4      27.45                        3          0.0   \n",
      "475  FEX_20160703_4      27.45                        8          0.0   \n",
      "477  FEX_20160703_4      27.45                        6          0.0   \n",
      "471  FEX_20160703_4      27.45                        1          1.0   \n",
      "474  FEX_20160703_4      27.45                        5          0.0   \n",
      "473  FEX_20160703_4      27.45                        7          0.0   \n",
      "472  FEX_20160703_4      27.45                        4          1.0   \n",
      "\n",
      "     official_finish_position  prob_x8runner_HDWPSRRating_norm_par  \n",
      "478                       8.0                             0.000223  \n",
      "476                       6.0                             0.080995  \n",
      "475                       5.0                             0.365128  \n",
      "477                       7.0                             0.091672  \n",
      "471                       1.0                             0.071364  \n",
      "474                       4.0                             0.071364  \n",
      "473                       3.0                             0.116490  \n",
      "472                       2.0                             0.202765  \n"
     ]
    }
   ],
   "source": [
    "# An example process, here only print out the group information.\n",
    "for race_id in set(df_CALIBRATE[\"race_id\"]):\n",
    "    print(df_payoutpool[df_payoutpool[\"race_id\"]==race_id])\n",
    "    print(df_CALIBRATE[df_CALIBRATE[\"race_id\"]==race_id])\n",
    "    break"
   ]
  },
  {
   "cell_type": "markdown",
   "metadata": {},
   "source": [
    "## Strategy Classification"
   ]
  },
  {
   "cell_type": "code",
   "execution_count": null,
   "metadata": {},
   "outputs": [],
   "source": [
    "def compute_payout(df, attr_model, bet_amount_equal, bet_amount_inequal, bet_on='final_tote_odds'):\n",
    "    \"\"\"\n",
    "    Add columns for quick calculation of Win bets % payout\n",
    "    :param df: Dataframe from dataset for multiple races\n",
    "    :param attr_model: (string)an attribute / prob or score in the dataframe that can be ranked\n",
    "    :param bet_amount_equal: bet_amount when ranking 1 runner according to attr_model is the same with favourate runner according to final tote odds\n",
    "    :param bet_amount_inequal: bet_amount when ranking 1 runner according to attr_model is different with favourate runner according to final tote odds\n",
    "    :param bet_on: if bet on ranking 1 runner according to attr_model or favourate runner according to final tote odds\n",
    "    :return: Dataframe with columns added\n",
    "\n",
    "    \"\"\"\n",
    "    df['is_win'] = df['official_finish_position'].map(lambda x: int(x == 1))\n",
    "    df['rank_' + attr_model] = df.groupby('race_id')[attr_model].transform(lambda x: x.rank(ascending=False))\n",
    "    if bet_amount_equal == 'strat_double':\n",
    "        df['bet_amount'] = df['rank_' + bet_on].map(lambda x: int(x < 1.5) * 2.0)\n",
    "    elif bet_amount_equal == 'strat_pass':\n",
    "        df['bet_amount'] = df['rank_' + bet_on].map(lambda x: int(x < 1.5) * 0.0)\n",
    "    elif bet_amount_equal == 'strat_unchanged':\n",
    "        df['bet_amount'] = df['rank_' + bet_on].map(lambda x: int(x < 1.5) * 1.0)\n",
    "    elif bet_amount_equal == 'strat_inverse_scaled':\n",
    "        df['bet_amount'] = df['rank_' + bet_on].map(lambda x: int(x < 1.5) * 1.0) / df[attr_model]\n",
    "    else:\n",
    "        print('bet_amount_equal error!')\n",
    "        return (None)\n",
    "\n",
    "    symbol = ['final_tote_odds', attr_model]\n",
    "    symbol.remove(bet_on)\n",
    "    symbol_left = symbol[0]\n",
    "\n",
    "    if bet_amount_inequal == 'strat_double':\n",
    "        df.loc[(df['rank_' + bet_on] < 1.5) & (df['rank_' + symbol_left] > 1.5), 'bet_amount'] = 2.0\n",
    "    elif bet_amount_inequal == 'strat_pass':\n",
    "        df.loc[(df['rank_' + bet_on] < 1.5) & (df['rank_' + symbol_left] > 1.5), 'bet_amount'] = 0.0\n",
    "    elif bet_amount_inequal == 'strat_unchanged':\n",
    "        df.loc[(df['rank_' + bet_on] < 1.5) & (df['rank_' + symbol_left] > 1.5), 'bet_amount'] = 1.0\n",
    "    elif bet_amount_inequal == 'strat_inverse_scaled':\n",
    "        df.loc[(df['rank_' + bet_on] < 1.5) & (df['rank_' + symbol_left] > 1.5), 'bet_amount'] = 1 / df.loc[\n",
    "            (df['rank_' + bet_on] < 1.5) & (df['rank_' + symbol_left] > 1.5), attr_model]\n",
    "    else:\n",
    "        print('bet_amount_inequal error!')\n",
    "        return (None)\n",
    "\n",
    "    df['is_wager'] = df['bet_amount'].map(lambda x: int(x > 0))\n",
    "    df['is_paid'] = df['is_wager'] * df['is_win']\n",
    "    df['payout'] = df['is_win'] * df['bet_amount'] * df['payout_win'].fillna(0.0)\n",
    "\n",
    "    return df"
   ]
  }
 ],
 "metadata": {
  "kernelspec": {
   "display_name": "Python 3",
   "language": "python",
   "name": "python3"
  },
  "language_info": {
   "codemirror_mode": {
    "name": "ipython",
    "version": 3
   },
   "file_extension": ".py",
   "mimetype": "text/x-python",
   "name": "python",
   "nbconvert_exporter": "python",
   "pygments_lexer": "ipython3",
   "version": "3.5.4"
  }
 },
 "nbformat": 4,
 "nbformat_minor": 2
}
