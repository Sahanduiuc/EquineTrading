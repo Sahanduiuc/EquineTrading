{
 "cells": [
  {
   "cell_type": "code",
   "execution_count": null,
   "metadata": {},
   "outputs": [],
   "source": [
    "# for debugging the jcapper loader code, run this script \"python -i load_jcapper.py\"\n",
    "import sys\n",
    "sys.path.append('I:/YaoTony/code/x8313')\n",
    "sys.path.append('/Users/saleemhuda/Dropbox/X8313_Live')\n",
    "from datetime import date\n",
    "import pytest\n",
    "from pandas import date_range\n",
    "import pandas as pd\n",
    "\n",
    "def compute_simple_payout(df, attr_model, ascending=False, bet_amount=1.0):\n",
    "    \"\"\"\n",
    "    Add columns for quick calculation of Win bets % payout\n",
    "    :param df: Dataframe from dataset for multiple races\n",
    "    :param attr_model: (string)an attribute / prob or score in the dataframe that can be ranked\n",
    "    :param ascending: False if best is higher score i.e. probs\n",
    "    :param bet_amount: default to 1.0\n",
    "    :return: Dataframe with columns added\n",
    "\n",
    "    \"\"\"\n",
    "    df['is_win'] = df['official_finish_position'].map(lambda x:int(x==1))\n",
    "    #df['rank_' + attr_model] = df.groupby('race_id')[attr_model].transform(lambda x:x.rank(ascending=False))\n",
    "    df['bet_amount'] = 1.0#df['rank_' + attr_model].map(lambda x:int(x<1.5)*bet_amount)\n",
    "    df['is_wager'] = df['bet_amount'].map(lambda x:int(x>0))\n",
    "    df['is_paid'] = df['is_wager'] * df['is_win']\n",
    "    df['payout'] = df['is_win']*df['bet_amount']*df['payout_win'].fillna(0.0)\n",
    "\n",
    "    return df\n",
    "\n",
    "def add_criteria(df, criteria_list):\n",
    "    print(\"num_runners: {}\".format(len(df.runner_id.unique())))\n",
    "\n",
    "    for c in criteria_list:\n",
    "        df = df[c]\n",
    "        print(\"num_runners: {}\".format(len(df.runner_id.unique())))\n",
    "    return df\n",
    "    \n",
    "\n",
    "def compute_advantage(df,rebate=0.0):\n",
    "\n",
    "    pct_win = df.groupby('race_id')['is_paid'].sum().value_counts(normalize=True)[1]\n",
    "\n",
    "    pct_loss = 1.0 - pct_win\n",
    "    mean_odds = df[df.is_paid>0]['final_tote_odds'].mean()\n",
    "    advantage = pct_win  - pct_loss / mean_odds\n",
    "    print(advantage)\n",
    "    return advantage\n"
   ]
  },
  {
   "cell_type": "code",
   "execution_count": null,
   "metadata": {},
   "outputs": [],
   "source": [
    "df_hist = pd.read_csv('./dfX_hist.csv')\n",
    "df_hist = df_hist[df_hist['track_id']=='LAD']\n",
    "df_hist['payout_win'] = df_hist['final_tote_odds']+1"
   ]
  },
  {
   "cell_type": "code",
   "execution_count": null,
   "metadata": {},
   "outputs": [],
   "source": [
    "attr = 'prob_x8runner_HDWPSRRating_norm_par'\n",
    "rbt = 0.0865\n",
    "#since advantage is nothing about bet_amount, we use the original functions without bet_amount type.\n",
    "df_1 = compute_simple_payout(df_hist, attr_model = attr, ascending=False, bet_amount=1.0)\n",
    "advantage = compute_advantage(df_1,rebate=rbt)"
   ]
  },
  {
   "cell_type": "code",
   "execution_count": null,
   "metadata": {},
   "outputs": [],
   "source": [
    "crit_par_HDW = df_hist.x8is_HDWPSRRating_norm_par>0\n",
    "crit_not_top_HDW = df_hist.x8runner_rank_HDWPSRRating_norm_par>1\n",
    "criteria_list_speed = [crit_par_HDW, crit_not_top_speed, crit_not_top_HDW]"
   ]
  },
  {
   "cell_type": "code",
   "execution_count": null,
   "metadata": {},
   "outputs": [],
   "source": [
    "df_hist = add_criteria(df=df_hist, criteria_list=criteria_list_speed)"
   ]
  },
  {
   "cell_type": "code",
   "execution_count": null,
   "metadata": {},
   "outputs": [],
   "source": [
    "df_hist"
   ]
  },
  {
   "cell_type": "code",
   "execution_count": null,
   "metadata": {},
   "outputs": [],
   "source": [
    "compute_advantage(df_hist)"
   ]
  },
  {
   "cell_type": "code",
   "execution_count": null,
   "metadata": {},
   "outputs": [],
   "source": [
    "df_hist_filter.prob_x8runner_HDWPSRRating_norm_par\n"
   ]
  },
  {
   "cell_type": "markdown",
   "metadata": {},
   "source": [
    "   "
   ]
  }
 ],
 "metadata": {
  "anaconda-cloud": {},
  "kernelspec": {
   "display_name": "Python 3",
   "language": "python",
   "name": "python3"
  },
  "language_info": {
   "codemirror_mode": {
    "name": "ipython",
    "version": 3
   },
   "file_extension": ".py",
   "mimetype": "text/x-python",
   "name": "python",
   "nbconvert_exporter": "python",
   "pygments_lexer": "ipython3",
   "version": "3.5.4"
  }
 },
 "nbformat": 4,
 "nbformat_minor": 1
}
