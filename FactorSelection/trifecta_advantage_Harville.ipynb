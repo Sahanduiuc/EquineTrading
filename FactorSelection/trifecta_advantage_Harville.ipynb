{
 "cells": [
  {
   "cell_type": "code",
   "execution_count": 136,
   "metadata": {
    "collapsed": false
   },
   "outputs": [],
   "source": [
    "import sys\n",
    "sys.path.append('I:/YaoTony/code/x8313')\n",
    "sys.path.append('I:/YaoTony/saleem tasks')\n",
    "import Harville\n",
    "#ys.path.append('/Users/saleemhuda/Dropbox/X8313_Live')\n",
    "from datetime import date\n",
    "import pytest\n",
    "from pandas import date_range\n",
    "import pandas as pd\n",
    "from horse.betsim import data\n",
    "import os.path\n",
    "track_detail = os.path.join(data.__path__._path[0], 'track_detail.csv')\n",
    "df_track_detail = pd.read_csv(track_detail, index_col=['x8_track_sym'])\n",
    "map_jcp_itsp = df_track_detail.set_index('jcp_track_sym')['itsp_track_sym'].to_dict()\n",
    "map_rebates_win = df_track_detail.WN.to_dict()\n",
    "df_hist = pd.read_csv('I:/YaoTony/saleem tasks/dfX_hist.csv')#i did not find dfX_hist in local database, so I use the one in dropbox\n",
    "df_hist['payout_win'] = df_hist['final_tote_odds']+1\n",
    "df_hist['rebate_win'] = df_hist['track_id'].map(lambda x:map_rebates_win.get(x,0.0))"
   ]
  },
  {
   "cell_type": "code",
   "execution_count": 137,
   "metadata": {
    "collapsed": false,
    "scrolled": false
   },
   "outputs": [],
   "source": [
    "#set nan rebate to 0\n",
    "import numpy as np\n",
    "for key in map_rebates_win.keys():\n",
    "    if not np.isfinite(map_rebates_win[key]):\n",
    "        map_rebates_win[key]=0"
   ]
  },
  {
   "cell_type": "code",
   "execution_count": 138,
   "metadata": {
    "collapsed": false
   },
   "outputs": [
    {
     "name": "stdout",
     "output_type": "stream",
     "text": [
      "jcapper.load(2017-07-03)\n",
      "jcapper.load(2017-07-04)\n",
      "jcapper.load(2017-07-05)\n",
      "jcapper.load(2017-07-06)\n",
      "jcapper.load(2017-07-07)\n",
      "jcapper.load(2017-07-08)\n",
      "jcapper.load(2017-07-09)\n",
      "JCapper.load() filtering scratched horses reduced from 9447 to 8500\n"
     ]
    },
    {
     "name": "stderr",
     "output_type": "stream",
     "text": [
      "I:\\YaoTony\\code\\x8313\\horse\\betsim\\wrap\\jcapper.py:206: FutureWarning: Sorting because non-concatenation axis is not aligned. A future version\n",
      "of pandas will change to not sort by default.\n",
      "\n",
      "To accept the future behavior, pass 'sort=False'.\n",
      "\n",
      "To retain the current behavior and silence the warning, pass 'sort=True'.\n",
      "\n",
      "  df_payout = concat([df_payout, wps])\n",
      "I:\\YaoTony\\code\\x8313\\horse\\betsim\\wrap\\jcapper.py:273: RuntimeWarning: invalid value encountered in log\n",
      "  self.df['log_ratio_effectivestarters_morningline'] = -1.0 * log(self.df.num_effective_starters_morning_line / self.df.num_starters)\n"
     ]
    },
    {
     "name": "stdout",
     "output_type": "stream",
     "text": [
      "load_jcapper: loaded 8500 rows\n"
     ]
    }
   ],
   "source": [
    "from horse.betsim.math import compute_probs_from_odds\n",
    "from horse.betsim.wrap.jcapper import JCapper\n",
    "# load JCapper Breeders Cup Results file\n",
    "jcp = JCapper(verbose=True)\n",
    "jcp.load(date_range(date(2017, 7, 3), date(2017, 7, 9)))#you can adjust the date\n",
    "jcp.add_computed_columns()\n",
    "\n",
    "print('load_jcapper: loaded %d rows' % (len(jcp.df)))\n",
    "\n",
    "dfpay = jcp.df_payout.copy() #exotic bets payouts in easier form\n",
    "dfres = jcp.df.copy() #race results dataframe"
   ]
  },
  {
   "cell_type": "code",
   "execution_count": 139,
   "metadata": {
    "collapsed": false
   },
   "outputs": [],
   "source": [
    "#only keep trifecta payout data\n",
    "dfpay_tri = dfpay[dfpay['wager_name'].isin(['Triactor','Trifecta'])].reset_index(drop=True)\n",
    "#build a function that split one column in df to 3\n",
    "splitdf = lambda x: pd.Series([i for i in x.split('-')])\n",
    "splitdf1 = lambda x: pd.Series([i for i in x.split('_')])\n",
    "dfpay_tri_place = dfpay_tri['wager_winningPGM'].apply(splitdf)\n",
    "dfpay_tri_place.columns = ['first_place','second_place','third_place']\n",
    "dfpay_tri = pd.concat([dfpay_tri, dfpay_tri_place], axis=1)\n",
    "dfpay_tri_track = dfpay_tri['race_id'].apply(splitdf1)\n",
    "dfpay_tri['track_id'] = dfpay_tri_track[0]\n",
    "dfpay_tri['payout_1dollar']=dfpay_tri['wager_payout']/dfpay_tri['wager_unit']"
   ]
  },
  {
   "cell_type": "code",
   "execution_count": 140,
   "metadata": {
    "collapsed": false
   },
   "outputs": [],
   "source": [
    "#only keep the races that are also in df_hist\n",
    "dfpay_tri['use'] = dfpay_tri['race_id'].isin(list(df_hist['race_id']))\n",
    "dfpay_tri_use = dfpay_tri[dfpay_tri['use']==True]\n"
   ]
  },
  {
   "cell_type": "code",
   "execution_count": 141,
   "metadata": {
    "collapsed": false
   },
   "outputs": [
    {
     "data": {
      "text/plain": [
       "40"
      ]
     },
     "execution_count": 141,
     "metadata": {},
     "output_type": "execute_result"
    }
   ],
   "source": [
    "track_set = set(dfpay_tri_use['track_id'])\n",
    "len(track_set)"
   ]
  },
  {
   "cell_type": "code",
   "execution_count": 142,
   "metadata": {
    "collapsed": false
   },
   "outputs": [
    {
     "data": {
      "text/html": [
       "<div>\n",
       "<style scoped>\n",
       "    .dataframe tbody tr th:only-of-type {\n",
       "        vertical-align: middle;\n",
       "    }\n",
       "\n",
       "    .dataframe tbody tr th {\n",
       "        vertical-align: top;\n",
       "    }\n",
       "\n",
       "    .dataframe thead th {\n",
       "        text-align: right;\n",
       "    }\n",
       "</style>\n",
       "<table border=\"1\" class=\"dataframe\">\n",
       "  <thead>\n",
       "    <tr style=\"text-align: right;\">\n",
       "      <th></th>\n",
       "      <th>race_id</th>\n",
       "      <th>wager_number</th>\n",
       "      <th>wager_numright</th>\n",
       "      <th>wager_payout</th>\n",
       "      <th>wager_pool</th>\n",
       "      <th>wager_type</th>\n",
       "      <th>wager_unit</th>\n",
       "      <th>wager_winningPGM</th>\n",
       "      <th>wager_name</th>\n",
       "      <th>wager_axis</th>\n",
       "      <th>first_place</th>\n",
       "      <th>second_place</th>\n",
       "      <th>third_place</th>\n",
       "      <th>track_id</th>\n",
       "      <th>payout_1dollar</th>\n",
       "      <th>use</th>\n",
       "    </tr>\n",
       "  </thead>\n",
       "  <tbody>\n",
       "    <tr>\n",
       "      <th>0</th>\n",
       "      <td>FEX_20170704_1</td>\n",
       "      <td>1</td>\n",
       "      <td>NaN</td>\n",
       "      <td>69.5</td>\n",
       "      <td>18856.0</td>\n",
       "      <td>A</td>\n",
       "      <td>2.0</td>\n",
       "      <td>1-5-4</td>\n",
       "      <td>Triactor</td>\n",
       "      <td>None</td>\n",
       "      <td>1</td>\n",
       "      <td>5</td>\n",
       "      <td>4</td>\n",
       "      <td>FEX</td>\n",
       "      <td>34.75</td>\n",
       "      <td>True</td>\n",
       "    </tr>\n",
       "    <tr>\n",
       "      <th>1</th>\n",
       "      <td>FEX_20170704_2</td>\n",
       "      <td>1</td>\n",
       "      <td>NaN</td>\n",
       "      <td>132.9</td>\n",
       "      <td>8562.0</td>\n",
       "      <td>A</td>\n",
       "      <td>2.0</td>\n",
       "      <td>5-1-2</td>\n",
       "      <td>Triactor</td>\n",
       "      <td>None</td>\n",
       "      <td>5</td>\n",
       "      <td>1</td>\n",
       "      <td>2</td>\n",
       "      <td>FEX</td>\n",
       "      <td>66.45</td>\n",
       "      <td>True</td>\n",
       "    </tr>\n",
       "    <tr>\n",
       "      <th>2</th>\n",
       "      <td>ASD_20170705_1</td>\n",
       "      <td>1</td>\n",
       "      <td>NaN</td>\n",
       "      <td>42.1</td>\n",
       "      <td>1809.0</td>\n",
       "      <td>A</td>\n",
       "      <td>2.0</td>\n",
       "      <td>2-1-3</td>\n",
       "      <td>Triactor</td>\n",
       "      <td>None</td>\n",
       "      <td>2</td>\n",
       "      <td>1</td>\n",
       "      <td>3</td>\n",
       "      <td>ASD</td>\n",
       "      <td>21.05</td>\n",
       "      <td>True</td>\n",
       "    </tr>\n",
       "    <tr>\n",
       "      <th>3</th>\n",
       "      <td>ASD_20170705_2</td>\n",
       "      <td>1</td>\n",
       "      <td>NaN</td>\n",
       "      <td>6.8</td>\n",
       "      <td>2559.0</td>\n",
       "      <td>A</td>\n",
       "      <td>2.0</td>\n",
       "      <td>4-1-2</td>\n",
       "      <td>Triactor</td>\n",
       "      <td>None</td>\n",
       "      <td>4</td>\n",
       "      <td>1</td>\n",
       "      <td>2</td>\n",
       "      <td>ASD</td>\n",
       "      <td>3.40</td>\n",
       "      <td>True</td>\n",
       "    </tr>\n",
       "    <tr>\n",
       "      <th>4</th>\n",
       "      <td>ASD_20170707_1</td>\n",
       "      <td>1</td>\n",
       "      <td>NaN</td>\n",
       "      <td>15.6</td>\n",
       "      <td>2057.0</td>\n",
       "      <td>A</td>\n",
       "      <td>2.0</td>\n",
       "      <td>2-5-3</td>\n",
       "      <td>Triactor</td>\n",
       "      <td>None</td>\n",
       "      <td>2</td>\n",
       "      <td>5</td>\n",
       "      <td>3</td>\n",
       "      <td>ASD</td>\n",
       "      <td>7.80</td>\n",
       "      <td>True</td>\n",
       "    </tr>\n",
       "  </tbody>\n",
       "</table>\n",
       "</div>"
      ],
      "text/plain": [
       "          race_id wager_number  wager_numright  wager_payout  wager_pool  \\\n",
       "0  FEX_20170704_1            1             NaN          69.5     18856.0   \n",
       "1  FEX_20170704_2            1             NaN         132.9      8562.0   \n",
       "2  ASD_20170705_1            1             NaN          42.1      1809.0   \n",
       "3  ASD_20170705_2            1             NaN           6.8      2559.0   \n",
       "4  ASD_20170707_1            1             NaN          15.6      2057.0   \n",
       "\n",
       "  wager_type  wager_unit wager_winningPGM wager_name wager_axis first_place  \\\n",
       "0          A         2.0            1-5-4   Triactor       None           1   \n",
       "1          A         2.0            5-1-2   Triactor       None           5   \n",
       "2          A         2.0            2-1-3   Triactor       None           2   \n",
       "3          A         2.0            4-1-2   Triactor       None           4   \n",
       "4          A         2.0            2-5-3   Triactor       None           2   \n",
       "\n",
       "  second_place third_place track_id  payout_1dollar   use  \n",
       "0            5           4      FEX           34.75  True  \n",
       "1            1           2      FEX           66.45  True  \n",
       "2            1           3      ASD           21.05  True  \n",
       "3            1           2      ASD            3.40  True  \n",
       "4            5           3      ASD            7.80  True  "
      ]
     },
     "execution_count": 142,
     "metadata": {},
     "output_type": "execute_result"
    }
   ],
   "source": [
    "dfpay_tri_use.head()"
   ]
  },
  {
   "cell_type": "code",
   "execution_count": 143,
   "metadata": {
    "collapsed": false
   },
   "outputs": [],
   "source": [
    "def compute_advantage_new(df,track):\n",
    "    pct_win = len(df[df['is_paid']>1])/len(df)\n",
    "    pct_loss = 1.0 - pct_win\n",
    "    mean_odds = df[df.is_paid>0]['payout_1dollar'].mean()-1\n",
    "    advantage = pct_win - pct_loss / (mean_odds+map_rebates_win[track])\n",
    "    #print(advantage)\n",
    "    return advantage"
   ]
  },
  {
   "cell_type": "code",
   "execution_count": 144,
   "metadata": {
    "collapsed": false
   },
   "outputs": [
    {
     "name": "stderr",
     "output_type": "stream",
     "text": [
      "C:\\Anaconda3\\lib\\site-packages\\ipykernel\\__main__.py:2: SettingWithCopyWarning: \n",
      "A value is trying to be set on a copy of a slice from a DataFrame.\n",
      "Try using .loc[row_indexer,col_indexer] = value instead\n",
      "\n",
      "See the caveats in the documentation: http://pandas.pydata.org/pandas-docs/stable/indexing.html#indexing-view-versus-copy\n",
      "  from ipykernel import kernelapp as app\n"
     ]
    }
   ],
   "source": [
    "advan = {}\n",
    "dfpay_tri_use['is_paid'] = 0\n",
    "#Here we suppose alpha and beta are equal to 1 for every track, since alpha and beta may change depending on different historical set. \n",
    "#But we can optimize it through some codes.\n",
    "#Para_Harville = {}\n",
    "\n",
    "for track in track_set:\n",
    "    #Para_Harville[track] = [1, 1]#the first number is the optimal alpha in Harville, second is the optimal beta\n",
    "    dfpay_track = dfpay_tri_use[dfpay_tri_use['track_id']==track]\n",
    "    dfpay_track=dfpay_track.reset_index(drop=True)\n",
    "    raceset = set(dfpay_track['race_id'])\n",
    "    for race in raceset:\n",
    "        df_sub = df_hist[df_hist['race_id']==race]\n",
    "        dfpay_race = dfpay_track[dfpay_track['race_id']==race]\n",
    "        # here we set is_paid = 0  for races who has less than 3 runners. We may try better method to deal with this later\n",
    "        if len(df_sub)>2:\n",
    "        #fav is prob ranking 1 of trifecta combination and its prob\n",
    "            fav = Harville.harville_multiprob(list(df_sub['runner_program_number_pp']),list(df_sub['prob_x8runner_HDWPSRRating_norm_par']),'Trifecta')[0]\n",
    "            if (dfpay_race['first_place']==fav[0]).all() and (dfpay_race['second_place']==fav[1]).all() and (dfpay_race['third_place']==fav[2]).all():\n",
    "                dfpay_track.loc[dfpay_track['race_id']==race,'is_paid'] = 1\n",
    "    advan[track] = compute_advantage_new(dfpay_track,track)#nan is when 'is_paid' is all 0 in the track\n",
    "    "
   ]
  },
  {
   "cell_type": "code",
   "execution_count": 145,
   "metadata": {
    "collapsed": false
   },
   "outputs": [
    {
     "data": {
      "text/plain": [
       "{'ALB': -0.02710027100271003,\n",
       " 'APX': nan,\n",
       " 'ARP': nan,\n",
       " 'ASD': -0.07117437722419928,\n",
       " 'BEL': nan,\n",
       " 'BTP': nan,\n",
       " 'CBY': -0.1149425287356322,\n",
       " 'CTX': -0.04739336492890995,\n",
       " 'DEL': -0.0223463687150838,\n",
       " 'ELP': -0.014513788098693758,\n",
       " 'EMD': -0.028915662650602407,\n",
       " 'EVD': nan,\n",
       " 'FEX': -0.05128205128205128,\n",
       " 'FLX': nan,\n",
       " 'FMT': -0.04366812227074236,\n",
       " 'FPK': -0.03289473684210526,\n",
       " 'GPR': nan,\n",
       " 'GPX': nan,\n",
       " 'GRP': -0.059880239520958084,\n",
       " 'HPO': nan,\n",
       " 'HST': nan,\n",
       " 'IND': nan,\n",
       " 'LAD': nan,\n",
       " 'LAX': nan,\n",
       " 'LRC': -0.04519774011299436,\n",
       " 'LRL': nan,\n",
       " 'LSX': -0.043859649122807015,\n",
       " 'MDX': nan,\n",
       " 'MTH': nan,\n",
       " 'NPX': nan,\n",
       " 'PEN': -0.05509641873278237,\n",
       " 'PHA': nan,\n",
       " 'PID': -0.037037037037037035,\n",
       " 'PLN': -0.11235955056179775,\n",
       " 'PRM': -0.06968641114982578,\n",
       " 'RUI': nan,\n",
       " 'SAX': nan,\n",
       " 'SUF': -0.08097165991902833,\n",
       " 'TDN': -0.033955857385398976,\n",
       " 'WYO': nan}"
      ]
     },
     "execution_count": 145,
     "metadata": {},
     "output_type": "execute_result"
    }
   ],
   "source": [
    "advan #nan is when 'is_paid' is all 0 in the track"
   ]
  },
  {
   "cell_type": "code",
   "execution_count": null,
   "metadata": {
    "collapsed": true
   },
   "outputs": [],
   "source": []
  }
 ],
 "metadata": {
  "kernelspec": {
   "display_name": "Python 3",
   "language": "python",
   "name": "python3"
  },
  "language_info": {
   "codemirror_mode": {
    "name": "ipython",
    "version": 3
   },
   "file_extension": ".py",
   "mimetype": "text/x-python",
   "name": "python",
   "nbconvert_exporter": "python",
   "pygments_lexer": "ipython3",
   "version": "3.5.2"
  }
 },
 "nbformat": 4,
 "nbformat_minor": 1
}
