{
 "cells": [
  {
   "cell_type": "markdown",
   "metadata": {},
   "source": [
    "# Nearest Neighbor Prediction In Equine Time-Series\n",
    "\n",
    "In this notebook, we use nearest neighbor algorithm to predict the will to win of the next race.\n",
    "\n",
    "## Intention\n",
    "\n",
    "We want this sequence predictor to capture the insider's sentiment (He or she may not want to win in a certain race to drive up the odds).\n",
    "\n",
    "## Hyper-Parameters\n",
    "\n",
    "* n_lages: the number of time window lags\n",
    "* n_neighbors: the number of neighbors in k-NN\n",
    "\n",
    "## Features: X (todo: ask Saleem)\n",
    "\n",
    "Here, we define the features as the dataset racing starters (e.g. trainer/jockey/owner) concerns\n",
    "\n",
    "\n",
    "* last_n_positions\n",
    "* last_n_races\n",
    "* last_n_purse\n",
    "* final_tote_odds\n",
    "\n",
    "## Prediction: y (todo: ask Saleem)\n",
    "\n",
    "We denote the will to win as the following:\n",
    "\n",
    "$$y^{(i)}=True \\quad iff \\quad {sample}^{(i)}[\\mbox{\"official_finish_position\"}]<=3$$\n",
    "\n",
    "\n",
    "## Prediction Model: KNN\n",
    "\n",
    "k-nearest neighbor algorithm is a non-parametric method used for classification and regression. In both cases, the input consists of the k closest training examples in the feature space.\n",
    "\n",
    "* X: n_samples $\\times$ n_features matrix\n",
    "* y: n_samples binary vector wether "
   ]
  },
  {
   "cell_type": "code",
   "execution_count": 1,
   "metadata": {
    "collapsed": true
   },
   "outputs": [],
   "source": [
    "import pandas as pd\n",
    "import numpy as np\n",
    "import matplotlib.pyplot as plt"
   ]
  },
  {
   "cell_type": "code",
   "execution_count": 194,
   "metadata": {
    "collapsed": true
   },
   "outputs": [],
   "source": [
    "n_lags = 2\n",
    "n_neighbors = 3"
   ]
  },
  {
   "cell_type": "code",
   "execution_count": 3,
   "metadata": {
    "collapsed": true
   },
   "outputs": [],
   "source": [
    "dfX_hist = pd.read_excel(\"dfX_hist.xlsx\")"
   ]
  },
  {
   "cell_type": "code",
   "execution_count": 4,
   "metadata": {
    "collapsed": false
   },
   "outputs": [
    {
     "data": {
      "text/html": [
       "<div>\n",
       "<style scoped>\n",
       "    .dataframe tbody tr th:only-of-type {\n",
       "        vertical-align: middle;\n",
       "    }\n",
       "\n",
       "    .dataframe tbody tr th {\n",
       "        vertical-align: top;\n",
       "    }\n",
       "\n",
       "    .dataframe thead th {\n",
       "        text-align: right;\n",
       "    }\n",
       "</style>\n",
       "<table border=\"1\" class=\"dataframe\">\n",
       "  <thead>\n",
       "    <tr style=\"text-align: right;\">\n",
       "      <th></th>\n",
       "      <th>track_id</th>\n",
       "      <th>date</th>\n",
       "      <th>race_id</th>\n",
       "      <th>runner_id</th>\n",
       "      <th>name_runner</th>\n",
       "      <th>jockey_name</th>\n",
       "      <th>index</th>\n",
       "      <th>race_number</th>\n",
       "      <th>distance</th>\n",
       "      <th>approx_dist</th>\n",
       "      <th>...</th>\n",
       "      <th>runner_program_number_pp</th>\n",
       "      <th>race_id_pp</th>\n",
       "      <th>race_race_num_pp</th>\n",
       "      <th>jcp_track_sym_pp</th>\n",
       "      <th>x8_num_runners</th>\n",
       "      <th>x8_num_starters_pp</th>\n",
       "      <th>x8_pct_dirty_HDWPSRRating_par_norm</th>\n",
       "      <th>year</th>\n",
       "      <th>month</th>\n",
       "      <th>weekday</th>\n",
       "    </tr>\n",
       "  </thead>\n",
       "  <tbody>\n",
       "    <tr>\n",
       "      <th>0</th>\n",
       "      <td>APX</td>\n",
       "      <td>2017-07-03</td>\n",
       "      <td>APX_20170703_1</td>\n",
       "      <td>APX_20170703_1_7</td>\n",
       "      <td>CALL ME HANDSOME</td>\n",
       "      <td>SANCHEZ DIEGO</td>\n",
       "      <td>0</td>\n",
       "      <td>1</td>\n",
       "      <td>1540</td>\n",
       "      <td>False</td>\n",
       "      <td>...</td>\n",
       "      <td>7</td>\n",
       "      <td>APX_20170703_1</td>\n",
       "      <td>1</td>\n",
       "      <td>APX</td>\n",
       "      <td>7</td>\n",
       "      <td>7</td>\n",
       "      <td>0</td>\n",
       "      <td>2017</td>\n",
       "      <td>7</td>\n",
       "      <td>0</td>\n",
       "    </tr>\n",
       "    <tr>\n",
       "      <th>1</th>\n",
       "      <td>APX</td>\n",
       "      <td>2017-07-03</td>\n",
       "      <td>APX_20170703_1</td>\n",
       "      <td>APX_20170703_1_4</td>\n",
       "      <td>COCOS EDDY</td>\n",
       "      <td>EMIGH CHRISTOPHER A</td>\n",
       "      <td>1</td>\n",
       "      <td>1</td>\n",
       "      <td>1540</td>\n",
       "      <td>False</td>\n",
       "      <td>...</td>\n",
       "      <td>4</td>\n",
       "      <td>APX_20170703_1</td>\n",
       "      <td>1</td>\n",
       "      <td>APX</td>\n",
       "      <td>7</td>\n",
       "      <td>7</td>\n",
       "      <td>0</td>\n",
       "      <td>2017</td>\n",
       "      <td>7</td>\n",
       "      <td>0</td>\n",
       "    </tr>\n",
       "    <tr>\n",
       "      <th>2</th>\n",
       "      <td>APX</td>\n",
       "      <td>2017-07-03</td>\n",
       "      <td>APX_20170703_1</td>\n",
       "      <td>APX_20170703_1_5</td>\n",
       "      <td>DA GOOSE</td>\n",
       "      <td>MEZA NICHOLAS</td>\n",
       "      <td>2</td>\n",
       "      <td>1</td>\n",
       "      <td>1540</td>\n",
       "      <td>False</td>\n",
       "      <td>...</td>\n",
       "      <td>5</td>\n",
       "      <td>APX_20170703_1</td>\n",
       "      <td>1</td>\n",
       "      <td>APX</td>\n",
       "      <td>7</td>\n",
       "      <td>7</td>\n",
       "      <td>0</td>\n",
       "      <td>2017</td>\n",
       "      <td>7</td>\n",
       "      <td>0</td>\n",
       "    </tr>\n",
       "    <tr>\n",
       "      <th>3</th>\n",
       "      <td>APX</td>\n",
       "      <td>2017-07-03</td>\n",
       "      <td>APX_20170703_1</td>\n",
       "      <td>APX_20170703_1_2</td>\n",
       "      <td>RIO SECO</td>\n",
       "      <td>VALDIVIA JR JOSE</td>\n",
       "      <td>3</td>\n",
       "      <td>1</td>\n",
       "      <td>1540</td>\n",
       "      <td>False</td>\n",
       "      <td>...</td>\n",
       "      <td>2</td>\n",
       "      <td>APX_20170703_1</td>\n",
       "      <td>1</td>\n",
       "      <td>APX</td>\n",
       "      <td>7</td>\n",
       "      <td>7</td>\n",
       "      <td>0</td>\n",
       "      <td>2017</td>\n",
       "      <td>7</td>\n",
       "      <td>0</td>\n",
       "    </tr>\n",
       "    <tr>\n",
       "      <th>4</th>\n",
       "      <td>APX</td>\n",
       "      <td>2017-07-03</td>\n",
       "      <td>APX_20170703_1</td>\n",
       "      <td>APX_20170703_1_6</td>\n",
       "      <td>TACO GRANDE</td>\n",
       "      <td>SANJUR SANTO</td>\n",
       "      <td>4</td>\n",
       "      <td>1</td>\n",
       "      <td>1540</td>\n",
       "      <td>False</td>\n",
       "      <td>...</td>\n",
       "      <td>6</td>\n",
       "      <td>APX_20170703_1</td>\n",
       "      <td>1</td>\n",
       "      <td>APX</td>\n",
       "      <td>7</td>\n",
       "      <td>7</td>\n",
       "      <td>0</td>\n",
       "      <td>2017</td>\n",
       "      <td>7</td>\n",
       "      <td>0</td>\n",
       "    </tr>\n",
       "  </tbody>\n",
       "</table>\n",
       "<p>5 rows × 253 columns</p>\n",
       "</div>"
      ],
      "text/plain": [
       "  track_id       date         race_id         runner_id       name_runner  \\\n",
       "0      APX 2017-07-03  APX_20170703_1  APX_20170703_1_7  CALL ME HANDSOME   \n",
       "1      APX 2017-07-03  APX_20170703_1  APX_20170703_1_4        COCOS EDDY   \n",
       "2      APX 2017-07-03  APX_20170703_1  APX_20170703_1_5          DA GOOSE   \n",
       "3      APX 2017-07-03  APX_20170703_1  APX_20170703_1_2          RIO SECO   \n",
       "4      APX 2017-07-03  APX_20170703_1  APX_20170703_1_6       TACO GRANDE   \n",
       "\n",
       "           jockey_name  index  race_number  distance  approx_dist   ...    \\\n",
       "0        SANCHEZ DIEGO      0            1      1540        False   ...     \n",
       "1  EMIGH CHRISTOPHER A      1            1      1540        False   ...     \n",
       "2        MEZA NICHOLAS      2            1      1540        False   ...     \n",
       "3     VALDIVIA JR JOSE      3            1      1540        False   ...     \n",
       "4         SANJUR SANTO      4            1      1540        False   ...     \n",
       "\n",
       "  runner_program_number_pp      race_id_pp race_race_num_pp jcp_track_sym_pp  \\\n",
       "0                        7  APX_20170703_1                1              APX   \n",
       "1                        4  APX_20170703_1                1              APX   \n",
       "2                        5  APX_20170703_1                1              APX   \n",
       "3                        2  APX_20170703_1                1              APX   \n",
       "4                        6  APX_20170703_1                1              APX   \n",
       "\n",
       "  x8_num_runners x8_num_starters_pp  x8_pct_dirty_HDWPSRRating_par_norm  year  \\\n",
       "0              7                  7                                   0  2017   \n",
       "1              7                  7                                   0  2017   \n",
       "2              7                  7                                   0  2017   \n",
       "3              7                  7                                   0  2017   \n",
       "4              7                  7                                   0  2017   \n",
       "\n",
       "   month weekday  \n",
       "0      7       0  \n",
       "1      7       0  \n",
       "2      7       0  \n",
       "3      7       0  \n",
       "4      7       0  \n",
       "\n",
       "[5 rows x 253 columns]"
      ]
     },
     "execution_count": 4,
     "metadata": {},
     "output_type": "execute_result"
    }
   ],
   "source": [
    "dfX_hist.head()"
   ]
  },
  {
   "cell_type": "code",
   "execution_count": 183,
   "metadata": {
    "collapsed": true
   },
   "outputs": [],
   "source": [
    "def col_past_features(n):\n",
    "    last_positions = [\"finish_pos_{}\".format(i) for i in range(n)]\n",
    "#     last_races = [\"race_classification_{}\".format(i) for i in range(n)]\n",
    "    last_races = []\n",
    "    last_purse = [\"purse_{}\".format(i) for i in range(n)]\n",
    "    horse_past_features = last_positions+last_races+last_purse\n",
    "    return horse_past_features"
   ]
  },
  {
   "cell_type": "code",
   "execution_count": 184,
   "metadata": {
    "collapsed": false
   },
   "outputs": [],
   "source": [
    "horse_past_features = col_past_features(n_lags)"
   ]
  },
  {
   "cell_type": "code",
   "execution_count": 185,
   "metadata": {
    "collapsed": false
   },
   "outputs": [],
   "source": [
    "factors = [\"date\",\"official_finish_position\",\"x8is_pos_top_3\",\"x8is_odds_top_3_favorable\",\"purse\",\"name_runner\", \"jockey_name\", \"race_classification\",\"final_tote_odds\" ]\n",
    "factors = factors + horse_past_features"
   ]
  },
  {
   "cell_type": "code",
   "execution_count": 186,
   "metadata": {
    "collapsed": false
   },
   "outputs": [
    {
     "data": {
      "text/plain": [
       "(2343,)"
      ]
     },
     "execution_count": 186,
     "metadata": {},
     "output_type": "execute_result"
    }
   ],
   "source": [
    "dfX_hist[\"trainer_name\"].unique().shape"
   ]
  },
  {
   "cell_type": "code",
   "execution_count": 187,
   "metadata": {
    "collapsed": false
   },
   "outputs": [],
   "source": [
    "n_trainer_data = dfX_hist.groupby(\"trainer_name\").apply(lambda x: len(x))\n",
    "trainer_names_more_than_25 = n_trainer_data[n_trainer_data>25].index.values"
   ]
  },
  {
   "cell_type": "code",
   "execution_count": 188,
   "metadata": {
    "collapsed": false
   },
   "outputs": [],
   "source": [
    "dfX_hist_new = dfX_hist.copy()\n",
    "dfX_hist_new = dfX_hist_new.set_index([\"trainer\",\"race_id\"])\n",
    "dfX_hist_new = dfX_hist_new.sort_index()\n",
    "# dfX_hist_new = dfX_hist_new.dropna(axis=0)\n",
    "dfX_hist_new[\"x8is_pos_top_3\"] = dfX_hist_new[\"official_finish_position\"].apply(lambda x: x<=3)\n",
    "dfX_hist_new[\"x8is_odds_top_3_favorable\"] = dfX_hist_new.groupby(\"race_id\")[\"final_tote_odds\"].transform(lambda x: x.rank()<=3)"
   ]
  },
  {
   "cell_type": "code",
   "execution_count": 189,
   "metadata": {
    "collapsed": false
   },
   "outputs": [],
   "source": [
    "idx = pd.IndexSlice\n",
    "trainer_sequence_df = dfX_hist_new.loc[idx[trainer_names_more_than_25,:],factors].dropna(axis=0)"
   ]
  },
  {
   "cell_type": "code",
   "execution_count": 190,
   "metadata": {
    "collapsed": false
   },
   "outputs": [
    {
     "data": {
      "text/html": [
       "<div>\n",
       "<style scoped>\n",
       "    .dataframe tbody tr th:only-of-type {\n",
       "        vertical-align: middle;\n",
       "    }\n",
       "\n",
       "    .dataframe tbody tr th {\n",
       "        vertical-align: top;\n",
       "    }\n",
       "\n",
       "    .dataframe thead th {\n",
       "        text-align: right;\n",
       "    }\n",
       "</style>\n",
       "<table border=\"1\" class=\"dataframe\">\n",
       "  <thead>\n",
       "    <tr style=\"text-align: right;\">\n",
       "      <th></th>\n",
       "      <th></th>\n",
       "      <th>date</th>\n",
       "      <th>official_finish_position</th>\n",
       "      <th>x8is_pos_top_3</th>\n",
       "      <th>x8is_odds_top_3_favorable</th>\n",
       "      <th>purse</th>\n",
       "      <th>name_runner</th>\n",
       "      <th>jockey_name</th>\n",
       "      <th>race_classification</th>\n",
       "      <th>final_tote_odds</th>\n",
       "      <th>finish_pos_0</th>\n",
       "      <th>finish_pos_1</th>\n",
       "      <th>purse_0</th>\n",
       "      <th>purse_1</th>\n",
       "    </tr>\n",
       "    <tr>\n",
       "      <th>trainer</th>\n",
       "      <th>race_id</th>\n",
       "      <th></th>\n",
       "      <th></th>\n",
       "      <th></th>\n",
       "      <th></th>\n",
       "      <th></th>\n",
       "      <th></th>\n",
       "      <th></th>\n",
       "      <th></th>\n",
       "      <th></th>\n",
       "      <th></th>\n",
       "      <th></th>\n",
       "      <th></th>\n",
       "      <th></th>\n",
       "    </tr>\n",
       "  </thead>\n",
       "  <tbody>\n",
       "    <tr>\n",
       "      <th rowspan=\"5\" valign=\"top\">ASMUSSEN STEVEN M</th>\n",
       "      <th>BEL_20170703_1</th>\n",
       "      <td>2017-07-03</td>\n",
       "      <td>4.0</td>\n",
       "      <td>False</td>\n",
       "      <td>False</td>\n",
       "      <td>29000</td>\n",
       "      <td>PONTASTIC</td>\n",
       "      <td>SANTANA JR RICARDO</td>\n",
       "      <td>Md 20000</td>\n",
       "      <td>6.10</td>\n",
       "      <td>7</td>\n",
       "      <td>4</td>\n",
       "      <td>41000</td>\n",
       "      <td>41000</td>\n",
       "    </tr>\n",
       "    <tr>\n",
       "      <th>BEL_20170708_11</th>\n",
       "      <td>2017-07-08</td>\n",
       "      <td>2.0</td>\n",
       "      <td>True</td>\n",
       "      <td>False</td>\n",
       "      <td>52000</td>\n",
       "      <td>HARLAN'S HUNCH</td>\n",
       "      <td>ORTIZ JR IRAD</td>\n",
       "      <td>Md 75000</td>\n",
       "      <td>8.20</td>\n",
       "      <td>3</td>\n",
       "      <td>8</td>\n",
       "      <td>41000</td>\n",
       "      <td>75000</td>\n",
       "    </tr>\n",
       "    <tr>\n",
       "      <th>BEL_20170708_2</th>\n",
       "      <td>2017-07-08</td>\n",
       "      <td>8.0</td>\n",
       "      <td>False</td>\n",
       "      <td>True</td>\n",
       "      <td>67000</td>\n",
       "      <td>WEATHER GIRL</td>\n",
       "      <td>CASTELLANO JAVIER</td>\n",
       "      <td>OClm 40000nw2</td>\n",
       "      <td>3.15</td>\n",
       "      <td>5</td>\n",
       "      <td>4</td>\n",
       "      <td>67000</td>\n",
       "      <td>67000</td>\n",
       "    </tr>\n",
       "    <tr>\n",
       "      <th>BEL_20170709_2</th>\n",
       "      <td>2017-07-09</td>\n",
       "      <td>7.0</td>\n",
       "      <td>False</td>\n",
       "      <td>True</td>\n",
       "      <td>75000</td>\n",
       "      <td>BREAKIN DAYLIGHT</td>\n",
       "      <td>ORTIZ JOSE L</td>\n",
       "      <td>Md Sp Wt</td>\n",
       "      <td>8.90</td>\n",
       "      <td>3</td>\n",
       "      <td>3</td>\n",
       "      <td>75000</td>\n",
       "      <td>60000</td>\n",
       "    </tr>\n",
       "    <tr>\n",
       "      <th>BEL_20170709_7</th>\n",
       "      <td>2017-07-09</td>\n",
       "      <td>4.0</td>\n",
       "      <td>False</td>\n",
       "      <td>False</td>\n",
       "      <td>150000</td>\n",
       "      <td>GOLDEN MISCHIEF</td>\n",
       "      <td>CASTELLANO JAVIER</td>\n",
       "      <td>Victory Ride-G3</td>\n",
       "      <td>11.10</td>\n",
       "      <td>2</td>\n",
       "      <td>4</td>\n",
       "      <td>150000</td>\n",
       "      <td>200000</td>\n",
       "    </tr>\n",
       "  </tbody>\n",
       "</table>\n",
       "</div>"
      ],
      "text/plain": [
       "                                        date  official_finish_position  \\\n",
       "trainer           race_id                                                \n",
       "ASMUSSEN STEVEN M BEL_20170703_1  2017-07-03                       4.0   \n",
       "                  BEL_20170708_11 2017-07-08                       2.0   \n",
       "                  BEL_20170708_2  2017-07-08                       8.0   \n",
       "                  BEL_20170709_2  2017-07-09                       7.0   \n",
       "                  BEL_20170709_7  2017-07-09                       4.0   \n",
       "\n",
       "                                   x8is_pos_top_3  x8is_odds_top_3_favorable  \\\n",
       "trainer           race_id                                                      \n",
       "ASMUSSEN STEVEN M BEL_20170703_1            False                      False   \n",
       "                  BEL_20170708_11            True                      False   \n",
       "                  BEL_20170708_2            False                       True   \n",
       "                  BEL_20170709_2            False                       True   \n",
       "                  BEL_20170709_7            False                      False   \n",
       "\n",
       "                                    purse       name_runner  \\\n",
       "trainer           race_id                                     \n",
       "ASMUSSEN STEVEN M BEL_20170703_1    29000         PONTASTIC   \n",
       "                  BEL_20170708_11   52000    HARLAN'S HUNCH   \n",
       "                  BEL_20170708_2    67000      WEATHER GIRL   \n",
       "                  BEL_20170709_2    75000  BREAKIN DAYLIGHT   \n",
       "                  BEL_20170709_7   150000   GOLDEN MISCHIEF   \n",
       "\n",
       "                                          jockey_name race_classification  \\\n",
       "trainer           race_id                                                   \n",
       "ASMUSSEN STEVEN M BEL_20170703_1   SANTANA JR RICARDO            Md 20000   \n",
       "                  BEL_20170708_11       ORTIZ JR IRAD            Md 75000   \n",
       "                  BEL_20170708_2    CASTELLANO JAVIER       OClm 40000nw2   \n",
       "                  BEL_20170709_2         ORTIZ JOSE L            Md Sp Wt   \n",
       "                  BEL_20170709_7    CASTELLANO JAVIER     Victory Ride-G3   \n",
       "\n",
       "                                   final_tote_odds  finish_pos_0  \\\n",
       "trainer           race_id                                          \n",
       "ASMUSSEN STEVEN M BEL_20170703_1              6.10             7   \n",
       "                  BEL_20170708_11             8.20             3   \n",
       "                  BEL_20170708_2              3.15             5   \n",
       "                  BEL_20170709_2              8.90             3   \n",
       "                  BEL_20170709_7             11.10             2   \n",
       "\n",
       "                                   finish_pos_1  purse_0  purse_1  \n",
       "trainer           race_id                                          \n",
       "ASMUSSEN STEVEN M BEL_20170703_1              4    41000    41000  \n",
       "                  BEL_20170708_11             8    41000    75000  \n",
       "                  BEL_20170708_2              4    67000    67000  \n",
       "                  BEL_20170709_2              3    75000    60000  \n",
       "                  BEL_20170709_7              4   150000   200000  "
      ]
     },
     "execution_count": 190,
     "metadata": {},
     "output_type": "execute_result"
    }
   ],
   "source": [
    "trainer_sequence_df.head()"
   ]
  },
  {
   "cell_type": "markdown",
   "metadata": {},
   "source": [
    "## Trainer-based Prediction\n",
    "\n",
    "Here, we conduct our algorithm to each trainer in order to capture the sentiment. \n",
    "\n",
    "However, there are some problems need to think over\n",
    "\n",
    "* The train set is too small\n",
    "* The features can only be numbers so that distance can be defined (normed vector space). That gives us a problem: how to utilize information like race name. "
   ]
  },
  {
   "cell_type": "code",
   "execution_count": 199,
   "metadata": {
    "collapsed": false,
    "scrolled": false
   },
   "outputs": [],
   "source": [
    "for trainer, group in trainer_sequence_df.groupby(\"trainer\"):\n",
    "#     print(group)\n",
    "#     print(group)\n",
    "#     print(group.loc[:,horse_past_features])\n",
    "    X = group.loc[:,horse_past_features+[\"final_tote_odds\"]].values\n",
    "#     print(X)\n",
    "    y = group.loc[:,\"x8is_pos_top_3\"].values\n",
    "#     print(y)\n",
    "    break"
   ]
  },
  {
   "cell_type": "code",
   "execution_count": 200,
   "metadata": {
    "collapsed": false
   },
   "outputs": [
    {
     "name": "stdout",
     "output_type": "stream",
     "text": [
      "[[  7.00000000e+00   4.00000000e+00   4.10000000e+04   4.10000000e+04\n",
      "    6.10000000e+00]\n",
      " [  3.00000000e+00   8.00000000e+00   4.10000000e+04   7.50000000e+04\n",
      "    8.20000000e+00]\n",
      " [  5.00000000e+00   4.00000000e+00   6.70000000e+04   6.70000000e+04\n",
      "    3.15000000e+00]\n",
      " [  3.00000000e+00   3.00000000e+00   7.50000000e+04   6.00000000e+04\n",
      "    8.90000000e+00]\n",
      " [  2.00000000e+00   4.00000000e+00   1.50000000e+05   2.00000000e+05\n",
      "    1.11000000e+01]\n",
      " [  7.00000000e+00   1.00000000e+00   1.50000000e+05   1.50000000e+05\n",
      "    1.80000000e+00]\n",
      " [  2.00000000e+00   4.00000000e+00   2.31000000e+04   2.10000000e+04\n",
      "    2.50000000e+00]\n",
      " [  1.00000000e+00   2.00000000e+00   3.10000000e+04   3.10000000e+04\n",
      "    3.06000000e+01]\n",
      " [  5.00000000e+00   2.00000000e+00   1.50000000e+05   8.20000000e+04\n",
      "    2.70000000e+00]\n",
      " [  1.00000000e+00   5.00000000e+00   2.80000000e+04   3.45000000e+04\n",
      "    5.00000000e-01]\n",
      " [  4.00000000e+00   2.00000000e+00   5.33000000e+04   7.00000000e+04\n",
      "    3.00000000e+00]\n",
      " [  8.00000000e+00   6.00000000e+00   3.30000000e+04   5.50000000e+04\n",
      "    3.10000000e+00]\n",
      " [  4.00000000e+00   7.00000000e+00   1.05000000e+04   1.30000000e+04\n",
      "    9.40000000e+00]\n",
      " [  8.00000000e+00   4.00000000e+00   5.10000000e+04   8.20000000e+04\n",
      "    8.60000000e+00]\n",
      " [  1.00000000e+00   8.00000000e+00   1.20000000e+04   1.48500000e+04\n",
      "    8.20000000e+00]\n",
      " [  3.00000000e+00   1.00000000e+00   1.50000000e+04   1.30000000e+04\n",
      "    2.20000000e+00]\n",
      " [  5.00000000e+00   1.00000000e+00   2.20000000e+04   1.35000000e+04\n",
      "    1.02000000e+01]\n",
      " [  2.00000000e+00   6.00000000e+00   2.40000000e+04   8.30000000e+04\n",
      "    5.50000000e+00]\n",
      " [  1.00000000e+00   4.00000000e+00   2.20000000e+04   8.20000000e+04\n",
      "    3.20000000e+00]\n",
      " [  6.00000000e+00   4.00000000e+00   8.50000000e+03   9.50000000e+03\n",
      "    2.20000000e+00]\n",
      " [  1.00000000e+00   4.00000000e+00   1.30000000e+04   1.50000000e+04\n",
      "    1.70000000e+00]\n",
      " [  3.00000000e+00   5.00000000e+00   8.00000000e+03   1.30000000e+04\n",
      "    1.60000000e+00]\n",
      " [  7.00000000e+00   1.00000000e+00   2.20000000e+04   2.10000000e+04\n",
      "    1.60000000e+00]\n",
      " [  1.00000000e+00   1.00000000e+00   2.31000000e+04   2.00000000e+04\n",
      "    7.00000000e-01]\n",
      " [  3.00000000e+00   2.00000000e+00   1.10000000e+04   1.40000000e+04\n",
      "    4.10000000e+00]\n",
      " [  2.00000000e+00   9.00000000e+00   9.00000000e+03   2.60000000e+04\n",
      "    1.60000000e+00]\n",
      " [  6.00000000e+00   2.00000000e+00   1.30000000e+04   1.30000000e+04\n",
      "    5.20000000e+00]\n",
      " [  7.00000000e+00   1.00000000e+00   2.20000000e+04   2.10000000e+04\n",
      "    5.20000000e+00]\n",
      " [  6.00000000e+00   4.00000000e+00   2.20000000e+04   2.20000000e+04\n",
      "    1.20000000e+00]\n",
      " [  7.00000000e+00   5.00000000e+00   2.20000000e+04   8.20000000e+04\n",
      "    7.30000000e+00]\n",
      " [  1.00000000e+00   6.00000000e+00   1.60000000e+04   2.20000000e+04\n",
      "    7.90000000e+00]\n",
      " [  3.00000000e+00   1.00000000e+00   2.20000000e+04   1.15000000e+04\n",
      "    5.00000000e+00]\n",
      " [  1.00000000e+00   7.00000000e+00   9.50000000e+03   1.00000000e+04\n",
      "    4.40000000e+00]\n",
      " [  4.00000000e+00   1.30000000e+01   1.30000000e+04   2.10000000e+04\n",
      "    2.70000000e+00]\n",
      " [  2.00000000e+00   1.00000000e+00   8.00000000e+03   8.50000000e+03\n",
      "    6.00000000e-01]\n",
      " [  3.00000000e+00   4.00000000e+00   2.40000000e+04   2.30000000e+04\n",
      "    2.20000000e+00]\n",
      " [  5.00000000e+00   1.00000000e+00   2.75000000e+04   2.80000000e+04\n",
      "    5.10000000e+00]\n",
      " [  4.00000000e+00   7.00000000e+00   2.20000000e+04   2.20000000e+04\n",
      "    3.20000000e+00]\n",
      " [  1.00000000e+00   6.00000000e+00   1.10000000e+04   2.00000000e+04\n",
      "    1.70000000e+00]\n",
      " [  3.00000000e+00   2.00000000e+00   2.20000000e+04   2.20000000e+04\n",
      "    1.80000000e+00]\n",
      " [  1.00000000e+00   3.00000000e+00   9.00000000e+03   1.20000000e+04\n",
      "    1.90000000e+00]\n",
      " [  4.00000000e+00   1.00000000e+00   2.20000000e+04   2.10000000e+04\n",
      "    1.70000000e+00]\n",
      " [  5.00000000e+00   1.00000000e+00   8.00000000e+03   8.00000000e+03\n",
      "    1.20000000e+00]\n",
      " [  4.00000000e+00   3.00000000e+00   1.30000000e+04   1.40000000e+04\n",
      "    5.00000000e-01]\n",
      " [  3.00000000e+00   1.00000000e+00   2.30000000e+04   2.20000000e+04\n",
      "    5.00000000e-01]]\n",
      "[False  True False False False  True  True  True  True  True  True  True\n",
      "  True False  True False False  True False False False  True  True  True\n",
      "  True  True False False  True False False False  True False  True  True\n",
      " False  True  True  True  True  True  True  True  True]\n"
     ]
    }
   ],
   "source": [
    "print(X)\n",
    "print(y)"
   ]
  },
  {
   "cell_type": "code",
   "execution_count": 202,
   "metadata": {
    "collapsed": false
   },
   "outputs": [
    {
     "name": "stdout",
     "output_type": "stream",
     "text": [
      "[False  True]\n"
     ]
    }
   ],
   "source": [
    "from sklearn.neighbors import KNeighborsClassifier\n",
    "neigh = KNeighborsClassifier(n_neighbors=n_neighbors)\n",
    "neigh.fit(X[:-2], y[:-2]) \n",
    "KNeighborsClassifier(...)\n",
    "print(neigh.predict(X[-2:]))"
   ]
  },
  {
   "cell_type": "code",
   "execution_count": 203,
   "metadata": {
    "collapsed": false
   },
   "outputs": [
    {
     "data": {
      "text/plain": [
       "array([ True,  True], dtype=bool)"
      ]
     },
     "execution_count": 203,
     "metadata": {},
     "output_type": "execute_result"
    }
   ],
   "source": [
    "y[-2:]"
   ]
  },
  {
   "cell_type": "code",
   "execution_count": null,
   "metadata": {
    "collapsed": true
   },
   "outputs": [],
   "source": []
  }
 ],
 "metadata": {
  "kernelspec": {
   "display_name": "Python 3",
   "language": "python",
   "name": "python3"
  },
  "language_info": {
   "codemirror_mode": {
    "name": "ipython",
    "version": 3
   },
   "file_extension": ".py",
   "mimetype": "text/x-python",
   "name": "python",
   "nbconvert_exporter": "python",
   "pygments_lexer": "ipython3",
   "version": "3.6.0"
  }
 },
 "nbformat": 4,
 "nbformat_minor": 2
}
