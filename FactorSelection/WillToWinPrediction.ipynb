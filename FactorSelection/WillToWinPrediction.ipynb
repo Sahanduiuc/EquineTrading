{
 "cells": [
  {
   "cell_type": "markdown",
   "metadata": {},
   "source": [
    "# Nearest Neighbor Prediction In Equine Time-Series\n",
    "\n",
    "In this notebook, we use nearest neighbor algorithm to predict the will to win of the next race.\n",
    "\n",
    "## Intention\n",
    "\n",
    "We want this sequence predictor to capture the insider's sentiment (He or she may not want to win in a certain race to drive up the odds).\n",
    "\n",
    "## Hyper-Parameters\n",
    "\n",
    "* n_lages: the number of time window lags\n",
    "* n_neighbors: the number of neighbors in k-NN\n",
    "\n",
    "## Features: X (todo: ask Saleem)\n",
    "\n",
    "Here, we define the features as the dataset racing starters (e.g. trainer/jockey/owner) concerns\n",
    "\n",
    "* horse factors\n",
    "    * last_n_positions\n",
    "    * last_n_purse\n",
    "    * average speed\n",
    "    * winless_in_n\n",
    "    * distance between tracks\n",
    "    \n",
    "* human factors\n",
    "    * purse\n",
    "    * \n",
    "\n",
    "* final_tote_odds\n",
    "\n",
    "## Prediction: y (todo: ask Saleem)\n",
    "\n",
    "We denote the will to win as the following (whether it is in the money):\n",
    "\n",
    "$$y^{(i)}=True \\quad iff \\quad {sample}^{(i)}[\\mbox{\"official_finish_position\"}]<=4$$\n",
    "\n",
    "\n",
    "## Prediction Model: KNN\n",
    "\n",
    "k-nearest neighbor algorithm is a non-parametric method used for classification and regression. In both cases, the input consists of the k closest training examples in the feature space.\n",
    "\n",
    "* X: n_samples $\\times$ n_features matrix\n",
    "* y: n_samples binary vector wether "
   ]
  },
  {
   "cell_type": "code",
   "execution_count": null,
   "metadata": {
    "collapsed": false
   },
   "outputs": [],
   "source": []
  },
  {
   "cell_type": "code",
   "execution_count": 1,
   "metadata": {
    "collapsed": false
   },
   "outputs": [],
   "source": [
    "import pandas as pd\n",
    "import numpy as np\n",
    "import matplotlib.pyplot as plt\n",
    "from datetime import date\n",
    "import pytest\n",
    "import sys \n",
    "import os\n",
    "sys.path.append(os.path.abspath(\"/Users/xiayuxuan/Codes/EquineTrading\"))\n",
    "from horse.betsim.wrap.jcapper import JCapper\n",
    "from pandas import date_range"
   ]
  },
  {
   "cell_type": "code",
   "execution_count": null,
   "metadata": {
    "collapsed": true
   },
   "outputs": [],
   "source": []
  },
  {
   "cell_type": "code",
   "execution_count": null,
   "metadata": {
    "collapsed": true
   },
   "outputs": [],
   "source": []
  },
  {
   "cell_type": "code",
   "execution_count": null,
   "metadata": {
    "collapsed": true
   },
   "outputs": [],
   "source": []
  },
  {
   "cell_type": "code",
   "execution_count": 2,
   "metadata": {
    "collapsed": true
   },
   "outputs": [],
   "source": [
    "n_lags = 2\n",
    "n_neighbors = 3"
   ]
  },
  {
   "cell_type": "code",
   "execution_count": 3,
   "metadata": {
    "collapsed": false
   },
   "outputs": [
    {
     "name": "stdout",
     "output_type": "stream",
     "text": [
      "jcapper.load(2018-03-01)\n",
      "jcapper.load(2018-03-02)\n",
      "jcapper.load(2018-03-03)\n",
      "jcapper.load(2018-03-04)\n",
      "jcapper.load(2018-03-05)\n",
      "jcapper.load(2018-03-06)\n",
      "jcapper.load(2018-03-07)\n",
      "JCapper.load() filtering scratched horses reduced from 4983 to 4521\n"
     ]
    },
    {
     "name": "stderr",
     "output_type": "stream",
     "text": [
      "/Users/xiayuxuan/Codes/EquineTrading/horse/betsim/wrap/jcapper.py:206: FutureWarning: Sorting because non-concatenation axis is not aligned. A future version\n",
      "of pandas will change to not sort by default.\n",
      "\n",
      "To accept the future behavior, pass 'sort=False'.\n",
      "\n",
      "To retain the current behavior and silence the warning, pass 'sort=True'.\n",
      "\n",
      "  df_payout = concat([df_payout, wps])\n"
     ]
    },
    {
     "name": "stdout",
     "output_type": "stream",
     "text": [
      "load_jcapper: loaded 4521 rows\n"
     ]
    }
   ],
   "source": [
    "# load JCapper Breeders Cup Results file\n",
    "jcp = JCapper(verbose=True)\n",
    "jcp.load(date_range(date(2018, 3, 1), date(2018, 3, 7)))\n",
    "jcp.add_computed_columns()\n",
    "print('load_jcapper: loaded %d rows' % (len(jcp.df)))\n",
    "\n",
    "dfp = jcp.df_payout\n",
    "df = jcp.df"
   ]
  },
  {
   "cell_type": "code",
   "execution_count": 24,
   "metadata": {
    "collapsed": false
   },
   "outputs": [],
   "source": [
    "jcp.df_scratch.to_csv(\"scratch.csv\")"
   ]
  },
  {
   "cell_type": "code",
   "execution_count": 17,
   "metadata": {
    "collapsed": false
   },
   "outputs": [],
   "source": [
    "df.to_csv(\"test.csv\")"
   ]
  },
  {
   "cell_type": "code",
   "execution_count": 25,
   "metadata": {
    "collapsed": false
   },
   "outputs": [],
   "source": [
    "dfp.to_csv(\"payout.csv\")"
   ]
  },
  {
   "cell_type": "code",
   "execution_count": 12,
   "metadata": {
    "collapsed": false
   },
   "outputs": [],
   "source": [
    "df_factors_PILOT = pd.read_csv('../df_factors_PILOT.csv', parse_dates=['date'])"
   ]
  },
  {
   "cell_type": "code",
   "execution_count": 14,
   "metadata": {
    "collapsed": false
   },
   "outputs": [
    {
     "data": {
      "text/html": [
       "<div>\n",
       "<style scoped>\n",
       "    .dataframe tbody tr th:only-of-type {\n",
       "        vertical-align: middle;\n",
       "    }\n",
       "\n",
       "    .dataframe tbody tr th {\n",
       "        vertical-align: top;\n",
       "    }\n",
       "\n",
       "    .dataframe thead th {\n",
       "        text-align: right;\n",
       "    }\n",
       "</style>\n",
       "<table border=\"1\" class=\"dataframe\">\n",
       "  <thead>\n",
       "    <tr style=\"text-align: right;\">\n",
       "      <th></th>\n",
       "      <th>race_id</th>\n",
       "      <th>track_id</th>\n",
       "      <th>date</th>\n",
       "      <th>race_number</th>\n",
       "      <th>distance</th>\n",
       "      <th>approx_dist</th>\n",
       "      <th>surface</th>\n",
       "      <th>race_type</th>\n",
       "      <th>sex_restriction</th>\n",
       "      <th>age_restriction</th>\n",
       "      <th>...</th>\n",
       "      <th>x8rank_speed_2of3</th>\n",
       "      <th>x8speed_norm_2of3_par</th>\n",
       "      <th>x8is_longshot</th>\n",
       "      <th>x8is_win_longshot</th>\n",
       "      <th>x8is_exacta_longshot</th>\n",
       "      <th>x8is_trifecta_lonsghot</th>\n",
       "      <th>x8is_superfecta_longshot</th>\n",
       "      <th>x8_outperform</th>\n",
       "      <th>pct_of_purse_earnings</th>\n",
       "      <th>runner_program_number_pp</th>\n",
       "    </tr>\n",
       "  </thead>\n",
       "  <tbody>\n",
       "    <tr>\n",
       "      <th>0</th>\n",
       "      <td>APX_20170703_1</td>\n",
       "      <td>APX</td>\n",
       "      <td>2017-07-03</td>\n",
       "      <td>1</td>\n",
       "      <td>1540.0</td>\n",
       "      <td>False</td>\n",
       "      <td>A</td>\n",
       "      <td>M</td>\n",
       "      <td>N</td>\n",
       "      <td>B</td>\n",
       "      <td>...</td>\n",
       "      <td>3.0</td>\n",
       "      <td>0.614865</td>\n",
       "      <td>0</td>\n",
       "      <td>0.0</td>\n",
       "      <td>0.0</td>\n",
       "      <td>0.0</td>\n",
       "      <td>0.0</td>\n",
       "      <td>-2.0</td>\n",
       "      <td>0.015</td>\n",
       "      <td>7</td>\n",
       "    </tr>\n",
       "    <tr>\n",
       "      <th>1</th>\n",
       "      <td>APX_20170703_1</td>\n",
       "      <td>APX</td>\n",
       "      <td>2017-07-03</td>\n",
       "      <td>1</td>\n",
       "      <td>1540.0</td>\n",
       "      <td>False</td>\n",
       "      <td>A</td>\n",
       "      <td>M</td>\n",
       "      <td>N</td>\n",
       "      <td>B</td>\n",
       "      <td>...</td>\n",
       "      <td>5.0</td>\n",
       "      <td>0.486486</td>\n",
       "      <td>1</td>\n",
       "      <td>0.0</td>\n",
       "      <td>0.0</td>\n",
       "      <td>1.0</td>\n",
       "      <td>1.0</td>\n",
       "      <td>1.0</td>\n",
       "      <td>0.100</td>\n",
       "      <td>4</td>\n",
       "    </tr>\n",
       "    <tr>\n",
       "      <th>2</th>\n",
       "      <td>APX_20170703_1</td>\n",
       "      <td>APX</td>\n",
       "      <td>2017-07-03</td>\n",
       "      <td>1</td>\n",
       "      <td>1540.0</td>\n",
       "      <td>False</td>\n",
       "      <td>A</td>\n",
       "      <td>M</td>\n",
       "      <td>N</td>\n",
       "      <td>B</td>\n",
       "      <td>...</td>\n",
       "      <td>6.0</td>\n",
       "      <td>0.418919</td>\n",
       "      <td>1</td>\n",
       "      <td>0.0</td>\n",
       "      <td>0.0</td>\n",
       "      <td>0.0</td>\n",
       "      <td>0.0</td>\n",
       "      <td>1.0</td>\n",
       "      <td>0.000</td>\n",
       "      <td>5</td>\n",
       "    </tr>\n",
       "    <tr>\n",
       "      <th>3</th>\n",
       "      <td>APX_20170703_1</td>\n",
       "      <td>APX</td>\n",
       "      <td>2017-07-03</td>\n",
       "      <td>1</td>\n",
       "      <td>1540.0</td>\n",
       "      <td>False</td>\n",
       "      <td>A</td>\n",
       "      <td>M</td>\n",
       "      <td>N</td>\n",
       "      <td>B</td>\n",
       "      <td>...</td>\n",
       "      <td>2.0</td>\n",
       "      <td>0.743243</td>\n",
       "      <td>0</td>\n",
       "      <td>0.0</td>\n",
       "      <td>0.0</td>\n",
       "      <td>0.0</td>\n",
       "      <td>0.0</td>\n",
       "      <td>0.0</td>\n",
       "      <td>0.600</td>\n",
       "      <td>2</td>\n",
       "    </tr>\n",
       "    <tr>\n",
       "      <th>4</th>\n",
       "      <td>APX_20170703_1</td>\n",
       "      <td>APX</td>\n",
       "      <td>2017-07-03</td>\n",
       "      <td>1</td>\n",
       "      <td>1540.0</td>\n",
       "      <td>False</td>\n",
       "      <td>A</td>\n",
       "      <td>M</td>\n",
       "      <td>N</td>\n",
       "      <td>B</td>\n",
       "      <td>...</td>\n",
       "      <td>1.0</td>\n",
       "      <td>0.770270</td>\n",
       "      <td>0</td>\n",
       "      <td>0.0</td>\n",
       "      <td>0.0</td>\n",
       "      <td>0.0</td>\n",
       "      <td>0.0</td>\n",
       "      <td>0.0</td>\n",
       "      <td>0.250</td>\n",
       "      <td>6</td>\n",
       "    </tr>\n",
       "  </tbody>\n",
       "</table>\n",
       "<p>5 rows × 251 columns</p>\n",
       "</div>"
      ],
      "text/plain": [
       "          race_id track_id       date  race_number  distance  approx_dist  \\\n",
       "0  APX_20170703_1      APX 2017-07-03            1    1540.0        False   \n",
       "1  APX_20170703_1      APX 2017-07-03            1    1540.0        False   \n",
       "2  APX_20170703_1      APX 2017-07-03            1    1540.0        False   \n",
       "3  APX_20170703_1      APX 2017-07-03            1    1540.0        False   \n",
       "4  APX_20170703_1      APX 2017-07-03            1    1540.0        False   \n",
       "\n",
       "  surface race_type sex_restriction age_restriction            ...             \\\n",
       "0       A         M               N               B            ...              \n",
       "1       A         M               N               B            ...              \n",
       "2       A         M               N               B            ...              \n",
       "3       A         M               N               B            ...              \n",
       "4       A         M               N               B            ...              \n",
       "\n",
       "  x8rank_speed_2of3 x8speed_norm_2of3_par  x8is_longshot  x8is_win_longshot  \\\n",
       "0               3.0              0.614865              0                0.0   \n",
       "1               5.0              0.486486              1                0.0   \n",
       "2               6.0              0.418919              1                0.0   \n",
       "3               2.0              0.743243              0                0.0   \n",
       "4               1.0              0.770270              0                0.0   \n",
       "\n",
       "   x8is_exacta_longshot x8is_trifecta_lonsghot x8is_superfecta_longshot  \\\n",
       "0                   0.0                    0.0                      0.0   \n",
       "1                   0.0                    1.0                      1.0   \n",
       "2                   0.0                    0.0                      0.0   \n",
       "3                   0.0                    0.0                      0.0   \n",
       "4                   0.0                    0.0                      0.0   \n",
       "\n",
       "  x8_outperform pct_of_purse_earnings  runner_program_number_pp  \n",
       "0          -2.0                 0.015                         7  \n",
       "1           1.0                 0.100                         4  \n",
       "2           1.0                 0.000                         5  \n",
       "3           0.0                 0.600                         2  \n",
       "4           0.0                 0.250                         6  \n",
       "\n",
       "[5 rows x 251 columns]"
      ]
     },
     "execution_count": 14,
     "metadata": {},
     "output_type": "execute_result"
    }
   ],
   "source": [
    "df_factors_PILOT.head()"
   ]
  },
  {
   "cell_type": "code",
   "execution_count": 16,
   "metadata": {
    "collapsed": false
   },
   "outputs": [
    {
     "ename": "KeyError",
     "evalue": "'track_id'",
     "output_type": "error",
     "traceback": [
      "\u001b[0;31m---------------------------------------------------------------------------\u001b[0m",
      "\u001b[0;31mKeyError\u001b[0m                                  Traceback (most recent call last)",
      "\u001b[0;32m/Users/xiayuxuan/anaconda/envs/py35/lib/python3.5/site-packages/pandas/core/indexes/base.py\u001b[0m in \u001b[0;36mget_loc\u001b[0;34m(self, key, method, tolerance)\u001b[0m\n\u001b[1;32m   3063\u001b[0m             \u001b[0;32mtry\u001b[0m\u001b[0;34m:\u001b[0m\u001b[0;34m\u001b[0m\u001b[0m\n\u001b[0;32m-> 3064\u001b[0;31m                 \u001b[0;32mreturn\u001b[0m \u001b[0mself\u001b[0m\u001b[0;34m.\u001b[0m\u001b[0m_engine\u001b[0m\u001b[0;34m.\u001b[0m\u001b[0mget_loc\u001b[0m\u001b[0;34m(\u001b[0m\u001b[0mkey\u001b[0m\u001b[0;34m)\u001b[0m\u001b[0;34m\u001b[0m\u001b[0m\n\u001b[0m\u001b[1;32m   3065\u001b[0m             \u001b[0;32mexcept\u001b[0m \u001b[0mKeyError\u001b[0m\u001b[0;34m:\u001b[0m\u001b[0;34m\u001b[0m\u001b[0m\n",
      "\u001b[0;32mpandas/_libs/index.pyx\u001b[0m in \u001b[0;36mpandas._libs.index.IndexEngine.get_loc\u001b[0;34m()\u001b[0m\n",
      "\u001b[0;32mpandas/_libs/index.pyx\u001b[0m in \u001b[0;36mpandas._libs.index.IndexEngine.get_loc\u001b[0;34m()\u001b[0m\n",
      "\u001b[0;32mpandas/_libs/hashtable_class_helper.pxi\u001b[0m in \u001b[0;36mpandas._libs.hashtable.PyObjectHashTable.get_item\u001b[0;34m()\u001b[0m\n",
      "\u001b[0;32mpandas/_libs/hashtable_class_helper.pxi\u001b[0m in \u001b[0;36mpandas._libs.hashtable.PyObjectHashTable.get_item\u001b[0;34m()\u001b[0m\n",
      "\u001b[0;31mKeyError\u001b[0m: 'track_id'",
      "\nDuring handling of the above exception, another exception occurred:\n",
      "\u001b[0;31mKeyError\u001b[0m                                  Traceback (most recent call last)",
      "\u001b[0;32m<ipython-input-16-9988ec3f0665>\u001b[0m in \u001b[0;36m<module>\u001b[0;34m()\u001b[0m\n\u001b[0;32m----> 1\u001b[0;31m \u001b[0mdf\u001b[0m\u001b[0;34m[\u001b[0m\u001b[0;34m\"track_id\"\u001b[0m\u001b[0;34m]\u001b[0m\u001b[0;34m\u001b[0m\u001b[0m\n\u001b[0m",
      "\u001b[0;32m/Users/xiayuxuan/anaconda/envs/py35/lib/python3.5/site-packages/pandas/core/frame.py\u001b[0m in \u001b[0;36m__getitem__\u001b[0;34m(self, key)\u001b[0m\n\u001b[1;32m   2686\u001b[0m             \u001b[0;32mreturn\u001b[0m \u001b[0mself\u001b[0m\u001b[0;34m.\u001b[0m\u001b[0m_getitem_multilevel\u001b[0m\u001b[0;34m(\u001b[0m\u001b[0mkey\u001b[0m\u001b[0;34m)\u001b[0m\u001b[0;34m\u001b[0m\u001b[0m\n\u001b[1;32m   2687\u001b[0m         \u001b[0;32melse\u001b[0m\u001b[0;34m:\u001b[0m\u001b[0;34m\u001b[0m\u001b[0m\n\u001b[0;32m-> 2688\u001b[0;31m             \u001b[0;32mreturn\u001b[0m \u001b[0mself\u001b[0m\u001b[0;34m.\u001b[0m\u001b[0m_getitem_column\u001b[0m\u001b[0;34m(\u001b[0m\u001b[0mkey\u001b[0m\u001b[0;34m)\u001b[0m\u001b[0;34m\u001b[0m\u001b[0m\n\u001b[0m\u001b[1;32m   2689\u001b[0m \u001b[0;34m\u001b[0m\u001b[0m\n\u001b[1;32m   2690\u001b[0m     \u001b[0;32mdef\u001b[0m \u001b[0m_getitem_column\u001b[0m\u001b[0;34m(\u001b[0m\u001b[0mself\u001b[0m\u001b[0;34m,\u001b[0m \u001b[0mkey\u001b[0m\u001b[0;34m)\u001b[0m\u001b[0;34m:\u001b[0m\u001b[0;34m\u001b[0m\u001b[0m\n",
      "\u001b[0;32m/Users/xiayuxuan/anaconda/envs/py35/lib/python3.5/site-packages/pandas/core/frame.py\u001b[0m in \u001b[0;36m_getitem_column\u001b[0;34m(self, key)\u001b[0m\n\u001b[1;32m   2693\u001b[0m         \u001b[0;31m# get column\u001b[0m\u001b[0;34m\u001b[0m\u001b[0;34m\u001b[0m\u001b[0m\n\u001b[1;32m   2694\u001b[0m         \u001b[0;32mif\u001b[0m \u001b[0mself\u001b[0m\u001b[0;34m.\u001b[0m\u001b[0mcolumns\u001b[0m\u001b[0;34m.\u001b[0m\u001b[0mis_unique\u001b[0m\u001b[0;34m:\u001b[0m\u001b[0;34m\u001b[0m\u001b[0m\n\u001b[0;32m-> 2695\u001b[0;31m             \u001b[0;32mreturn\u001b[0m \u001b[0mself\u001b[0m\u001b[0;34m.\u001b[0m\u001b[0m_get_item_cache\u001b[0m\u001b[0;34m(\u001b[0m\u001b[0mkey\u001b[0m\u001b[0;34m)\u001b[0m\u001b[0;34m\u001b[0m\u001b[0m\n\u001b[0m\u001b[1;32m   2696\u001b[0m \u001b[0;34m\u001b[0m\u001b[0m\n\u001b[1;32m   2697\u001b[0m         \u001b[0;31m# duplicate columns & possible reduce dimensionality\u001b[0m\u001b[0;34m\u001b[0m\u001b[0;34m\u001b[0m\u001b[0m\n",
      "\u001b[0;32m/Users/xiayuxuan/anaconda/envs/py35/lib/python3.5/site-packages/pandas/core/generic.py\u001b[0m in \u001b[0;36m_get_item_cache\u001b[0;34m(self, item)\u001b[0m\n\u001b[1;32m   2484\u001b[0m         \u001b[0mres\u001b[0m \u001b[0;34m=\u001b[0m \u001b[0mcache\u001b[0m\u001b[0;34m.\u001b[0m\u001b[0mget\u001b[0m\u001b[0;34m(\u001b[0m\u001b[0mitem\u001b[0m\u001b[0;34m)\u001b[0m\u001b[0;34m\u001b[0m\u001b[0m\n\u001b[1;32m   2485\u001b[0m         \u001b[0;32mif\u001b[0m \u001b[0mres\u001b[0m \u001b[0;32mis\u001b[0m \u001b[0;32mNone\u001b[0m\u001b[0;34m:\u001b[0m\u001b[0;34m\u001b[0m\u001b[0m\n\u001b[0;32m-> 2486\u001b[0;31m             \u001b[0mvalues\u001b[0m \u001b[0;34m=\u001b[0m \u001b[0mself\u001b[0m\u001b[0;34m.\u001b[0m\u001b[0m_data\u001b[0m\u001b[0;34m.\u001b[0m\u001b[0mget\u001b[0m\u001b[0;34m(\u001b[0m\u001b[0mitem\u001b[0m\u001b[0;34m)\u001b[0m\u001b[0;34m\u001b[0m\u001b[0m\n\u001b[0m\u001b[1;32m   2487\u001b[0m             \u001b[0mres\u001b[0m \u001b[0;34m=\u001b[0m \u001b[0mself\u001b[0m\u001b[0;34m.\u001b[0m\u001b[0m_box_item_values\u001b[0m\u001b[0;34m(\u001b[0m\u001b[0mitem\u001b[0m\u001b[0;34m,\u001b[0m \u001b[0mvalues\u001b[0m\u001b[0;34m)\u001b[0m\u001b[0;34m\u001b[0m\u001b[0m\n\u001b[1;32m   2488\u001b[0m             \u001b[0mcache\u001b[0m\u001b[0;34m[\u001b[0m\u001b[0mitem\u001b[0m\u001b[0;34m]\u001b[0m \u001b[0;34m=\u001b[0m \u001b[0mres\u001b[0m\u001b[0;34m\u001b[0m\u001b[0m\n",
      "\u001b[0;32m/Users/xiayuxuan/anaconda/envs/py35/lib/python3.5/site-packages/pandas/core/internals.py\u001b[0m in \u001b[0;36mget\u001b[0;34m(self, item, fastpath)\u001b[0m\n\u001b[1;32m   4113\u001b[0m \u001b[0;34m\u001b[0m\u001b[0m\n\u001b[1;32m   4114\u001b[0m             \u001b[0;32mif\u001b[0m \u001b[0;32mnot\u001b[0m \u001b[0misna\u001b[0m\u001b[0;34m(\u001b[0m\u001b[0mitem\u001b[0m\u001b[0;34m)\u001b[0m\u001b[0;34m:\u001b[0m\u001b[0;34m\u001b[0m\u001b[0m\n\u001b[0;32m-> 4115\u001b[0;31m                 \u001b[0mloc\u001b[0m \u001b[0;34m=\u001b[0m \u001b[0mself\u001b[0m\u001b[0;34m.\u001b[0m\u001b[0mitems\u001b[0m\u001b[0;34m.\u001b[0m\u001b[0mget_loc\u001b[0m\u001b[0;34m(\u001b[0m\u001b[0mitem\u001b[0m\u001b[0;34m)\u001b[0m\u001b[0;34m\u001b[0m\u001b[0m\n\u001b[0m\u001b[1;32m   4116\u001b[0m             \u001b[0;32melse\u001b[0m\u001b[0;34m:\u001b[0m\u001b[0;34m\u001b[0m\u001b[0m\n\u001b[1;32m   4117\u001b[0m                 \u001b[0mindexer\u001b[0m \u001b[0;34m=\u001b[0m \u001b[0mnp\u001b[0m\u001b[0;34m.\u001b[0m\u001b[0marange\u001b[0m\u001b[0;34m(\u001b[0m\u001b[0mlen\u001b[0m\u001b[0;34m(\u001b[0m\u001b[0mself\u001b[0m\u001b[0;34m.\u001b[0m\u001b[0mitems\u001b[0m\u001b[0;34m)\u001b[0m\u001b[0;34m)\u001b[0m\u001b[0;34m[\u001b[0m\u001b[0misna\u001b[0m\u001b[0;34m(\u001b[0m\u001b[0mself\u001b[0m\u001b[0;34m.\u001b[0m\u001b[0mitems\u001b[0m\u001b[0;34m)\u001b[0m\u001b[0;34m]\u001b[0m\u001b[0;34m\u001b[0m\u001b[0m\n",
      "\u001b[0;32m/Users/xiayuxuan/anaconda/envs/py35/lib/python3.5/site-packages/pandas/core/indexes/base.py\u001b[0m in \u001b[0;36mget_loc\u001b[0;34m(self, key, method, tolerance)\u001b[0m\n\u001b[1;32m   3064\u001b[0m                 \u001b[0;32mreturn\u001b[0m \u001b[0mself\u001b[0m\u001b[0;34m.\u001b[0m\u001b[0m_engine\u001b[0m\u001b[0;34m.\u001b[0m\u001b[0mget_loc\u001b[0m\u001b[0;34m(\u001b[0m\u001b[0mkey\u001b[0m\u001b[0;34m)\u001b[0m\u001b[0;34m\u001b[0m\u001b[0m\n\u001b[1;32m   3065\u001b[0m             \u001b[0;32mexcept\u001b[0m \u001b[0mKeyError\u001b[0m\u001b[0;34m:\u001b[0m\u001b[0;34m\u001b[0m\u001b[0m\n\u001b[0;32m-> 3066\u001b[0;31m                 \u001b[0;32mreturn\u001b[0m \u001b[0mself\u001b[0m\u001b[0;34m.\u001b[0m\u001b[0m_engine\u001b[0m\u001b[0;34m.\u001b[0m\u001b[0mget_loc\u001b[0m\u001b[0;34m(\u001b[0m\u001b[0mself\u001b[0m\u001b[0;34m.\u001b[0m\u001b[0m_maybe_cast_indexer\u001b[0m\u001b[0;34m(\u001b[0m\u001b[0mkey\u001b[0m\u001b[0;34m)\u001b[0m\u001b[0;34m)\u001b[0m\u001b[0;34m\u001b[0m\u001b[0m\n\u001b[0m\u001b[1;32m   3067\u001b[0m \u001b[0;34m\u001b[0m\u001b[0m\n\u001b[1;32m   3068\u001b[0m         \u001b[0mindexer\u001b[0m \u001b[0;34m=\u001b[0m \u001b[0mself\u001b[0m\u001b[0;34m.\u001b[0m\u001b[0mget_indexer\u001b[0m\u001b[0;34m(\u001b[0m\u001b[0;34m[\u001b[0m\u001b[0mkey\u001b[0m\u001b[0;34m]\u001b[0m\u001b[0;34m,\u001b[0m \u001b[0mmethod\u001b[0m\u001b[0;34m=\u001b[0m\u001b[0mmethod\u001b[0m\u001b[0;34m,\u001b[0m \u001b[0mtolerance\u001b[0m\u001b[0;34m=\u001b[0m\u001b[0mtolerance\u001b[0m\u001b[0;34m)\u001b[0m\u001b[0;34m\u001b[0m\u001b[0m\n",
      "\u001b[0;32mpandas/_libs/index.pyx\u001b[0m in \u001b[0;36mpandas._libs.index.IndexEngine.get_loc\u001b[0;34m()\u001b[0m\n",
      "\u001b[0;32mpandas/_libs/index.pyx\u001b[0m in \u001b[0;36mpandas._libs.index.IndexEngine.get_loc\u001b[0;34m()\u001b[0m\n",
      "\u001b[0;32mpandas/_libs/hashtable_class_helper.pxi\u001b[0m in \u001b[0;36mpandas._libs.hashtable.PyObjectHashTable.get_item\u001b[0;34m()\u001b[0m\n",
      "\u001b[0;32mpandas/_libs/hashtable_class_helper.pxi\u001b[0m in \u001b[0;36mpandas._libs.hashtable.PyObjectHashTable.get_item\u001b[0;34m()\u001b[0m\n",
      "\u001b[0;31mKeyError\u001b[0m: 'track_id'"
     ]
    }
   ],
   "source": []
  },
  {
   "cell_type": "code",
   "execution_count": null,
   "metadata": {
    "collapsed": true
   },
   "outputs": [],
   "source": []
  },
  {
   "cell_type": "code",
   "execution_count": 3,
   "metadata": {
    "collapsed": true
   },
   "outputs": [],
   "source": [
    "dfX_hist = pd.read_excel(\"dfX_hist.xlsx\")"
   ]
  },
  {
   "cell_type": "code",
   "execution_count": 4,
   "metadata": {
    "collapsed": false
   },
   "outputs": [
    {
     "data": {
      "text/html": [
       "<div>\n",
       "<style scoped>\n",
       "    .dataframe tbody tr th:only-of-type {\n",
       "        vertical-align: middle;\n",
       "    }\n",
       "\n",
       "    .dataframe tbody tr th {\n",
       "        vertical-align: top;\n",
       "    }\n",
       "\n",
       "    .dataframe thead th {\n",
       "        text-align: right;\n",
       "    }\n",
       "</style>\n",
       "<table border=\"1\" class=\"dataframe\">\n",
       "  <thead>\n",
       "    <tr style=\"text-align: right;\">\n",
       "      <th></th>\n",
       "      <th>track_id</th>\n",
       "      <th>date</th>\n",
       "      <th>race_id</th>\n",
       "      <th>runner_id</th>\n",
       "      <th>name_runner</th>\n",
       "      <th>jockey_name</th>\n",
       "      <th>index</th>\n",
       "      <th>race_number</th>\n",
       "      <th>distance</th>\n",
       "      <th>approx_dist</th>\n",
       "      <th>...</th>\n",
       "      <th>runner_program_number_pp</th>\n",
       "      <th>race_id_pp</th>\n",
       "      <th>race_race_num_pp</th>\n",
       "      <th>jcp_track_sym_pp</th>\n",
       "      <th>x8_num_runners</th>\n",
       "      <th>x8_num_starters_pp</th>\n",
       "      <th>x8_pct_dirty_HDWPSRRating_par_norm</th>\n",
       "      <th>year</th>\n",
       "      <th>month</th>\n",
       "      <th>weekday</th>\n",
       "    </tr>\n",
       "  </thead>\n",
       "  <tbody>\n",
       "    <tr>\n",
       "      <th>0</th>\n",
       "      <td>APX</td>\n",
       "      <td>2017-07-03</td>\n",
       "      <td>APX_20170703_1</td>\n",
       "      <td>APX_20170703_1_7</td>\n",
       "      <td>CALL ME HANDSOME</td>\n",
       "      <td>SANCHEZ DIEGO</td>\n",
       "      <td>0</td>\n",
       "      <td>1</td>\n",
       "      <td>1540</td>\n",
       "      <td>False</td>\n",
       "      <td>...</td>\n",
       "      <td>7</td>\n",
       "      <td>APX_20170703_1</td>\n",
       "      <td>1</td>\n",
       "      <td>APX</td>\n",
       "      <td>7</td>\n",
       "      <td>7</td>\n",
       "      <td>0</td>\n",
       "      <td>2017</td>\n",
       "      <td>7</td>\n",
       "      <td>0</td>\n",
       "    </tr>\n",
       "    <tr>\n",
       "      <th>1</th>\n",
       "      <td>APX</td>\n",
       "      <td>2017-07-03</td>\n",
       "      <td>APX_20170703_1</td>\n",
       "      <td>APX_20170703_1_4</td>\n",
       "      <td>COCOS EDDY</td>\n",
       "      <td>EMIGH CHRISTOPHER A</td>\n",
       "      <td>1</td>\n",
       "      <td>1</td>\n",
       "      <td>1540</td>\n",
       "      <td>False</td>\n",
       "      <td>...</td>\n",
       "      <td>4</td>\n",
       "      <td>APX_20170703_1</td>\n",
       "      <td>1</td>\n",
       "      <td>APX</td>\n",
       "      <td>7</td>\n",
       "      <td>7</td>\n",
       "      <td>0</td>\n",
       "      <td>2017</td>\n",
       "      <td>7</td>\n",
       "      <td>0</td>\n",
       "    </tr>\n",
       "    <tr>\n",
       "      <th>2</th>\n",
       "      <td>APX</td>\n",
       "      <td>2017-07-03</td>\n",
       "      <td>APX_20170703_1</td>\n",
       "      <td>APX_20170703_1_5</td>\n",
       "      <td>DA GOOSE</td>\n",
       "      <td>MEZA NICHOLAS</td>\n",
       "      <td>2</td>\n",
       "      <td>1</td>\n",
       "      <td>1540</td>\n",
       "      <td>False</td>\n",
       "      <td>...</td>\n",
       "      <td>5</td>\n",
       "      <td>APX_20170703_1</td>\n",
       "      <td>1</td>\n",
       "      <td>APX</td>\n",
       "      <td>7</td>\n",
       "      <td>7</td>\n",
       "      <td>0</td>\n",
       "      <td>2017</td>\n",
       "      <td>7</td>\n",
       "      <td>0</td>\n",
       "    </tr>\n",
       "    <tr>\n",
       "      <th>3</th>\n",
       "      <td>APX</td>\n",
       "      <td>2017-07-03</td>\n",
       "      <td>APX_20170703_1</td>\n",
       "      <td>APX_20170703_1_2</td>\n",
       "      <td>RIO SECO</td>\n",
       "      <td>VALDIVIA JR JOSE</td>\n",
       "      <td>3</td>\n",
       "      <td>1</td>\n",
       "      <td>1540</td>\n",
       "      <td>False</td>\n",
       "      <td>...</td>\n",
       "      <td>2</td>\n",
       "      <td>APX_20170703_1</td>\n",
       "      <td>1</td>\n",
       "      <td>APX</td>\n",
       "      <td>7</td>\n",
       "      <td>7</td>\n",
       "      <td>0</td>\n",
       "      <td>2017</td>\n",
       "      <td>7</td>\n",
       "      <td>0</td>\n",
       "    </tr>\n",
       "    <tr>\n",
       "      <th>4</th>\n",
       "      <td>APX</td>\n",
       "      <td>2017-07-03</td>\n",
       "      <td>APX_20170703_1</td>\n",
       "      <td>APX_20170703_1_6</td>\n",
       "      <td>TACO GRANDE</td>\n",
       "      <td>SANJUR SANTO</td>\n",
       "      <td>4</td>\n",
       "      <td>1</td>\n",
       "      <td>1540</td>\n",
       "      <td>False</td>\n",
       "      <td>...</td>\n",
       "      <td>6</td>\n",
       "      <td>APX_20170703_1</td>\n",
       "      <td>1</td>\n",
       "      <td>APX</td>\n",
       "      <td>7</td>\n",
       "      <td>7</td>\n",
       "      <td>0</td>\n",
       "      <td>2017</td>\n",
       "      <td>7</td>\n",
       "      <td>0</td>\n",
       "    </tr>\n",
       "  </tbody>\n",
       "</table>\n",
       "<p>5 rows × 253 columns</p>\n",
       "</div>"
      ],
      "text/plain": [
       "  track_id       date         race_id         runner_id       name_runner  \\\n",
       "0      APX 2017-07-03  APX_20170703_1  APX_20170703_1_7  CALL ME HANDSOME   \n",
       "1      APX 2017-07-03  APX_20170703_1  APX_20170703_1_4        COCOS EDDY   \n",
       "2      APX 2017-07-03  APX_20170703_1  APX_20170703_1_5          DA GOOSE   \n",
       "3      APX 2017-07-03  APX_20170703_1  APX_20170703_1_2          RIO SECO   \n",
       "4      APX 2017-07-03  APX_20170703_1  APX_20170703_1_6       TACO GRANDE   \n",
       "\n",
       "           jockey_name  index  race_number  distance  approx_dist   ...    \\\n",
       "0        SANCHEZ DIEGO      0            1      1540        False   ...     \n",
       "1  EMIGH CHRISTOPHER A      1            1      1540        False   ...     \n",
       "2        MEZA NICHOLAS      2            1      1540        False   ...     \n",
       "3     VALDIVIA JR JOSE      3            1      1540        False   ...     \n",
       "4         SANJUR SANTO      4            1      1540        False   ...     \n",
       "\n",
       "  runner_program_number_pp      race_id_pp race_race_num_pp jcp_track_sym_pp  \\\n",
       "0                        7  APX_20170703_1                1              APX   \n",
       "1                        4  APX_20170703_1                1              APX   \n",
       "2                        5  APX_20170703_1                1              APX   \n",
       "3                        2  APX_20170703_1                1              APX   \n",
       "4                        6  APX_20170703_1                1              APX   \n",
       "\n",
       "  x8_num_runners x8_num_starters_pp  x8_pct_dirty_HDWPSRRating_par_norm  year  \\\n",
       "0              7                  7                                   0  2017   \n",
       "1              7                  7                                   0  2017   \n",
       "2              7                  7                                   0  2017   \n",
       "3              7                  7                                   0  2017   \n",
       "4              7                  7                                   0  2017   \n",
       "\n",
       "   month weekday  \n",
       "0      7       0  \n",
       "1      7       0  \n",
       "2      7       0  \n",
       "3      7       0  \n",
       "4      7       0  \n",
       "\n",
       "[5 rows x 253 columns]"
      ]
     },
     "execution_count": 4,
     "metadata": {},
     "output_type": "execute_result"
    }
   ],
   "source": [
    "dfX_hist.head()"
   ]
  },
  {
   "cell_type": "markdown",
   "metadata": {},
   "source": [
    "## Some indicators"
   ]
  },
  {
   "cell_type": "code",
   "execution_count": 40,
   "metadata": {
    "collapsed": true
   },
   "outputs": [],
   "source": [
    "dfX_hist['x8is_favorate_odds'] = dfX_hist.groupby('race_id')['final_tote_odds'].transform(lambda x: x==x.min())\n",
    "dfX_hist['x8is_favorate_win'] = dfX_hist.transform(lambda x: x[\"x8is_favorate_odds\"]==True and x[\"official_finish_position\"]==1, axis=1)\n",
    "dfX_hist['x8is_favorate_place'] = dfX_hist.transform(lambda x: x[\"x8is_favorate_odds\"]==True and x[\"official_finish_position\"]==2, axis=1)\n",
    "dfX_hist['x8is_favorate_show'] = dfX_hist.transform(lambda x: x[\"x8is_favorate_odds\"]==True and x[\"official_finish_position\"]==3, axis=1)\n",
    "dfX_hist['x8is_favorate_otb'] = dfX_hist.transform(lambda x: x[\"x8is_favorate_odds\"]==True and x[\"official_finish_position\"]>3, axis=1)"
   ]
  },
  {
   "cell_type": "code",
   "execution_count": 41,
   "metadata": {
    "collapsed": true
   },
   "outputs": [],
   "source": [
    "last_5_positions = [\"finish_pos_{}\".format(i) for i in range(5)]\n",
    "last_10_positions = [\"finish_pos_{}\".format(i) for i in range(10)]\n",
    "dfX_hist[\"x8is_winless_in_5\"] = dfX_hist.loc[:,last_5_positions].apply(lambda x: np.sum(x==1), axis=1)\n",
    "dfX_hist[\"x8is_winless_in_10\"] = dfX_hist.loc[:,last_10_positions].apply(lambda x: np.sum(x==1), axis=1)"
   ]
  },
  {
   "cell_type": "code",
   "execution_count": 42,
   "metadata": {
    "collapsed": false
   },
   "outputs": [],
   "source": [
    "dfX_hist.to_csv(\"dfX_hist_new.csv\")\n",
    "dfX_hist = pd.read_csv(\"dfX_hist_new.csv\")"
   ]
  },
  {
   "cell_type": "markdown",
   "metadata": {},
   "source": [
    "## Factors"
   ]
  },
  {
   "cell_type": "code",
   "execution_count": null,
   "metadata": {
    "collapsed": true
   },
   "outputs": [],
   "source": [
    "factors = ['AlternateSpeedPoints','BestHDWSpeedAllWeatherSurface','HDWPSRRating','NumericHDWRunStyleDesignation',\n",
    "           'SpeedPoints','bestCramerSpeedFigDirt','riderROI','trainerROI','x8runner_HDWPSRRating_norm_par','x8speed_norm_2of3_par',\n",
    "           'x8ratio_earnings_0_claim']"
   ]
  },
  {
   "cell_type": "code",
   "execution_count": null,
   "metadata": {
    "collapsed": true
   },
   "outputs": [],
   "source": []
  },
  {
   "cell_type": "code",
   "execution_count": 14,
   "metadata": {
    "collapsed": false
   },
   "outputs": [],
   "source": [
    "race_conditions = dfX_hist.loc[:,\"race_conditions\"]"
   ]
  },
  {
   "cell_type": "code",
   "execution_count": null,
   "metadata": {
    "collapsed": true
   },
   "outputs": [],
   "source": [
    "race_conditions[race_conditions==\"\"]"
   ]
  },
  {
   "cell_type": "code",
   "execution_count": 183,
   "metadata": {
    "collapsed": true
   },
   "outputs": [],
   "source": [
    "def col_past_features(n):\n",
    "    last_positions = [\"finish_pos_{}\".format(i) for i in range(n)]\n",
    "#     last_races = [\"race_classification_{}\".format(i) for i in range(n)]\n",
    "    last_races = []\n",
    "    last_purse = [\"purse_{}\".format(i) for i in range(n)]\n",
    "    horse_past_features = last_positions+last_races+last_purse\n",
    "    return horse_past_features"
   ]
  },
  {
   "cell_type": "code",
   "execution_count": 184,
   "metadata": {
    "collapsed": false
   },
   "outputs": [],
   "source": [
    "horse_past_features = col_past_features(n_lags)"
   ]
  },
  {
   "cell_type": "code",
   "execution_count": 185,
   "metadata": {
    "collapsed": false
   },
   "outputs": [],
   "source": [
    "factors = [\"date\",\"official_finish_position\",\"x8is_pos_top_3\",\"x8is_odds_top_3_favorable\",\"purse\",\"name_runner\", \"jockey_name\", \"race_classification\",\"final_tote_odds\" ]\n",
    "factors = factors + horse_past_features"
   ]
  },
  {
   "cell_type": "code",
   "execution_count": 186,
   "metadata": {
    "collapsed": false
   },
   "outputs": [
    {
     "data": {
      "text/plain": [
       "(2343,)"
      ]
     },
     "execution_count": 186,
     "metadata": {},
     "output_type": "execute_result"
    }
   ],
   "source": [
    "dfX_hist[\"trainer_name\"].unique().shape"
   ]
  },
  {
   "cell_type": "code",
   "execution_count": 187,
   "metadata": {
    "collapsed": false
   },
   "outputs": [],
   "source": [
    "n_trainer_data = dfX_hist.groupby(\"trainer_name\").apply(lambda x: len(x))\n",
    "trainer_names_more_than_25 = n_trainer_data[n_trainer_data>25].index.values"
   ]
  },
  {
   "cell_type": "code",
   "execution_count": 188,
   "metadata": {
    "collapsed": false
   },
   "outputs": [],
   "source": [
    "dfX_hist_new = dfX_hist.copy()\n",
    "dfX_hist_new = dfX_hist_new.set_index([\"trainer\",\"race_id\"])\n",
    "dfX_hist_new = dfX_hist_new.sort_index()\n",
    "# dfX_hist_new = dfX_hist_new.dropna(axis=0)\n",
    "dfX_hist_new[\"x8is_pos_top_3\"] = dfX_hist_new[\"official_finish_position\"].apply(lambda x: x<=3)\n",
    "dfX_hist_new[\"x8is_odds_top_3_favorable\"] = dfX_hist_new.groupby(\"race_id\")[\"final_tote_odds\"].transform(lambda x: x.rank()<=3)"
   ]
  },
  {
   "cell_type": "code",
   "execution_count": 189,
   "metadata": {
    "collapsed": false
   },
   "outputs": [],
   "source": [
    "idx = pd.IndexSlice\n",
    "trainer_sequence_df = dfX_hist_new.loc[idx[trainer_names_more_than_25,:],factors].dropna(axis=0)"
   ]
  },
  {
   "cell_type": "code",
   "execution_count": 190,
   "metadata": {
    "collapsed": false
   },
   "outputs": [
    {
     "data": {
      "text/html": [
       "<div>\n",
       "<style scoped>\n",
       "    .dataframe tbody tr th:only-of-type {\n",
       "        vertical-align: middle;\n",
       "    }\n",
       "\n",
       "    .dataframe tbody tr th {\n",
       "        vertical-align: top;\n",
       "    }\n",
       "\n",
       "    .dataframe thead th {\n",
       "        text-align: right;\n",
       "    }\n",
       "</style>\n",
       "<table border=\"1\" class=\"dataframe\">\n",
       "  <thead>\n",
       "    <tr style=\"text-align: right;\">\n",
       "      <th></th>\n",
       "      <th></th>\n",
       "      <th>date</th>\n",
       "      <th>official_finish_position</th>\n",
       "      <th>x8is_pos_top_3</th>\n",
       "      <th>x8is_odds_top_3_favorable</th>\n",
       "      <th>purse</th>\n",
       "      <th>name_runner</th>\n",
       "      <th>jockey_name</th>\n",
       "      <th>race_classification</th>\n",
       "      <th>final_tote_odds</th>\n",
       "      <th>finish_pos_0</th>\n",
       "      <th>finish_pos_1</th>\n",
       "      <th>purse_0</th>\n",
       "      <th>purse_1</th>\n",
       "    </tr>\n",
       "    <tr>\n",
       "      <th>trainer</th>\n",
       "      <th>race_id</th>\n",
       "      <th></th>\n",
       "      <th></th>\n",
       "      <th></th>\n",
       "      <th></th>\n",
       "      <th></th>\n",
       "      <th></th>\n",
       "      <th></th>\n",
       "      <th></th>\n",
       "      <th></th>\n",
       "      <th></th>\n",
       "      <th></th>\n",
       "      <th></th>\n",
       "      <th></th>\n",
       "    </tr>\n",
       "  </thead>\n",
       "  <tbody>\n",
       "    <tr>\n",
       "      <th rowspan=\"5\" valign=\"top\">ASMUSSEN STEVEN M</th>\n",
       "      <th>BEL_20170703_1</th>\n",
       "      <td>2017-07-03</td>\n",
       "      <td>4.0</td>\n",
       "      <td>False</td>\n",
       "      <td>False</td>\n",
       "      <td>29000</td>\n",
       "      <td>PONTASTIC</td>\n",
       "      <td>SANTANA JR RICARDO</td>\n",
       "      <td>Md 20000</td>\n",
       "      <td>6.10</td>\n",
       "      <td>7</td>\n",
       "      <td>4</td>\n",
       "      <td>41000</td>\n",
       "      <td>41000</td>\n",
       "    </tr>\n",
       "    <tr>\n",
       "      <th>BEL_20170708_11</th>\n",
       "      <td>2017-07-08</td>\n",
       "      <td>2.0</td>\n",
       "      <td>True</td>\n",
       "      <td>False</td>\n",
       "      <td>52000</td>\n",
       "      <td>HARLAN'S HUNCH</td>\n",
       "      <td>ORTIZ JR IRAD</td>\n",
       "      <td>Md 75000</td>\n",
       "      <td>8.20</td>\n",
       "      <td>3</td>\n",
       "      <td>8</td>\n",
       "      <td>41000</td>\n",
       "      <td>75000</td>\n",
       "    </tr>\n",
       "    <tr>\n",
       "      <th>BEL_20170708_2</th>\n",
       "      <td>2017-07-08</td>\n",
       "      <td>8.0</td>\n",
       "      <td>False</td>\n",
       "      <td>True</td>\n",
       "      <td>67000</td>\n",
       "      <td>WEATHER GIRL</td>\n",
       "      <td>CASTELLANO JAVIER</td>\n",
       "      <td>OClm 40000nw2</td>\n",
       "      <td>3.15</td>\n",
       "      <td>5</td>\n",
       "      <td>4</td>\n",
       "      <td>67000</td>\n",
       "      <td>67000</td>\n",
       "    </tr>\n",
       "    <tr>\n",
       "      <th>BEL_20170709_2</th>\n",
       "      <td>2017-07-09</td>\n",
       "      <td>7.0</td>\n",
       "      <td>False</td>\n",
       "      <td>True</td>\n",
       "      <td>75000</td>\n",
       "      <td>BREAKIN DAYLIGHT</td>\n",
       "      <td>ORTIZ JOSE L</td>\n",
       "      <td>Md Sp Wt</td>\n",
       "      <td>8.90</td>\n",
       "      <td>3</td>\n",
       "      <td>3</td>\n",
       "      <td>75000</td>\n",
       "      <td>60000</td>\n",
       "    </tr>\n",
       "    <tr>\n",
       "      <th>BEL_20170709_7</th>\n",
       "      <td>2017-07-09</td>\n",
       "      <td>4.0</td>\n",
       "      <td>False</td>\n",
       "      <td>False</td>\n",
       "      <td>150000</td>\n",
       "      <td>GOLDEN MISCHIEF</td>\n",
       "      <td>CASTELLANO JAVIER</td>\n",
       "      <td>Victory Ride-G3</td>\n",
       "      <td>11.10</td>\n",
       "      <td>2</td>\n",
       "      <td>4</td>\n",
       "      <td>150000</td>\n",
       "      <td>200000</td>\n",
       "    </tr>\n",
       "  </tbody>\n",
       "</table>\n",
       "</div>"
      ],
      "text/plain": [
       "                                        date  official_finish_position  \\\n",
       "trainer           race_id                                                \n",
       "ASMUSSEN STEVEN M BEL_20170703_1  2017-07-03                       4.0   \n",
       "                  BEL_20170708_11 2017-07-08                       2.0   \n",
       "                  BEL_20170708_2  2017-07-08                       8.0   \n",
       "                  BEL_20170709_2  2017-07-09                       7.0   \n",
       "                  BEL_20170709_7  2017-07-09                       4.0   \n",
       "\n",
       "                                   x8is_pos_top_3  x8is_odds_top_3_favorable  \\\n",
       "trainer           race_id                                                      \n",
       "ASMUSSEN STEVEN M BEL_20170703_1            False                      False   \n",
       "                  BEL_20170708_11            True                      False   \n",
       "                  BEL_20170708_2            False                       True   \n",
       "                  BEL_20170709_2            False                       True   \n",
       "                  BEL_20170709_7            False                      False   \n",
       "\n",
       "                                    purse       name_runner  \\\n",
       "trainer           race_id                                     \n",
       "ASMUSSEN STEVEN M BEL_20170703_1    29000         PONTASTIC   \n",
       "                  BEL_20170708_11   52000    HARLAN'S HUNCH   \n",
       "                  BEL_20170708_2    67000      WEATHER GIRL   \n",
       "                  BEL_20170709_2    75000  BREAKIN DAYLIGHT   \n",
       "                  BEL_20170709_7   150000   GOLDEN MISCHIEF   \n",
       "\n",
       "                                          jockey_name race_classification  \\\n",
       "trainer           race_id                                                   \n",
       "ASMUSSEN STEVEN M BEL_20170703_1   SANTANA JR RICARDO            Md 20000   \n",
       "                  BEL_20170708_11       ORTIZ JR IRAD            Md 75000   \n",
       "                  BEL_20170708_2    CASTELLANO JAVIER       OClm 40000nw2   \n",
       "                  BEL_20170709_2         ORTIZ JOSE L            Md Sp Wt   \n",
       "                  BEL_20170709_7    CASTELLANO JAVIER     Victory Ride-G3   \n",
       "\n",
       "                                   final_tote_odds  finish_pos_0  \\\n",
       "trainer           race_id                                          \n",
       "ASMUSSEN STEVEN M BEL_20170703_1              6.10             7   \n",
       "                  BEL_20170708_11             8.20             3   \n",
       "                  BEL_20170708_2              3.15             5   \n",
       "                  BEL_20170709_2              8.90             3   \n",
       "                  BEL_20170709_7             11.10             2   \n",
       "\n",
       "                                   finish_pos_1  purse_0  purse_1  \n",
       "trainer           race_id                                          \n",
       "ASMUSSEN STEVEN M BEL_20170703_1              4    41000    41000  \n",
       "                  BEL_20170708_11             8    41000    75000  \n",
       "                  BEL_20170708_2              4    67000    67000  \n",
       "                  BEL_20170709_2              3    75000    60000  \n",
       "                  BEL_20170709_7              4   150000   200000  "
      ]
     },
     "execution_count": 190,
     "metadata": {},
     "output_type": "execute_result"
    }
   ],
   "source": [
    "trainer_sequence_df.head()"
   ]
  },
  {
   "cell_type": "markdown",
   "metadata": {},
   "source": [
    "## Trainer-based Prediction\n",
    "\n",
    "Here, we conduct our algorithm to each trainer in order to capture the sentiment. \n",
    "\n",
    "However, there are some problems need to think over\n",
    "\n",
    "* The train set is too small\n",
    "* The features can only be numbers so that distance can be defined (normed vector space). That gives us a problem: how to utilize information like race name. "
   ]
  },
  {
   "cell_type": "code",
   "execution_count": 199,
   "metadata": {
    "collapsed": false,
    "scrolled": false
   },
   "outputs": [],
   "source": [
    "for trainer, group in trainer_sequence_df.groupby(\"trainer\"):\n",
    "#     print(group)\n",
    "#     print(group)\n",
    "#     print(group.loc[:,horse_past_features])\n",
    "    X = group.loc[:,horse_past_features+[\"final_tote_odds\"]].values\n",
    "#     print(X)\n",
    "    y = group.loc[:,\"x8is_pos_top_3\"].values\n",
    "#     print(y)\n",
    "    break"
   ]
  },
  {
   "cell_type": "code",
   "execution_count": 200,
   "metadata": {
    "collapsed": false
   },
   "outputs": [
    {
     "name": "stdout",
     "output_type": "stream",
     "text": [
      "[[  7.00000000e+00   4.00000000e+00   4.10000000e+04   4.10000000e+04\n",
      "    6.10000000e+00]\n",
      " [  3.00000000e+00   8.00000000e+00   4.10000000e+04   7.50000000e+04\n",
      "    8.20000000e+00]\n",
      " [  5.00000000e+00   4.00000000e+00   6.70000000e+04   6.70000000e+04\n",
      "    3.15000000e+00]\n",
      " [  3.00000000e+00   3.00000000e+00   7.50000000e+04   6.00000000e+04\n",
      "    8.90000000e+00]\n",
      " [  2.00000000e+00   4.00000000e+00   1.50000000e+05   2.00000000e+05\n",
      "    1.11000000e+01]\n",
      " [  7.00000000e+00   1.00000000e+00   1.50000000e+05   1.50000000e+05\n",
      "    1.80000000e+00]\n",
      " [  2.00000000e+00   4.00000000e+00   2.31000000e+04   2.10000000e+04\n",
      "    2.50000000e+00]\n",
      " [  1.00000000e+00   2.00000000e+00   3.10000000e+04   3.10000000e+04\n",
      "    3.06000000e+01]\n",
      " [  5.00000000e+00   2.00000000e+00   1.50000000e+05   8.20000000e+04\n",
      "    2.70000000e+00]\n",
      " [  1.00000000e+00   5.00000000e+00   2.80000000e+04   3.45000000e+04\n",
      "    5.00000000e-01]\n",
      " [  4.00000000e+00   2.00000000e+00   5.33000000e+04   7.00000000e+04\n",
      "    3.00000000e+00]\n",
      " [  8.00000000e+00   6.00000000e+00   3.30000000e+04   5.50000000e+04\n",
      "    3.10000000e+00]\n",
      " [  4.00000000e+00   7.00000000e+00   1.05000000e+04   1.30000000e+04\n",
      "    9.40000000e+00]\n",
      " [  8.00000000e+00   4.00000000e+00   5.10000000e+04   8.20000000e+04\n",
      "    8.60000000e+00]\n",
      " [  1.00000000e+00   8.00000000e+00   1.20000000e+04   1.48500000e+04\n",
      "    8.20000000e+00]\n",
      " [  3.00000000e+00   1.00000000e+00   1.50000000e+04   1.30000000e+04\n",
      "    2.20000000e+00]\n",
      " [  5.00000000e+00   1.00000000e+00   2.20000000e+04   1.35000000e+04\n",
      "    1.02000000e+01]\n",
      " [  2.00000000e+00   6.00000000e+00   2.40000000e+04   8.30000000e+04\n",
      "    5.50000000e+00]\n",
      " [  1.00000000e+00   4.00000000e+00   2.20000000e+04   8.20000000e+04\n",
      "    3.20000000e+00]\n",
      " [  6.00000000e+00   4.00000000e+00   8.50000000e+03   9.50000000e+03\n",
      "    2.20000000e+00]\n",
      " [  1.00000000e+00   4.00000000e+00   1.30000000e+04   1.50000000e+04\n",
      "    1.70000000e+00]\n",
      " [  3.00000000e+00   5.00000000e+00   8.00000000e+03   1.30000000e+04\n",
      "    1.60000000e+00]\n",
      " [  7.00000000e+00   1.00000000e+00   2.20000000e+04   2.10000000e+04\n",
      "    1.60000000e+00]\n",
      " [  1.00000000e+00   1.00000000e+00   2.31000000e+04   2.00000000e+04\n",
      "    7.00000000e-01]\n",
      " [  3.00000000e+00   2.00000000e+00   1.10000000e+04   1.40000000e+04\n",
      "    4.10000000e+00]\n",
      " [  2.00000000e+00   9.00000000e+00   9.00000000e+03   2.60000000e+04\n",
      "    1.60000000e+00]\n",
      " [  6.00000000e+00   2.00000000e+00   1.30000000e+04   1.30000000e+04\n",
      "    5.20000000e+00]\n",
      " [  7.00000000e+00   1.00000000e+00   2.20000000e+04   2.10000000e+04\n",
      "    5.20000000e+00]\n",
      " [  6.00000000e+00   4.00000000e+00   2.20000000e+04   2.20000000e+04\n",
      "    1.20000000e+00]\n",
      " [  7.00000000e+00   5.00000000e+00   2.20000000e+04   8.20000000e+04\n",
      "    7.30000000e+00]\n",
      " [  1.00000000e+00   6.00000000e+00   1.60000000e+04   2.20000000e+04\n",
      "    7.90000000e+00]\n",
      " [  3.00000000e+00   1.00000000e+00   2.20000000e+04   1.15000000e+04\n",
      "    5.00000000e+00]\n",
      " [  1.00000000e+00   7.00000000e+00   9.50000000e+03   1.00000000e+04\n",
      "    4.40000000e+00]\n",
      " [  4.00000000e+00   1.30000000e+01   1.30000000e+04   2.10000000e+04\n",
      "    2.70000000e+00]\n",
      " [  2.00000000e+00   1.00000000e+00   8.00000000e+03   8.50000000e+03\n",
      "    6.00000000e-01]\n",
      " [  3.00000000e+00   4.00000000e+00   2.40000000e+04   2.30000000e+04\n",
      "    2.20000000e+00]\n",
      " [  5.00000000e+00   1.00000000e+00   2.75000000e+04   2.80000000e+04\n",
      "    5.10000000e+00]\n",
      " [  4.00000000e+00   7.00000000e+00   2.20000000e+04   2.20000000e+04\n",
      "    3.20000000e+00]\n",
      " [  1.00000000e+00   6.00000000e+00   1.10000000e+04   2.00000000e+04\n",
      "    1.70000000e+00]\n",
      " [  3.00000000e+00   2.00000000e+00   2.20000000e+04   2.20000000e+04\n",
      "    1.80000000e+00]\n",
      " [  1.00000000e+00   3.00000000e+00   9.00000000e+03   1.20000000e+04\n",
      "    1.90000000e+00]\n",
      " [  4.00000000e+00   1.00000000e+00   2.20000000e+04   2.10000000e+04\n",
      "    1.70000000e+00]\n",
      " [  5.00000000e+00   1.00000000e+00   8.00000000e+03   8.00000000e+03\n",
      "    1.20000000e+00]\n",
      " [  4.00000000e+00   3.00000000e+00   1.30000000e+04   1.40000000e+04\n",
      "    5.00000000e-01]\n",
      " [  3.00000000e+00   1.00000000e+00   2.30000000e+04   2.20000000e+04\n",
      "    5.00000000e-01]]\n",
      "[False  True False False False  True  True  True  True  True  True  True\n",
      "  True False  True False False  True False False False  True  True  True\n",
      "  True  True False False  True False False False  True False  True  True\n",
      " False  True  True  True  True  True  True  True  True]\n"
     ]
    }
   ],
   "source": [
    "print(X)\n",
    "print(y)"
   ]
  },
  {
   "cell_type": "code",
   "execution_count": 202,
   "metadata": {
    "collapsed": false
   },
   "outputs": [
    {
     "name": "stdout",
     "output_type": "stream",
     "text": [
      "[False  True]\n"
     ]
    }
   ],
   "source": [
    "from sklearn.neighbors import KNeighborsClassifier\n",
    "neigh = KNeighborsClassifier(n_neighbors=n_neighbors)\n",
    "neigh.fit(X[:-2], y[:-2]) \n",
    "KNeighborsClassifier(...)\n",
    "print(neigh.predict(X[-2:]))"
   ]
  },
  {
   "cell_type": "code",
   "execution_count": 203,
   "metadata": {
    "collapsed": false
   },
   "outputs": [
    {
     "data": {
      "text/plain": [
       "array([ True,  True], dtype=bool)"
      ]
     },
     "execution_count": 203,
     "metadata": {},
     "output_type": "execute_result"
    }
   ],
   "source": [
    "y[-2:]"
   ]
  },
  {
   "cell_type": "code",
   "execution_count": null,
   "metadata": {
    "collapsed": true
   },
   "outputs": [],
   "source": []
  }
 ],
 "metadata": {
  "kernelspec": {
   "display_name": "Python 3",
   "language": "python",
   "name": "python3"
  },
  "language_info": {
   "codemirror_mode": {
    "name": "ipython",
    "version": 3
   },
   "file_extension": ".py",
   "mimetype": "text/x-python",
   "name": "python",
   "nbconvert_exporter": "python",
   "pygments_lexer": "ipython3",
   "version": "3.5.2"
  }
 },
 "nbformat": 4,
 "nbformat_minor": 2
}
