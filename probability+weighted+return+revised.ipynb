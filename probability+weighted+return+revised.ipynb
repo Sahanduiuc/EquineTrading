{
 "cells": [
  {
   "cell_type": "code",
   "execution_count": null,
   "metadata": {
    "collapsed": true
   },
   "outputs": [],
   "source": [
    "# this notebook is to get probability weighted return (prob_HDWPSRRating)"
   ]
  },
  {
   "cell_type": "code",
   "execution_count": 99,
   "metadata": {
    "collapsed": true
   },
   "outputs": [],
   "source": [
    "import scipy.spatial.distance as ssd\n",
    "from scipy.stats import norm\n",
    "import math\n",
    "import itertools\n",
    "import numpy as np\n",
    "import pandas as pd\n",
    "\n",
    "from math import ceil"
   ]
  },
  {
   "cell_type": "code",
   "execution_count": 100,
   "metadata": {
    "collapsed": false
   },
   "outputs": [],
   "source": [
    "\n",
    "def generate_combinations_factors(balls, num_balls):\n",
    "    '''Generate combinations from N codes and k selections '''\n",
    "    return [list(p) for p in itertools.permutations(balls, num_balls)]\n",
    "\n",
    "\n",
    "def generate_system_space(balls, numballs2buckets):\n",
    "    '''Generates all possible systems meeting criteria'''\n",
    "    balls_in = {}\n",
    "    for bucket, nballs in numballs2buckets.items():\n",
    "        balls_in[bucket] = generate_combinations_factors(balls, nballs)\n",
    "    return balls_in\n",
    "\n",
    "\n",
    "def compute_probs_from_odds(odds):\n",
    "    #TODO: handle NaNs and zeros\n",
    "    dirty_probs = 1.0 / (odds + 1)\n",
    "    clean_probs = dirty_probs / dirty_probs.sum()\n",
    "    return clean_probs\n",
    "\n",
    "\n",
    "def dmetric_L1_weighted(a_vector,b_vector, weight, funcdist):\n",
    "    return ssd.minkowski(a_vector, b_vector, 1)\n",
    "\n",
    "\n",
    "def log_safe(x,b):\n",
    "    if x is None or x <= 0:\n",
    "        # print(\"Log of {}\".format(x))\n",
    "        return 0\n",
    "    else:\n",
    "        return math.log(x,b)\n",
    "\n",
    "\n",
    "def kl(p, q):\n",
    "    \"\"\"\n",
    "    Specifically, the Kullback–Leibler divergence from Q to P, denoted DKL(P‖Q), is\n",
    "    a measure of the information gained when one revises one's beliefs from the\n",
    "    prior probability distribution Q to the posterior probability distribution P. In\n",
    "    other words, it is the amount of information lost when Q is used to approximate P.\n",
    "    Parameters\n",
    "    ----------\n",
    "    p, q : array-like, dtype=float, shape=n\n",
    "    Discrete probability distributions.\n",
    "    \"\"\"\n",
    "    p = np.asarray(p, dtype=np.float)\n",
    "    q = np.asarray(q, dtype=np.float)\n",
    "\n",
    "    return np.sum(np.where(p != 0, p * np.log(p / q), 0))\n",
    "\n",
    "\n",
    "def week_of_month(dt):\n",
    "    \"\"\"\n",
    "    Returns int of the week of the month for the specified date. Will always be 1-5\n",
    "    \"\"\"\n",
    "\n",
    "    first_day = dt.replace(day=1)\n",
    "\n",
    "    dom = dt.day\n",
    "    adjusted_dom = dom + first_day.weekday()\n",
    "\n",
    "    return int(ceil(adjusted_dom/7.0))\n",
    "\n",
    "\n",
    "def get_freq_wom(target_date):\n",
    "    # Here we determine what dates to use for simulation\n",
    "\n",
    "    target_datetime = pd.to_datetime(target_date)  # use pandas datetime for datetime functions\n",
    "    target_weekday_name = pd.to_datetime(target_datetime).weekday_name  # 7:Sunday, 6:Saturday\n",
    "    target_weekday_prefix = target_weekday_name[0:3].upper()\n",
    "    target_wom = week_of_month(target_date)\n",
    "\n",
    "    # 'WOM-1SUN is first sunday of month\n",
    "    freq_wom = 'WOM-' + str(target_wom) + target_weekday_prefix\n",
    "\n",
    "    return freq_wom\n",
    "\n",
    "\n",
    "def mean_best_N_of_K(row, n, k):\n",
    "    # e.g.\n",
    "    # df[['HDWSpeedRating_0', 'HDWSpeedRating_1', 'HDWSpeedRating_2']].apply(lambda row: mean_best_N_of_K(row, n=2, k=3), axis=1)\n",
    "    return row[0:k].nlargest(n).mean()\n",
    "\n",
    "\n",
    "class ScoreToProbViaIntegral(object):\n",
    "    def __init__(self, func, scoreLabel):\n",
    "        self.func = func\n",
    "        self.scoreLabel = scoreLabel\n",
    "\n",
    "    def __call__(self, df, addIndex=False):\n",
    "        scores = self.func(df)\n",
    "\n",
    "        try:\n",
    "            scores = pd.Series(scores)\n",
    "            clean_scores = scores[scores > 0]\n",
    "            clean_median = np.median(clean_scores)\n",
    "            mean_score = scores[scores > 0].mean()\n",
    "        except:\n",
    "            print(\"no scores\")\n",
    "            return None\n",
    "\n",
    "        try:\n",
    "            scores = (scores - scores.mean()) / scores.std()\n",
    "        except:\n",
    "            print(\"could not compute normalized score\")\n",
    "            return None\n",
    "\n",
    "        pdf, cdf = self.probDists(scores)\n",
    "        pdfSeries = pd.Series(pdf).transpose()\n",
    "        cdfSeries = pd.Series(cdf).transpose()\n",
    "        probw = {}\n",
    "\n",
    "        for winner in pdfSeries.index:\n",
    "            probw[winner] = self.marginrunner(cdfSeries, pdfSeries, winner)\n",
    "        probs = pd.Series(probw)\n",
    "        probs = probs / probs.sum()\n",
    "\n",
    "        if addIndex:\n",
    "            probs_order = probs.order(ascending=False)\n",
    "            idxABC = [\"A\", \"B\", \"C\", \"D\", \"E\", \"F\", \"G\", \"H\", \"I\", \"J\", \"K\", \"L\", \"M\"]\n",
    "            idxRunners = probs_order.index.values\n",
    "            idxZipABC = pd.MultiIndex.from_tuples(zip(idxABC, idxRunners))\n",
    "            probs_order.index = idxZipABC\n",
    "        return(probs)\n",
    "\n",
    "    def marginrunner(self, cdf, pdf, runner):\n",
    "        '''Computes the win probs from for each horse from cdf and pdf'''\n",
    "        '''std : standard deviation of score'''\n",
    "        '''incr: discretization for solving integral'''\n",
    "        cdfdrop = cdf.drop(runner)\n",
    "        pdfmult = pdf.ix[runner,]\n",
    "        # print((\"Starting {}:\\n{}\".format(runner, sum(pdfmult)))\n",
    "        for w in cdfdrop.index:\n",
    "            pdfmult = pdfmult * cdfdrop.ix[w,]\n",
    "            # print((\"After {}:\\n{}\".format(runner, sum(pdfmult)))\n",
    "        sumtest = sum(pdfmult)\n",
    "        # print((\"{} {}\".format(runner, sumtest))\n",
    "        return sumtest\n",
    "\n",
    "    def probDists(self, scores, incr=.25, width=8.0):\n",
    "        '''computes probabilities by assuming normal distribution of outcomes relative to score'''\n",
    "        range = np.arange(-width, width, incr)\n",
    "        probintegral = {}\n",
    "        pdfslice = {}\n",
    "        for s in scores.index:\n",
    "            cdfdict = {}\n",
    "            pdfdict = {}\n",
    "            dist = norm(scores[s], 1)\n",
    "            for r in range:\n",
    "                cdfdict[r] = dist.cdf(r)\n",
    "                pdfdict[r] = dist.pdf(r)\n",
    "            cdfseries = pd.Series(cdfdict)\n",
    "            probintegral[s] = cdfseries\n",
    "            pdfseries = pd.Series(pdfdict)\n",
    "            pdfslice[s] = pdfseries\n",
    "        return (pdfslice, probintegral)\n",
    "\n",
    "    def __str__(self):\n",
    "        return \"ScoreToProbViaIntegral({!r})\".format(self.scoreLabel)"
   ]
  },
  {
   "cell_type": "code",
   "execution_count": 101,
   "metadata": {
    "collapsed": true
   },
   "outputs": [],
   "source": [
    "def Score(df):\n",
    "    return df"
   ]
  },
  {
   "cell_type": "code",
   "execution_count": 102,
   "metadata": {
    "collapsed": true
   },
   "outputs": [],
   "source": [
    "#import dataset and add one column 'payout_win'='final_tote_odds'+1\n",
    "dfX_hist = pd.read_csv('I:/YaoTony/saleem tasks/df_factors_PILOT.csv')\n",
    "dfX_hist['payout_win']=dfX_hist['final_tote_odds']+1"
   ]
  },
  {
   "cell_type": "code",
   "execution_count": 103,
   "metadata": {
    "collapsed": false
   },
   "outputs": [
    {
     "name": "stderr",
     "output_type": "stream",
     "text": [
      "C:\\Anaconda3\\lib\\site-packages\\ipykernel\\__main__.py:130: DeprecationWarning: \n",
      ".ix is deprecated. Please use\n",
      ".loc for label based indexing or\n",
      ".iloc for positional indexing\n",
      "\n",
      "See the documentation here:\n",
      "http://pandas.pydata.org/pandas-docs/stable/indexing.html#ix-indexer-is-deprecated\n",
      "C:\\Anaconda3\\lib\\site-packages\\ipykernel\\__main__.py:133: DeprecationWarning: \n",
      ".ix is deprecated. Please use\n",
      ".loc for label based indexing or\n",
      ".iloc for positional indexing\n",
      "\n",
      "See the documentation here:\n",
      "http://pandas.pydata.org/pandas-docs/stable/indexing.html#ix-indexer-is-deprecated\n",
      "C:\\Anaconda3\\lib\\site-packages\\scipy\\stats\\_distn_infrastructure.py:875: RuntimeWarning: invalid value encountered in greater\n",
      "  return (self.a < x) & (x < self.b)\n",
      "C:\\Anaconda3\\lib\\site-packages\\scipy\\stats\\_distn_infrastructure.py:875: RuntimeWarning: invalid value encountered in less\n",
      "  return (self.a < x) & (x < self.b)\n",
      "C:\\Anaconda3\\lib\\site-packages\\scipy\\stats\\_distn_infrastructure.py:1731: RuntimeWarning: invalid value encountered in greater_equal\n",
      "  cond2 = (x >= self.b) & cond0\n",
      "C:\\Anaconda3\\lib\\site-packages\\scipy\\stats\\_distn_infrastructure.py:872: RuntimeWarning: invalid value encountered in greater_equal\n",
      "  return (self.a <= x) & (x <= self.b)\n",
      "C:\\Anaconda3\\lib\\site-packages\\scipy\\stats\\_distn_infrastructure.py:872: RuntimeWarning: invalid value encountered in less_equal\n",
      "  return (self.a <= x) & (x <= self.b)\n"
     ]
    }
   ],
   "source": [
    "#if you want to analyze other factors, you just need to change 'ScoreLabel'\n",
    "ScoreLabel = 'HDWPSRRating'\n",
    "A = ScoreToProbViaIntegral(Score, ScoreLabel)\n",
    "dfX_hist['prob_'+ScoreLabel] = dfX_hist.groupby('race_id')[ScoreLabel].transform(lambda x:A(x))\n"
   ]
  },
  {
   "cell_type": "code",
   "execution_count": 104,
   "metadata": {
    "collapsed": false
   },
   "outputs": [
    {
     "data": {
      "text/html": [
       "<div>\n",
       "<style scoped>\n",
       "    .dataframe tbody tr th:only-of-type {\n",
       "        vertical-align: middle;\n",
       "    }\n",
       "\n",
       "    .dataframe tbody tr th {\n",
       "        vertical-align: top;\n",
       "    }\n",
       "\n",
       "    .dataframe thead th {\n",
       "        text-align: right;\n",
       "    }\n",
       "</style>\n",
       "<table border=\"1\" class=\"dataframe\">\n",
       "  <thead>\n",
       "    <tr style=\"text-align: right;\">\n",
       "      <th></th>\n",
       "      <th>Unnamed: 0</th>\n",
       "      <th>index</th>\n",
       "      <th>race_id</th>\n",
       "      <th>track_id</th>\n",
       "      <th>date</th>\n",
       "      <th>race_number</th>\n",
       "      <th>distance</th>\n",
       "      <th>approx_dist</th>\n",
       "      <th>surface</th>\n",
       "      <th>race_type</th>\n",
       "      <th>...</th>\n",
       "      <th>x8is_longshot</th>\n",
       "      <th>x8is_win_longshot</th>\n",
       "      <th>x8is_exacta_longshot</th>\n",
       "      <th>x8is_trifecta_lonsghot</th>\n",
       "      <th>x8is_superfecta_longshot</th>\n",
       "      <th>x8_outperform</th>\n",
       "      <th>pct_of_purse_earnings</th>\n",
       "      <th>runner_program_number_pp</th>\n",
       "      <th>payout_win</th>\n",
       "      <th>prob_HDWPSRRating</th>\n",
       "    </tr>\n",
       "  </thead>\n",
       "  <tbody>\n",
       "    <tr>\n",
       "      <th>223</th>\n",
       "      <td>223</td>\n",
       "      <td>230</td>\n",
       "      <td>CBY_20170703_4</td>\n",
       "      <td>CBY</td>\n",
       "      <td>2017-07-03</td>\n",
       "      <td>4</td>\n",
       "      <td>1870.0</td>\n",
       "      <td>False</td>\n",
       "      <td>T</td>\n",
       "      <td>N</td>\n",
       "      <td>...</td>\n",
       "      <td>1</td>\n",
       "      <td>0.0</td>\n",
       "      <td>0.0</td>\n",
       "      <td>0.0</td>\n",
       "      <td>0.0</td>\n",
       "      <td>0.0</td>\n",
       "      <td>0.015</td>\n",
       "      <td>4</td>\n",
       "      <td>17.6</td>\n",
       "      <td>0.011317</td>\n",
       "    </tr>\n",
       "    <tr>\n",
       "      <th>224</th>\n",
       "      <td>224</td>\n",
       "      <td>231</td>\n",
       "      <td>CBY_20170703_4</td>\n",
       "      <td>CBY</td>\n",
       "      <td>2017-07-03</td>\n",
       "      <td>4</td>\n",
       "      <td>1870.0</td>\n",
       "      <td>False</td>\n",
       "      <td>T</td>\n",
       "      <td>N</td>\n",
       "      <td>...</td>\n",
       "      <td>0</td>\n",
       "      <td>0.0</td>\n",
       "      <td>0.0</td>\n",
       "      <td>0.0</td>\n",
       "      <td>0.0</td>\n",
       "      <td>0.0</td>\n",
       "      <td>0.600</td>\n",
       "      <td>3</td>\n",
       "      <td>2.8</td>\n",
       "      <td>0.111844</td>\n",
       "    </tr>\n",
       "    <tr>\n",
       "      <th>225</th>\n",
       "      <td>225</td>\n",
       "      <td>240</td>\n",
       "      <td>CBY_20170703_5</td>\n",
       "      <td>CBY</td>\n",
       "      <td>2017-07-03</td>\n",
       "      <td>5</td>\n",
       "      <td>1100.0</td>\n",
       "      <td>False</td>\n",
       "      <td>D</td>\n",
       "      <td>S</td>\n",
       "      <td>...</td>\n",
       "      <td>1</td>\n",
       "      <td>0.0</td>\n",
       "      <td>0.0</td>\n",
       "      <td>0.0</td>\n",
       "      <td>1.0</td>\n",
       "      <td>3.0</td>\n",
       "      <td>0.035</td>\n",
       "      <td>7</td>\n",
       "      <td>18.1</td>\n",
       "      <td>NaN</td>\n",
       "    </tr>\n",
       "    <tr>\n",
       "      <th>226</th>\n",
       "      <td>226</td>\n",
       "      <td>242</td>\n",
       "      <td>CBY_20170703_6</td>\n",
       "      <td>CBY</td>\n",
       "      <td>2017-07-03</td>\n",
       "      <td>6</td>\n",
       "      <td>1760.0</td>\n",
       "      <td>False</td>\n",
       "      <td>D</td>\n",
       "      <td>C</td>\n",
       "      <td>...</td>\n",
       "      <td>1</td>\n",
       "      <td>0.0</td>\n",
       "      <td>0.0</td>\n",
       "      <td>0.0</td>\n",
       "      <td>0.0</td>\n",
       "      <td>0.0</td>\n",
       "      <td>0.000</td>\n",
       "      <td>8</td>\n",
       "      <td>11.2</td>\n",
       "      <td>0.030751</td>\n",
       "    </tr>\n",
       "    <tr>\n",
       "      <th>227</th>\n",
       "      <td>227</td>\n",
       "      <td>243</td>\n",
       "      <td>CBY_20170703_6</td>\n",
       "      <td>CBY</td>\n",
       "      <td>2017-07-03</td>\n",
       "      <td>6</td>\n",
       "      <td>1760.0</td>\n",
       "      <td>False</td>\n",
       "      <td>D</td>\n",
       "      <td>C</td>\n",
       "      <td>...</td>\n",
       "      <td>0</td>\n",
       "      <td>0.0</td>\n",
       "      <td>0.0</td>\n",
       "      <td>0.0</td>\n",
       "      <td>0.0</td>\n",
       "      <td>-3.0</td>\n",
       "      <td>0.035</td>\n",
       "      <td>4</td>\n",
       "      <td>3.3</td>\n",
       "      <td>0.311585</td>\n",
       "    </tr>\n",
       "  </tbody>\n",
       "</table>\n",
       "<p>5 rows × 255 columns</p>\n",
       "</div>"
      ],
      "text/plain": [
       "     Unnamed: 0  index         race_id track_id        date  race_number  \\\n",
       "223         223    230  CBY_20170703_4      CBY  2017-07-03            4   \n",
       "224         224    231  CBY_20170703_4      CBY  2017-07-03            4   \n",
       "225         225    240  CBY_20170703_5      CBY  2017-07-03            5   \n",
       "226         226    242  CBY_20170703_6      CBY  2017-07-03            6   \n",
       "227         227    243  CBY_20170703_6      CBY  2017-07-03            6   \n",
       "\n",
       "     distance  approx_dist surface race_type        ...        x8is_longshot  \\\n",
       "223    1870.0        False       T         N        ...                    1   \n",
       "224    1870.0        False       T         N        ...                    0   \n",
       "225    1100.0        False       D         S        ...                    1   \n",
       "226    1760.0        False       D         C        ...                    1   \n",
       "227    1760.0        False       D         C        ...                    0   \n",
       "\n",
       "    x8is_win_longshot x8is_exacta_longshot x8is_trifecta_lonsghot  \\\n",
       "223               0.0                  0.0                    0.0   \n",
       "224               0.0                  0.0                    0.0   \n",
       "225               0.0                  0.0                    0.0   \n",
       "226               0.0                  0.0                    0.0   \n",
       "227               0.0                  0.0                    0.0   \n",
       "\n",
       "     x8is_superfecta_longshot  x8_outperform  pct_of_purse_earnings  \\\n",
       "223                       0.0            0.0                  0.015   \n",
       "224                       0.0            0.0                  0.600   \n",
       "225                       1.0            3.0                  0.035   \n",
       "226                       0.0            0.0                  0.000   \n",
       "227                       0.0           -3.0                  0.035   \n",
       "\n",
       "    runner_program_number_pp payout_win prob_HDWPSRRating  \n",
       "223                        4       17.6          0.011317  \n",
       "224                        3        2.8          0.111844  \n",
       "225                        7       18.1               NaN  \n",
       "226                        8       11.2          0.030751  \n",
       "227                        4        3.3          0.311585  \n",
       "\n",
       "[5 rows x 255 columns]"
      ]
     },
     "execution_count": 104,
     "metadata": {},
     "output_type": "execute_result"
    }
   ],
   "source": [
    "dfX_hist.iloc[223:228,:]\n",
    "#we can find races with only one runners has none prob_scorelabel. Also in some other cases we have none prob_scorelabel.\n",
    "#We want to delete these rows in following analysis."
   ]
  },
  {
   "cell_type": "code",
   "execution_count": 105,
   "metadata": {
    "collapsed": false
   },
   "outputs": [],
   "source": [
    "#delete rows with na in prob or x8is_win\n",
    "dfX_hist_noNA = dfX_hist[np.isfinite(dfX_hist['prob_'+ScoreLabel])]\n",
    "dfX_hist_noNA = dfX_hist_noNA[np.isfinite(dfX_hist_noNA['x8is_win'])]\n",
    "#a = dfX_hist_noNA['x8is_win'].isna()\n",
    "#b= [i for i, x in enumerate(a) if x]"
   ]
  },
  {
   "cell_type": "code",
   "execution_count": 106,
   "metadata": {
    "collapsed": true
   },
   "outputs": [],
   "source": [
    "#normalize probability after deletinng rows\n",
    "def normprob(prob):\n",
    "    probnew = prob/sum(prob)\n",
    "    return probnew\n",
    "dfX_hist_noNA['prob_'+ScoreLabel+'_norm'] = dfX_hist_noNA.groupby('race_id')['prob_'+ScoreLabel].transform(lambda x:normprob(x))\n"
   ]
  },
  {
   "cell_type": "code",
   "execution_count": 107,
   "metadata": {
    "collapsed": false
   },
   "outputs": [
    {
     "data": {
      "text/plain": [
       "0.27546613016362187"
      ]
     },
     "execution_count": 107,
     "metadata": {},
     "output_type": "execute_result"
    }
   ],
   "source": [
    "#expected prob_scorelabel to win of winners\n",
    "sum(dfX_hist_noNA['prob_'+ScoreLabel+'_norm']*dfX_hist_noNA['x8is_win'])/len(dfX_hist_noNA['race_id'].unique())\n"
   ]
  },
  {
   "cell_type": "code",
   "execution_count": 108,
   "metadata": {
    "collapsed": false
   },
   "outputs": [
    {
     "name": "stderr",
     "output_type": "stream",
     "text": [
      "C:\\Anaconda3\\lib\\site-packages\\pandas\\core\\indexing.py:189: SettingWithCopyWarning: \n",
      "A value is trying to be set on a copy of a slice from a DataFrame\n",
      "\n",
      "See the caveats in the documentation: http://pandas.pydata.org/pandas-docs/stable/indexing.html#indexing-view-versus-copy\n",
      "  self._setitem_with_indexer(indexer, value)\n"
     ]
    }
   ],
   "source": [
    "#fill 0 in missing values in payout_win\n",
    "a = dfX_hist_noNA['payout_win'].isna()\n",
    "b= [i for i, x in enumerate(a) if x]\n",
    "dfX_hist_noNA['payout_win'].iloc[b]=0"
   ]
  },
  {
   "cell_type": "code",
   "execution_count": 109,
   "metadata": {
    "collapsed": false
   },
   "outputs": [
    {
     "data": {
      "text/plain": [
       "825.2212637050291"
      ]
     },
     "execution_count": 109,
     "metadata": {},
     "output_type": "execute_result"
    }
   ],
   "source": [
    "sum(dfX_hist_noNA['prob_'+ScoreLabel+'_norm']*dfX_hist_noNA['x8is_win']*dfX_hist_noNA['payout_win'])"
   ]
  },
  {
   "cell_type": "code",
   "execution_count": 110,
   "metadata": {
    "collapsed": true
   },
   "outputs": [],
   "source": [
    "#using load_benchmark functions to get advantage\n",
    "def compute_simple_payout(df, attr_model, ascending=False, bet_amount=1.0):\n",
    "    \"\"\"\n",
    "    Add columns for quick calculation of Win bets % payout\n",
    "    :param df: Dataframe from dataset for multiple races\n",
    "    :param attr_model: (string)an attribute / prob or score in the dataframe that can be ranked\n",
    "    :param ascending: False if best is higher score i.e. probs\n",
    "    :param bet_amount: default to 1.0\n",
    "    :return: Dataframe with columns added\n",
    "\n",
    "    \"\"\"\n",
    "    df['is_win'] = df['official_finish_position'].map(lambda x:int(x==1))\n",
    "    df['rank_' + attr_model] = df.groupby('race_id')[attr_model].transform(lambda x:x.rank(ascending=False))\n",
    "    df['bet_amount'] = df['rank_' + attr_model].map(lambda x:int(x<1.5)*bet_amount)\n",
    "    df['is_wager'] = df['bet_amount'].map(lambda x:int(x>0))\n",
    "    df['is_paid'] = df['is_wager'] * df['is_win']\n",
    "    df['payout'] = df['is_win']*df['bet_amount']*df['payout_win'].fillna(0.0)\n",
    "\n",
    "    return df\n",
    "\n",
    "def compute_advantage(df):\n",
    "\n",
    "    pct_win = df.groupby('race_id')['is_paid'].sum().value_counts(normalize=True)[1]\n",
    "\n",
    "    pct_loss = 1.0 - pct_win\n",
    "    mean_odds = df[df.is_paid>0]['final_tote_odds'].mean()\n",
    "    advantage = pct_win - pct_loss / mean_odds\n",
    "    print(advantage)\n",
    "    return advantage"
   ]
  },
  {
   "cell_type": "code",
   "execution_count": 111,
   "metadata": {
    "collapsed": false
   },
   "outputs": [
    {
     "name": "stdout",
     "output_type": "stream",
     "text": [
      "-0.0960620973913\n"
     ]
    }
   ],
   "source": [
    "#calculate advantage as previously did\n",
    "factor = 'prob_'+ScoreLabel\n",
    "dfX_hist_noNA['rank_' + factor] = dfX_hist_noNA.groupby(\"race_id\")[factor].rank(\"min\", ascending=False)\n",
    "df = dfX_hist_noNA\n",
    "attr_bench_final = factor\n",
    "df_1 = compute_simple_payout(df, attr_model=attr_bench_final, ascending=False, bet_amount=1.0)\n",
    "advantage = compute_advantage(df_1)"
   ]
  },
  {
   "cell_type": "code",
   "execution_count": 112,
   "metadata": {
    "collapsed": false
   },
   "outputs": [],
   "source": [
    "#using adjusted load_benchmark functions to get advantage\n",
    "def compute_simple_payout_new(df, attr_model, ascending=False, bet_amount_label=False,bet_amount=1.0):\n",
    "    \"\"\"\n",
    "    Add columns for quick calculation of Win bets % payout\n",
    "    :param df: Dataframe from dataset for multiple races\n",
    "    :param attr_model: (string)an attribute / prob or score in the dataframe that can be ranked\n",
    "    :param ascending: False if best is higher score i.e. probs\n",
    "    :param bet_amount: default to 1.0\n",
    "    :return: Dataframe with columns added\n",
    "\n",
    "    \"\"\"\n",
    "    df['is_win'] = df['official_finish_position'].map(lambda x:int(x==1))\n",
    "    df['rank_' + attr_model] = df.groupby('race_id')[attr_model].transform(lambda x:x.rank(ascending=False))\n",
    "    if bet_amount_label == False:\n",
    "        df['bet_amount'] = df['rank_' + attr_model].map(lambda x:int(x<1.5)*bet_amount)\n",
    "        \n",
    "    else:\n",
    "        df['bet_amount'] = df['rank_' + attr_model].map(lambda x:int(x<1.5)*bet_amount)*df['prob_'+bet_amount_label+'_norm']\n",
    "    df['is_wager'] = df['bet_amount'].map(lambda x:int(x>0))\n",
    "    df['is_paid'] = df['is_wager'] * df['is_win']\n",
    "    df['payout'] = df['is_win']*df['bet_amount']*df['payout_win'].fillna(0.0)\n",
    "    \n",
    "\n",
    "    return df\n",
    "\n",
    "def compute_Return(df):\n",
    "    Return = (sum(df[df.is_paid>0]['payout'])-sum(df['bet_amount']))/sum(df['bet_amount'])\n",
    "    print(Return)\n",
    "    return Return"
   ]
  },
  {
   "cell_type": "code",
   "execution_count": 114,
   "metadata": {
    "collapsed": false
   },
   "outputs": [
    {
     "name": "stdout",
     "output_type": "stream",
     "text": [
      "-0.09422028353326012\n",
      "-0.07923271233849702\n"
     ]
    }
   ],
   "source": [
    "#calculate advantage new\n",
    "factor = 'prob_'+ScoreLabel\n",
    "dfX_hist_noNA['rank_' + factor] = dfX_hist_noNA.groupby(\"race_id\")[factor].rank(\"min\", ascending=False)\n",
    "df = dfX_hist_noNA\n",
    "attr_bench_final = factor\n",
    "#bet $1 on every favourate\n",
    "df_old = compute_simple_payout_new(df, attr_model=attr_bench_final, ascending=False, bet_amount_label = False, bet_amount=1.0)\n",
    "return_old = compute_Return(df_old)\n",
    "#bet amount equal to probability to win on every favorate\n",
    "df_new = compute_simple_payout_new(df, attr_model=attr_bench_final, ascending=False, bet_amount_label = ScoreLabel, bet_amount=1.0)\n",
    "return_new = compute_Return(df_new)"
   ]
  },
  {
   "cell_type": "code",
   "execution_count": null,
   "metadata": {
    "collapsed": true
   },
   "outputs": [],
   "source": []
  }
 ],
 "metadata": {
  "anaconda-cloud": {},
  "kernelspec": {
   "display_name": "Python 3",
   "language": "python",
   "name": "python3"
  },
  "language_info": {
   "codemirror_mode": {
    "name": "ipython",
    "version": 3
   },
   "file_extension": ".py",
   "mimetype": "text/x-python",
   "name": "python",
   "nbconvert_exporter": "python",
   "pygments_lexer": "ipython3",
   "version": "3.5.2"
  }
 },
 "nbformat": 4,
 "nbformat_minor": 1
}
