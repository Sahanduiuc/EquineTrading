{
 "cells": [
  {
   "cell_type": "code",
   "execution_count": 20,
   "metadata": {},
   "outputs": [],
   "source": [
    "# for debugging the jcapper loader code, run this script \"python -i load_jcapper.py\"\n",
    "import sys\n",
    "sys.path.append('I:/YaoTony/code/x8313')\n",
    "sys.path.append('/Users/saleemhuda/Dropbox/X8313_Live')\n",
    "from datetime import date\n",
    "import pytest\n",
    "from pandas import date_range\n",
    "import pandas as pd\n",
    "from horse.betsim import data\n",
    "import os.path\n",
    "track_detail = os.path.join(data.__path__._path[0], 'track_detail.csv')\n",
    "df_track_detail = pd.read_csv(track_detail, index_col=['x8_track_sym'])\n",
    "map_jcp_itsp = df_track_detail.set_index('jcp_track_sym')['itsp_track_sym'].to_dict()\n",
    "map_rebates_win = df_track_detail.WN.to_dict()\n",
    "df_hist = pd.read_csv('./dfX_hist.csv')\n",
    "df_hist['payout_win'] = df_hist['final_tote_odds']+1\n",
    "df_hist['rebate_win'] = df_hist['track_id'].map(lambda x:map_rebates_win.get(x,0.0))\n"
   ]
  },
  {
   "cell_type": "code",
   "execution_count": 5,
   "metadata": {},
   "outputs": [],
   "source": [
    "#Functions for adding arbitrary sets of filtering criteria\n",
    "def merge_dicts(*dict_args):\n",
    "    \"\"\"\n",
    "    Given any number of dicts, shallow copy and merge into a new dict,\n",
    "    precedence goes to key value pairs in latter dicts.\n",
    "    \"\"\"\n",
    "    result = {}\n",
    "    for dictionary in dict_args:\n",
    "        result.update(dictionary)\n",
    "    return result\n",
    "\n",
    "def apply_criteria(df, dict_crit):\n",
    "    #apply dicts in dict_crit\n",
    "    #Applies criteria to filter runners in df'\n",
    "    #i.e.'x8is_par_HDWPSRRating': lambda df:df[df['x8is_HDWPSRRating_norm_par']>0]\n",
    "    for crit_name, crit_func in dict_crit.items():\n",
    "        print(\"applying crit {}\".format(crit_name))\n",
    "        print(\"num_runners before: {}\".format(len(df.runner_id.unique()))) #TODO: add race count, track count \n",
    "        df = crit_func(df)\n",
    "        print(\"num_runners after: {}\".format(len(df.runner_id.unique())))\n",
    "    return df\n",
    "\n",
    "def get_rebates_by_track_id(df, default_rebate=0.0):\n",
    "    \"\"\"\n",
    "    can use track_detail.csv\n",
    "    \n",
    "    \"\"\"\n",
    "    \n",
    "    pass\n",
    "\n",
    "    \n",
    "def compute_simple_payout(df, attr_model, ascending=False, bet_amount=1.0):\n",
    "    \"\"\"\n",
    "    Add columns for quick calculation of Win bets % payout\n",
    "    :param df: Dataframe from dataset for multiple races\n",
    "    :param attr_model: (string)an attribute / prob or score in the dataframe that can be ranked\n",
    "    :param ascending: False if best is higher score i.e. probs\n",
    "    :param bet_amount: default to 1.0\n",
    "    :return: Dataframe with columns added\n",
    "\n",
    "    \"\"\"\n",
    "    df['is_win'] = df['official_finish_position'].map(lambda x:int(x==1)) #1 if this runner is winner \n",
    "    #add rank attribute for model \n",
    "    df['rank_' + attr_model] = df.groupby('race_id')[attr_model].transform(lambda x:x.rank(ascending=ascending))\n",
    "    df['bet_amount'] = df['rank_' + attr_model].map(lambda x:int(x<1.5) * bet_amount) #we bet 1 unit if rank is 1 \n",
    "    df['is_wager'] = df['bet_amount'].map(lambda x:int(x>0)) #indicator for rows with bets\n",
    "    df['is_paid'] = df['is_wager'] * df['is_win']\n",
    "    #This is the payout (without impact) of the \n",
    "    df['itsp_track_sym'] = df['track_id'].map(lambda x: map_jcp_itsp.get(x,x))\n",
    "    \n",
    "    \n",
    "    df['payout'] = df['is_win']*df['bet_amount']*df['payout_win'].fillna(0.0) + df['bet_amount']*df['rebate_win']#rebate\n",
    "    \n",
    "    return df\n",
    "\n",
    "def compute_advantage(dfpay,rebate=0.0):\n",
    "    #Computes the pct advantage as:\n",
    "    #Win% - (Loss% / (mean_odds + rebate))\n",
    "    #dfpay: comes from compute_simple_payout() \n",
    "    #rebate \n",
    "    pct_win = dfpay.groupby('race_id')['is_paid'].sum().value_counts(normalize=True)[1]\n",
    "\n",
    "    pct_loss = 1.0 - pct_win\n",
    "    mean_odds = (dfpay[dfpay.is_paid>0]['final_tote_odds'] + dfpay[dfpay.is_paid>0]['rebate_win']).mean()\n",
    "    advantage = pct_win  - pct_loss / (mean_odds+rebate)\n",
    "    print(advantage)\n",
    "    return advantage\n"
   ]
  },
  {
   "cell_type": "code",
   "execution_count": 6,
   "metadata": {},
   "outputs": [
    {
     "name": "stdout",
     "output_type": "stream",
     "text": [
      "-0.13199672654902644\n"
     ]
    }
   ],
   "source": [
    "attr_bench = 'prob_x8runner_HDWPSRRating_norm_par'\n",
    "rbt = 0.0\n",
    "#since advantage is nothing about bet_amount, we use the original functions without bet_amount type.\n",
    "df_payout_bench = compute_simple_payout(df_hist, attr_model = attr_bench, ascending=False, bet_amount=1.0)\n",
    "advantage_bench = compute_advantage(df_payout_bench)"
   ]
  },
  {
   "cell_type": "markdown",
   "metadata": {},
   "source": [
    "## PRE: Define criteria for filtering after 12:00 pm\n",
    "### This can be done by loading races from daily.DailyRaces() class\n",
    "### NEED TO map attributes"
   ]
  },
  {
   "cell_type": "code",
   "execution_count": 7,
   "metadata": {},
   "outputs": [],
   "source": [
    "tracks_all = df_hist.track_id.unique()"
   ]
  },
  {
   "cell_type": "code",
   "execution_count": 8,
   "metadata": {},
   "outputs": [
    {
     "data": {
      "text/plain": [
       "array(['APX', 'BEL', 'BTP', 'CBY', 'DEL', 'ELP', 'EMD', 'FLX', 'LAD',\n",
       "       'LSX', 'NPX', 'PHA', 'PID', 'PLN', 'PRM', 'RUI', 'SAX', 'TDN',\n",
       "       'FEX', 'FPK', 'GPX', 'GRP', 'IND', 'ALB', 'ASD', 'EVD', 'PEN',\n",
       "       'CTX', 'FMT', 'LRC', 'ARP', 'HPO', 'LAX', 'LRL', 'MDX', 'MTH',\n",
       "       'GPR', 'HST', 'SUF', 'WYO'], dtype=object)"
      ]
     },
     "execution_count": 8,
     "metadata": {},
     "output_type": "execute_result"
    }
   ],
   "source": [
    "tracks_all"
   ]
  },
  {
   "cell_type": "code",
   "execution_count": 9,
   "metadata": {
    "collapsed": true
   },
   "outputs": [],
   "source": [
    "today = pd.datetime.today().date()"
   ]
  },
  {
   "cell_type": "code",
   "execution_count": 10,
   "metadata": {},
   "outputs": [],
   "source": [
    "today_weekday = today.weekday()"
   ]
  },
  {
   "cell_type": "code",
   "execution_count": 11,
   "metadata": {
    "collapsed": true
   },
   "outputs": [],
   "source": [
    "#Here we create dictionaries for the criteria we can apply using information available before betting starts\n",
    "\n",
    "#Filter tracks to bettable tracks\n",
    "dict_criteria_weekday_pre = {'weekday':lambda df:df[df['weekday']==today_weekday] }\n",
    "#dict_criteria_track = {'test_tracks': lambda df:df[df['track_id'].isin(['SUN','OPX','HAW','APX','EMD','FEX','PID','PHA','PEN','ASD','EVD','BTP','DEL','LAD','BEL','WOX','MNR','CTX','CBY'])]}\n",
    "                       #'B_tracks': lambda df:df[df['track_id'].isin(['LAD','PEN','PHA'])\n",
    "dict_criteria_race_pre = {'x8_num_starters_pp_9': lambda df:df[df['x8_num_starters_pp']>8]}\n",
    "\n",
    "dict_criteria_runner_pre = {'x8is_par_HDWPSRRating': lambda df:df[df['x8is_HDWPSRRating_norm_par']>0],\n",
    "                            'x8is_top4_ml': lambda df:df[df['rank_morning_line']<5]}\n",
    "\n",
    "dict_criteria_odds_play = {'x8is_top4_final': lambda df:df[df['rank_final_tote_odds']<5]}\n",
    "dict_criteria_odds_final = {'x8is_favorite_odds': lambda df:df[df['rank_final_tote_odds']<1.5]}\n"
   ]
  },
  {
   "cell_type": "code",
   "execution_count": 17,
   "metadata": {},
   "outputs": [],
   "source": [
    "#criteria using available information prior to racetime\n",
    "#use DailyRaces(status='pre')\n",
    "dict_crit_pre = merge_dicts(dict_criteria_weekday_pre, #limit to weekday today 0 Monday, 1 Tuesday\n",
    "                            dict_criteria_race_pre, #race level criteria such as num runners at least 'x8_num_starters_pp > 7'\n",
    "                            dict_criteria_runner_pre) #runner level criteria available prior to race morningline, HDWPSRRating\n",
    "\n",
    "dict_crit_play = merge_dicts(dict_crit_pre, \n",
    "                             dict_criteria_odds_play)"
   ]
  },
  {
   "cell_type": "code",
   "execution_count": 18,
   "metadata": {},
   "outputs": [
    {
     "name": "stdout",
     "output_type": "stream",
     "text": [
      "applying crit x8is_top4_ml\n",
      "num_runners before: 7406\n",
      "num_runners after: 3826\n",
      "applying crit x8_num_starters_pp_9\n",
      "num_runners before: 3826\n",
      "num_runners after: 1221\n",
      "applying crit x8is_par_HDWPSRRating\n",
      "num_runners before: 1221\n",
      "num_runners after: 521\n",
      "applying crit weekday\n",
      "num_runners before: 521\n",
      "num_runners after: 59\n",
      "applying crit weekday\n",
      "num_runners before: 7406\n",
      "num_runners after: 587\n",
      "applying crit x8is_top4_final\n",
      "num_runners before: 587\n",
      "num_runners after: 283\n",
      "applying crit x8_num_starters_pp_9\n",
      "num_runners before: 283\n",
      "num_runners after: 116\n",
      "applying crit x8is_par_HDWPSRRating\n",
      "num_runners before: 116\n",
      "num_runners after: 60\n",
      "applying crit x8is_top4_ml\n",
      "num_runners before: 60\n",
      "num_runners after: 51\n"
     ]
    }
   ],
   "source": [
    "df_filter_pre = apply_criteria(df_hist, dict_crit_pre )\n",
    "df_filter_play = apply_criteria(df_hist, dict_crit_play )"
   ]
  },
  {
   "cell_type": "code",
   "execution_count": 19,
   "metadata": {},
   "outputs": [
    {
     "name": "stdout",
     "output_type": "stream",
     "text": [
      "0.08000217280675176\n",
      "0.10698877573775367\n"
     ]
    }
   ],
   "source": [
    "attr = attr_bench\n",
    "df_payout_pre = compute_simple_payout(df_filter_pre, attr_model = attr, ascending=False, bet_amount=1.0)\n",
    "df_payout_play = compute_simple_payout(df_filter_play, attr_model = attr, ascending=False, bet_amount=1.0)\n",
    "advantage_pre = compute_advantage(df_payout_pre)\n",
    "advantage_play = compute_advantage(df_payout_play)"
   ]
  },
  {
   "cell_type": "markdown",
   "metadata": {},
   "source": [
    "   "
   ]
  },
  {
   "cell_type": "code",
   "execution_count": null,
   "metadata": {},
   "outputs": [],
   "source": [
    "df_payout_pre.info()"
   ]
  },
  {
   "cell_type": "code",
   "execution_count": null,
   "metadata": {},
   "outputs": [],
   "source": [
    "df_payout_play.info()"
   ]
  },
  {
   "cell_type": "code",
   "execution_count": null,
   "metadata": {},
   "outputs": [],
   "source": [
    "df_payout_pre.head()"
   ]
  },
  {
   "cell_type": "code",
   "execution_count": null,
   "metadata": {},
   "outputs": [],
   "source": [
    "df_payout_play.tail()"
   ]
  },
  {
   "cell_type": "code",
   "execution_count": null,
   "metadata": {
    "collapsed": true
   },
   "outputs": [],
   "source": []
  },
  {
   "cell_type": "code",
   "execution_count": null,
   "metadata": {
    "collapsed": true
   },
   "outputs": [],
   "source": []
  },
  {
   "cell_type": "code",
   "execution_count": null,
   "metadata": {
    "collapsed": true
   },
   "outputs": [],
   "source": []
  },
  {
   "cell_type": "code",
   "execution_count": null,
   "metadata": {
    "collapsed": true
   },
   "outputs": [],
   "source": []
  }
 ],
 "metadata": {
  "anaconda-cloud": {},
  "kernelspec": {
   "display_name": "Python 3",
   "language": "python",
   "name": "python3"
  },
  "language_info": {
   "codemirror_mode": {
    "name": "ipython",
    "version": 3
   },
   "file_extension": ".py",
   "mimetype": "text/x-python",
   "name": "python",
   "nbconvert_exporter": "python",
   "pygments_lexer": "ipython3",
   "version": "3.5.2"
  }
 },
 "nbformat": 4,
 "nbformat_minor": 1
}
