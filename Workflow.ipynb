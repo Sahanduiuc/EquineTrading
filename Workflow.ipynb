{
 "cells": [
  {
   "cell_type": "code",
   "execution_count": 38,
   "metadata": {
    "collapsed": true
   },
   "outputs": [],
   "source": [
    "import sys\n",
    "# sys.path.append('')\n",
    "from datetime import date\n",
    "import pytest\n",
    "from pandas import date_range\n",
    "import pandas as pd\n",
    "from horse.betsim.wrap.jcapper import JCapper\n",
    "from horse.betsim.math import compute_probs_from_odds\n",
    "import numpy as np"
   ]
  },
  {
   "cell_type": "markdown",
   "metadata": {},
   "source": [
    "## Load JCapper data"
   ]
  },
  {
   "cell_type": "code",
   "execution_count": 2,
   "metadata": {
    "collapsed": false
   },
   "outputs": [
    {
     "name": "stdout",
     "output_type": "stream",
     "text": [
      "jcapper.load(2017-07-03)\n",
      "jcapper.load(2017-07-04)\n",
      "jcapper.load(2017-07-05)\n",
      "jcapper.load(2017-07-06)\n",
      "jcapper.load(2017-07-07)\n",
      "jcapper.load(2017-07-08)\n",
      "jcapper.load(2017-07-09)\n",
      "JCapper.load() filtering scratched horses reduced from 9447 to 8500\n"
     ]
    },
    {
     "name": "stderr",
     "output_type": "stream",
     "text": [
      "/Users/xiayuxuan/Codes/EquineTrading/horse/betsim/wrap/jcapper.py:206: FutureWarning: Sorting because non-concatenation axis is not aligned. A future version\n",
      "of pandas will change to not sort by default.\n",
      "\n",
      "To accept the future behavior, pass 'sort=False'.\n",
      "\n",
      "To retain the current behavior and silence the warning, pass 'sort=True'.\n",
      "\n",
      "  df_payout = concat([df_payout, wps])\n",
      "/Users/xiayuxuan/Codes/EquineTrading/horse/betsim/wrap/jcapper.py:273: RuntimeWarning: invalid value encountered in log\n",
      "  self.df['log_ratio_effectivestarters_morningline'] = -1.0 * log(self.df.num_effective_starters_morning_line / self.df.num_starters)\n"
     ]
    },
    {
     "name": "stdout",
     "output_type": "stream",
     "text": [
      "load_jcapper: loaded 8500 rows\n"
     ]
    }
   ],
   "source": [
    "# load JCapper Breeders Cup Results file\n",
    "jcp = JCapper(verbose=True)\n",
    "jcp.load(date_range(date(2017, 7, 3), date(2017, 7, 9)))\n",
    "jcp.add_computed_columns()\n",
    "print('load_jcapper: loaded %d rows' % (len(jcp.df)))"
   ]
  },
  {
   "cell_type": "code",
   "execution_count": 19,
   "metadata": {
    "collapsed": true
   },
   "outputs": [],
   "source": [
    "df_payout = jcp.df_payout.copy() #exotic bets payouts in easier form\n",
    "df_result = jcp.df.copy() #race results dataframe"
   ]
  },
  {
   "cell_type": "code",
   "execution_count": 16,
   "metadata": {
    "collapsed": true
   },
   "outputs": [],
   "source": [
    "def compute_simple_payout(df_res, attr_model, ascending=False, bet_amount=1.0):\n",
    "    \"\"\"\n",
    "    Add columns for quick calculation of Win bets % payout\n",
    "    :param df: Dataframe from dataset for multiple races\n",
    "    :param attr_model: (string)an attribute / prob or score in the dataframe that can be ranked\n",
    "    :param ascending: False if best is higher score i.e. probs\n",
    "    :param bet_amount: default to 1.0\n",
    "    :return: Dataframe with columns added\n",
    "\n",
    "    \"\"\"\n",
    "    df = df_res.copy()\n",
    "    df['is_win'] = df['official_finish_position'].map(lambda x:int(x==1))\n",
    "    df['rank_' + attr_model] = df.groupby('race_id')[attr_model].transform(lambda x:x.rank(ascending=ascending))\n",
    "    df['bet_amount'] = df['rank_' + attr_model].map(lambda x:int(x<1.5)*bet_amount)\n",
    "    df['is_wager'] = df['bet_amount'].map(lambda x:int(x>0))\n",
    "    df['is_paid'] = df['is_wager'] * df['is_win']\n",
    "    df['payout'] = df['is_win']*df['bet_amount']*df['payout_win'].fillna(0.0)\n",
    "\n",
    "    return df"
   ]
  },
  {
   "cell_type": "code",
   "execution_count": 5,
   "metadata": {
    "collapsed": true
   },
   "outputs": [],
   "source": [
    "def compute_advantage(df):\n",
    "\n",
    "    pct_win = df.groupby('race_id')['is_paid'].sum().value_counts(normalize=True)[1]\n",
    "\n",
    "    pct_loss = 1.0 - pct_win\n",
    "    mean_odds = df[df.is_paid>0]['final_tote_odds'].mean()\n",
    "    advantage = pct_win - pct_loss / mean_odds\n",
    "    print(advantage)\n",
    "    return advantage"
   ]
  },
  {
   "cell_type": "markdown",
   "metadata": {},
   "source": [
    "## Implied probability derived from final tote odds.\n",
    "\n",
    "We used the favorite bet each time for the benchmark\n",
    "\n",
    "    def compute_probs_from_odds(odds):\n",
    "        dirty_probs = 1.0 / (odds + 1)\n",
    "        clean_probs = dirty_probs / dirty_probs.sum()\n",
    "        return clean_probs"
   ]
  },
  {
   "cell_type": "code",
   "execution_count": 21,
   "metadata": {
    "collapsed": false
   },
   "outputs": [
    {
     "data": {
      "text/html": [
       "<div>\n",
       "<style scoped>\n",
       "    .dataframe tbody tr th:only-of-type {\n",
       "        vertical-align: middle;\n",
       "    }\n",
       "\n",
       "    .dataframe tbody tr th {\n",
       "        vertical-align: top;\n",
       "    }\n",
       "\n",
       "    .dataframe thead th {\n",
       "        text-align: right;\n",
       "    }\n",
       "</style>\n",
       "<table border=\"1\" class=\"dataframe\">\n",
       "  <thead>\n",
       "    <tr style=\"text-align: right;\">\n",
       "      <th></th>\n",
       "      <th>prob_final_tote_odds</th>\n",
       "      <th>final_tote_odds</th>\n",
       "    </tr>\n",
       "  </thead>\n",
       "  <tbody>\n",
       "    <tr>\n",
       "      <th>0</th>\n",
       "      <td>0.343878</td>\n",
       "      <td>1.4</td>\n",
       "    </tr>\n",
       "    <tr>\n",
       "      <th>1</th>\n",
       "      <td>0.317426</td>\n",
       "      <td>1.6</td>\n",
       "    </tr>\n",
       "    <tr>\n",
       "      <th>2</th>\n",
       "      <td>0.086874</td>\n",
       "      <td>8.5</td>\n",
       "    </tr>\n",
       "    <tr>\n",
       "      <th>3</th>\n",
       "      <td>0.036844</td>\n",
       "      <td>21.4</td>\n",
       "    </tr>\n",
       "    <tr>\n",
       "      <th>4</th>\n",
       "      <td>0.126970</td>\n",
       "      <td>5.5</td>\n",
       "    </tr>\n",
       "  </tbody>\n",
       "</table>\n",
       "</div>"
      ],
      "text/plain": [
       "   prob_final_tote_odds  final_tote_odds\n",
       "0              0.343878              1.4\n",
       "1              0.317426              1.6\n",
       "2              0.086874              8.5\n",
       "3              0.036844             21.4\n",
       "4              0.126970              5.5"
      ]
     },
     "execution_count": 21,
     "metadata": {},
     "output_type": "execute_result"
    }
   ],
   "source": [
    "df_result.loc[:,['prob_final_tote_odds',\"final_tote_odds\"]].head()"
   ]
  },
  {
   "cell_type": "code",
   "execution_count": 17,
   "metadata": {
    "collapsed": false
   },
   "outputs": [],
   "source": [
    "attr_bench = 'prob_final_tote_odds'\n",
    "df_result_payout = compute_simple_payout(df_result, attr_model=attr_bench, ascending=False, bet_amount=1.0)"
   ]
  },
  {
   "cell_type": "markdown",
   "metadata": {},
   "source": [
    "## Advantage\n",
    "A dirty measure the win versus loss. Negative means disappreciated, positive means appreciated."
   ]
  },
  {
   "cell_type": "code",
   "execution_count": 22,
   "metadata": {
    "collapsed": false
   },
   "outputs": [
    {
     "name": "stdout",
     "output_type": "stream",
     "text": [
      "-0.17148271984334124\n"
     ]
    }
   ],
   "source": [
    "advantage_final_odds = compute_advantage(df_result_payout)"
   ]
  },
  {
   "cell_type": "markdown",
   "metadata": {},
   "source": [
    "## Probability derived from any factor via integral"
   ]
  },
  {
   "cell_type": "code",
   "execution_count": 40,
   "metadata": {
    "collapsed": true
   },
   "outputs": [],
   "source": [
    "import scipy.spatial.distance as ssd\n",
    "from scipy.stats import norm\n",
    "import math\n",
    "import itertools\n",
    "import numpy as np\n",
    "import pandas as pd\n",
    "\n",
    "from math import ceil"
   ]
  },
  {
   "cell_type": "code",
   "execution_count": 41,
   "metadata": {
    "collapsed": false
   },
   "outputs": [],
   "source": [
    "class ScoreToProbViaIntegral(object):\n",
    "    def __init__(self, func, scoreLabel):\n",
    "        self.func = func\n",
    "        self.scoreLabel = scoreLabel\n",
    "\n",
    "    def __call__(self, df, addIndex=False):\n",
    "        scores = self.func(df)\n",
    "\n",
    "        \n",
    "#         scores = pd.Series(scores)\n",
    "#         clean_scores = scores[scores > 0]\n",
    "#         clean_median = np.median(clean_scores)\n",
    "#         mean_score = scores[scores > 0].mean()\n",
    "        \n",
    "        try:\n",
    "            scores = pd.Series(scores)\n",
    "            clean_scores = scores[scores > 0]\n",
    "            clean_median = np.median(clean_scores)\n",
    "            mean_score = scores[scores > 0].mean()\n",
    "        except:\n",
    "            print(\"no scores\")\n",
    "            return None\n",
    "\n",
    "        try:\n",
    "            scores = (scores - scores.mean()) / scores.std()\n",
    "        except:\n",
    "            print(\"could not compute normalized score\")\n",
    "            return None\n",
    "\n",
    "        pdf, cdf = self.probDists(scores)\n",
    "        pdfSeries = pd.Series(pdf).transpose()\n",
    "        cdfSeries = pd.Series(cdf).transpose()\n",
    "        probw = {}\n",
    "\n",
    "        for winner in pdfSeries.index:\n",
    "            probw[winner] = self.marginrunner(cdfSeries, pdfSeries, winner)\n",
    "        probs = pd.Series(probw)\n",
    "        probs = probs / probs.sum()\n",
    "\n",
    "        if addIndex:\n",
    "            probs_order = probs.order(ascending=False)\n",
    "            idxABC = [\"A\", \"B\", \"C\", \"D\", \"E\", \"F\", \"G\", \"H\", \"I\", \"J\", \"K\", \"L\", \"M\"]\n",
    "            idxRunners = probs_order.index.values\n",
    "            idxZipABC = pd.MultiIndex.from_tuples(zip(idxABC, idxRunners))\n",
    "            probs_order.index = idxZipABC\n",
    "        return(probs)\n",
    "\n",
    "    def marginrunner(self, cdf, pdf, runner):\n",
    "        '''Computes the win probs from for each horse from cdf and pdf'''\n",
    "        '''std : standard deviation of score'''\n",
    "        '''incr: discretization for solving integral'''\n",
    "        cdfdrop = cdf.drop(runner)\n",
    "        pdfmult = pdf.ix[runner,]\n",
    "        # print((\"Starting {}:\\n{}\".format(runner, sum(pdfmult)))\n",
    "        for w in cdfdrop.index:\n",
    "            pdfmult = pdfmult * cdfdrop.ix[w,]\n",
    "            # print((\"After {}:\\n{}\".format(runner, sum(pdfmult)))\n",
    "        sumtest = sum(pdfmult)\n",
    "        # print((\"{} {}\".format(runner, sumtest))\n",
    "        return sumtest\n",
    "\n",
    "    def probDists(self, scores, incr=.25, width=8.0):\n",
    "        '''computes probabilities by assuming normal distribution of outcomes relative to score'''\n",
    "        range = np.arange(-width, width, incr)\n",
    "        probintegral = {}\n",
    "        pdfslice = {}\n",
    "        for s in scores.index:\n",
    "            cdfdict = {}\n",
    "            pdfdict = {}\n",
    "            dist = norm(scores[s], 1)\n",
    "            for r in range:\n",
    "                cdfdict[r] = dist.cdf(r)\n",
    "                pdfdict[r] = dist.pdf(r)\n",
    "            cdfseries = pd.Series(cdfdict)\n",
    "            probintegral[s] = cdfseries\n",
    "            pdfseries = pd.Series(pdfdict)\n",
    "            pdfslice[s] = pdfseries\n",
    "        return (pdfslice, probintegral)\n",
    "\n",
    "    def __str__(self):\n",
    "        return \"ScoreToProbViaIntegral({!r})\".format(self.scoreLabel)"
   ]
  },
  {
   "cell_type": "code",
   "execution_count": 42,
   "metadata": {
    "collapsed": true
   },
   "outputs": [],
   "source": [
    "def Score(series):\n",
    "    return series"
   ]
  },
  {
   "cell_type": "markdown",
   "metadata": {},
   "source": [
    "## Take HDWPSRRating as an example"
   ]
  },
  {
   "cell_type": "code",
   "execution_count": 29,
   "metadata": {
    "collapsed": false
   },
   "outputs": [],
   "source": [
    "dfX_hist = pd.read_csv('df_factors_PILOT.csv')"
   ]
  },
  {
   "cell_type": "code",
   "execution_count": 33,
   "metadata": {
    "collapsed": false
   },
   "outputs": [],
   "source": [
    "dfX_hist['payout_win']=dfX_hist['final_tote_odds']+1"
   ]
  },
  {
   "cell_type": "code",
   "execution_count": 43,
   "metadata": {
    "collapsed": false
   },
   "outputs": [
    {
     "name": "stderr",
     "output_type": "stream",
     "text": [
      "/Users/xiayuxuan/anaconda/envs/py35/lib/python3.5/site-packages/ipykernel/__main__.py:53: DeprecationWarning: \n",
      ".ix is deprecated. Please use\n",
      ".loc for label based indexing or\n",
      ".iloc for positional indexing\n",
      "\n",
      "See the documentation here:\n",
      "http://pandas.pydata.org/pandas-docs/stable/indexing.html#ix-indexer-is-deprecated\n",
      "/Users/xiayuxuan/anaconda/envs/py35/lib/python3.5/site-packages/ipykernel/__main__.py:56: DeprecationWarning: \n",
      ".ix is deprecated. Please use\n",
      ".loc for label based indexing or\n",
      ".iloc for positional indexing\n",
      "\n",
      "See the documentation here:\n",
      "http://pandas.pydata.org/pandas-docs/stable/indexing.html#ix-indexer-is-deprecated\n"
     ]
    }
   ],
   "source": [
    "#if you want to analyze other factors, you just need to change 'ScoreLabel'\n",
    "ScoreLabel = 'HDWPSRRating'\n",
    "A = ScoreToProbViaIntegral(Score, ScoreLabel)\n",
    "dfX_hist['prob_'+ScoreLabel] = dfX_hist.groupby('race_id')[ScoreLabel].transform(lambda x:A(x))"
   ]
  },
  {
   "cell_type": "code",
   "execution_count": 44,
   "metadata": {
    "collapsed": false
   },
   "outputs": [
    {
     "data": {
      "text/html": [
       "<div>\n",
       "<style scoped>\n",
       "    .dataframe tbody tr th:only-of-type {\n",
       "        vertical-align: middle;\n",
       "    }\n",
       "\n",
       "    .dataframe tbody tr th {\n",
       "        vertical-align: top;\n",
       "    }\n",
       "\n",
       "    .dataframe thead th {\n",
       "        text-align: right;\n",
       "    }\n",
       "</style>\n",
       "<table border=\"1\" class=\"dataframe\">\n",
       "  <thead>\n",
       "    <tr style=\"text-align: right;\">\n",
       "      <th></th>\n",
       "      <th>race_id</th>\n",
       "      <th>track_id</th>\n",
       "      <th>date</th>\n",
       "      <th>race_number</th>\n",
       "      <th>distance</th>\n",
       "      <th>approx_dist</th>\n",
       "      <th>surface</th>\n",
       "      <th>race_type</th>\n",
       "      <th>sex_restriction</th>\n",
       "      <th>age_restriction</th>\n",
       "      <th>...</th>\n",
       "      <th>x8is_longshot</th>\n",
       "      <th>x8is_win_longshot</th>\n",
       "      <th>x8is_exacta_longshot</th>\n",
       "      <th>x8is_trifecta_lonsghot</th>\n",
       "      <th>x8is_superfecta_longshot</th>\n",
       "      <th>x8_outperform</th>\n",
       "      <th>pct_of_purse_earnings</th>\n",
       "      <th>runner_program_number_pp</th>\n",
       "      <th>prob_HDWPSRRating</th>\n",
       "      <th>payout_win</th>\n",
       "    </tr>\n",
       "  </thead>\n",
       "  <tbody>\n",
       "    <tr>\n",
       "      <th>0</th>\n",
       "      <td>APX_20170703_1</td>\n",
       "      <td>APX</td>\n",
       "      <td>2017-07-03</td>\n",
       "      <td>1</td>\n",
       "      <td>1540.0</td>\n",
       "      <td>False</td>\n",
       "      <td>A</td>\n",
       "      <td>M</td>\n",
       "      <td>N</td>\n",
       "      <td>B</td>\n",
       "      <td>...</td>\n",
       "      <td>0</td>\n",
       "      <td>0.0</td>\n",
       "      <td>0.0</td>\n",
       "      <td>0.0</td>\n",
       "      <td>0.0</td>\n",
       "      <td>-2.0</td>\n",
       "      <td>0.015</td>\n",
       "      <td>7</td>\n",
       "      <td>0.158522</td>\n",
       "      <td>6.5</td>\n",
       "    </tr>\n",
       "    <tr>\n",
       "      <th>1</th>\n",
       "      <td>APX_20170703_1</td>\n",
       "      <td>APX</td>\n",
       "      <td>2017-07-03</td>\n",
       "      <td>1</td>\n",
       "      <td>1540.0</td>\n",
       "      <td>False</td>\n",
       "      <td>A</td>\n",
       "      <td>M</td>\n",
       "      <td>N</td>\n",
       "      <td>B</td>\n",
       "      <td>...</td>\n",
       "      <td>1</td>\n",
       "      <td>0.0</td>\n",
       "      <td>0.0</td>\n",
       "      <td>1.0</td>\n",
       "      <td>1.0</td>\n",
       "      <td>1.0</td>\n",
       "      <td>0.100</td>\n",
       "      <td>4</td>\n",
       "      <td>0.034693</td>\n",
       "      <td>9.5</td>\n",
       "    </tr>\n",
       "    <tr>\n",
       "      <th>2</th>\n",
       "      <td>APX_20170703_1</td>\n",
       "      <td>APX</td>\n",
       "      <td>2017-07-03</td>\n",
       "      <td>1</td>\n",
       "      <td>1540.0</td>\n",
       "      <td>False</td>\n",
       "      <td>A</td>\n",
       "      <td>M</td>\n",
       "      <td>N</td>\n",
       "      <td>B</td>\n",
       "      <td>...</td>\n",
       "      <td>1</td>\n",
       "      <td>0.0</td>\n",
       "      <td>0.0</td>\n",
       "      <td>0.0</td>\n",
       "      <td>0.0</td>\n",
       "      <td>1.0</td>\n",
       "      <td>0.000</td>\n",
       "      <td>5</td>\n",
       "      <td>0.008367</td>\n",
       "      <td>28.0</td>\n",
       "    </tr>\n",
       "    <tr>\n",
       "      <th>3</th>\n",
       "      <td>APX_20170703_1</td>\n",
       "      <td>APX</td>\n",
       "      <td>2017-07-03</td>\n",
       "      <td>1</td>\n",
       "      <td>1540.0</td>\n",
       "      <td>False</td>\n",
       "      <td>A</td>\n",
       "      <td>M</td>\n",
       "      <td>N</td>\n",
       "      <td>B</td>\n",
       "      <td>...</td>\n",
       "      <td>0</td>\n",
       "      <td>0.0</td>\n",
       "      <td>0.0</td>\n",
       "      <td>0.0</td>\n",
       "      <td>0.0</td>\n",
       "      <td>0.0</td>\n",
       "      <td>0.600</td>\n",
       "      <td>2</td>\n",
       "      <td>0.254660</td>\n",
       "      <td>2.4</td>\n",
       "    </tr>\n",
       "    <tr>\n",
       "      <th>4</th>\n",
       "      <td>APX_20170703_1</td>\n",
       "      <td>APX</td>\n",
       "      <td>2017-07-03</td>\n",
       "      <td>1</td>\n",
       "      <td>1540.0</td>\n",
       "      <td>False</td>\n",
       "      <td>A</td>\n",
       "      <td>M</td>\n",
       "      <td>N</td>\n",
       "      <td>B</td>\n",
       "      <td>...</td>\n",
       "      <td>0</td>\n",
       "      <td>0.0</td>\n",
       "      <td>0.0</td>\n",
       "      <td>0.0</td>\n",
       "      <td>0.0</td>\n",
       "      <td>0.0</td>\n",
       "      <td>0.250</td>\n",
       "      <td>6</td>\n",
       "      <td>0.447077</td>\n",
       "      <td>2.6</td>\n",
       "    </tr>\n",
       "  </tbody>\n",
       "</table>\n",
       "<p>5 rows × 253 columns</p>\n",
       "</div>"
      ],
      "text/plain": [
       "          race_id track_id        date  race_number  distance  approx_dist  \\\n",
       "0  APX_20170703_1      APX  2017-07-03            1    1540.0        False   \n",
       "1  APX_20170703_1      APX  2017-07-03            1    1540.0        False   \n",
       "2  APX_20170703_1      APX  2017-07-03            1    1540.0        False   \n",
       "3  APX_20170703_1      APX  2017-07-03            1    1540.0        False   \n",
       "4  APX_20170703_1      APX  2017-07-03            1    1540.0        False   \n",
       "\n",
       "  surface race_type sex_restriction age_restriction     ...     x8is_longshot  \\\n",
       "0       A         M               N               B     ...                 0   \n",
       "1       A         M               N               B     ...                 1   \n",
       "2       A         M               N               B     ...                 1   \n",
       "3       A         M               N               B     ...                 0   \n",
       "4       A         M               N               B     ...                 0   \n",
       "\n",
       "  x8is_win_longshot  x8is_exacta_longshot  x8is_trifecta_lonsghot  \\\n",
       "0               0.0                   0.0                     0.0   \n",
       "1               0.0                   0.0                     1.0   \n",
       "2               0.0                   0.0                     0.0   \n",
       "3               0.0                   0.0                     0.0   \n",
       "4               0.0                   0.0                     0.0   \n",
       "\n",
       "   x8is_superfecta_longshot x8_outperform pct_of_purse_earnings  \\\n",
       "0                       0.0          -2.0                 0.015   \n",
       "1                       1.0           1.0                 0.100   \n",
       "2                       0.0           1.0                 0.000   \n",
       "3                       0.0           0.0                 0.600   \n",
       "4                       0.0           0.0                 0.250   \n",
       "\n",
       "  runner_program_number_pp prob_HDWPSRRating  payout_win  \n",
       "0                        7          0.158522         6.5  \n",
       "1                        4          0.034693         9.5  \n",
       "2                        5          0.008367        28.0  \n",
       "3                        2          0.254660         2.4  \n",
       "4                        6          0.447077         2.6  \n",
       "\n",
       "[5 rows x 253 columns]"
      ]
     },
     "execution_count": 44,
     "metadata": {},
     "output_type": "execute_result"
    }
   ],
   "source": [
    "dfX_hist.head()"
   ]
  },
  {
   "cell_type": "code",
   "execution_count": 46,
   "metadata": {
    "collapsed": false
   },
   "outputs": [
    {
     "name": "stdout",
     "output_type": "stream",
     "text": [
      "-0.1377475210411216\n"
     ]
    }
   ],
   "source": [
    "attr_bench = 'prob_HDWPSRRating'\n",
    "df_result_payout = compute_simple_payout(dfX_hist, attr_model=attr_bench, ascending=False, bet_amount=1.0)\n",
    "advantage_HDWPSRRating = compute_advantage(df_result_payout)"
   ]
  },
  {
   "cell_type": "markdown",
   "metadata": {},
   "source": [
    "underperformance_weighted = rank_prob_final_tote_odds - official_finish_position * prob_final_tote_odds\n",
    "\n",
    "So we want to find relation between underperformance_weighted and other factors.\n",
    "In this notebook, we only use the difference between morning_line prob and prob_final_tote_odds and the number of starters as the 2 inputs to predict the underperformance. We can change factors later.\n",
    "\n",
    "In the notebook, we created another factor: sum(abs(difference between morning_line prob and prob_final_tote_odds)/(number of starters)), as a measure of difference of probs for the race. Then we use 3 factors in analysis, difference of probs of favorite runner in every race, difference of probs of the race, the number of starters in the race."
   ]
  },
  {
   "cell_type": "code",
   "execution_count": 48,
   "metadata": {
    "collapsed": false
   },
   "outputs": [
    {
     "data": {
      "text/html": [
       "<div>\n",
       "<style scoped>\n",
       "    .dataframe tbody tr th:only-of-type {\n",
       "        vertical-align: middle;\n",
       "    }\n",
       "\n",
       "    .dataframe tbody tr th {\n",
       "        vertical-align: top;\n",
       "    }\n",
       "\n",
       "    .dataframe thead th {\n",
       "        text-align: right;\n",
       "    }\n",
       "</style>\n",
       "<table border=\"1\" class=\"dataframe\">\n",
       "  <thead>\n",
       "    <tr style=\"text-align: right;\">\n",
       "      <th></th>\n",
       "      <th>chart_file_sym</th>\n",
       "      <th>date</th>\n",
       "      <th>race_number</th>\n",
       "      <th>breed_code</th>\n",
       "      <th>distance</th>\n",
       "      <th>is_about_distance</th>\n",
       "      <th>surface_code</th>\n",
       "      <th>is_off_turf</th>\n",
       "      <th>course_type_code</th>\n",
       "      <th>race_type_code</th>\n",
       "      <th>...</th>\n",
       "      <th>cost_exacta_from_win_show</th>\n",
       "      <th>cost_trifecta_from_place_wc</th>\n",
       "      <th>cost_superfecta_from_show_a1</th>\n",
       "      <th>cost_synth_place_tri</th>\n",
       "      <th>log_ratio_effectivestarters_morningline</th>\n",
       "      <th>max_prob_morning_line_odds</th>\n",
       "      <th>max_prob_final_tote_odds</th>\n",
       "      <th>underperformance_weighted</th>\n",
       "      <th>diff_abs_logprob_final_tote_morning_line</th>\n",
       "      <th>diff_sum_logprob_final_tote_morning_line</th>\n",
       "    </tr>\n",
       "  </thead>\n",
       "  <tbody>\n",
       "    <tr>\n",
       "      <th>0</th>\n",
       "      <td>AP</td>\n",
       "      <td>2017-07-03</td>\n",
       "      <td>1</td>\n",
       "      <td>TB</td>\n",
       "      <td>7.0</td>\n",
       "      <td>0</td>\n",
       "      <td>P</td>\n",
       "      <td>0</td>\n",
       "      <td>M</td>\n",
       "      <td>MCL</td>\n",
       "      <td>...</td>\n",
       "      <td>6</td>\n",
       "      <td>60</td>\n",
       "      <td>360</td>\n",
       "      <td>60</td>\n",
       "      <td>0.164764</td>\n",
       "      <td>0.364803</td>\n",
       "      <td>0.343878</td>\n",
       "      <td>0.000000</td>\n",
       "      <td>0.057891</td>\n",
       "      <td>0.356776</td>\n",
       "    </tr>\n",
       "    <tr>\n",
       "      <th>1</th>\n",
       "      <td>AP</td>\n",
       "      <td>2017-07-03</td>\n",
       "      <td>1</td>\n",
       "      <td>TB</td>\n",
       "      <td>7.0</td>\n",
       "      <td>0</td>\n",
       "      <td>P</td>\n",
       "      <td>0</td>\n",
       "      <td>M</td>\n",
       "      <td>MCL</td>\n",
       "      <td>...</td>\n",
       "      <td>6</td>\n",
       "      <td>60</td>\n",
       "      <td>360</td>\n",
       "      <td>60</td>\n",
       "      <td>0.164764</td>\n",
       "      <td>0.364803</td>\n",
       "      <td>0.343878</td>\n",
       "      <td>0.000000</td>\n",
       "      <td>0.019873</td>\n",
       "      <td>0.356776</td>\n",
       "    </tr>\n",
       "    <tr>\n",
       "      <th>2</th>\n",
       "      <td>AP</td>\n",
       "      <td>2017-07-03</td>\n",
       "      <td>1</td>\n",
       "      <td>TB</td>\n",
       "      <td>7.0</td>\n",
       "      <td>0</td>\n",
       "      <td>P</td>\n",
       "      <td>0</td>\n",
       "      <td>M</td>\n",
       "      <td>MCL</td>\n",
       "      <td>...</td>\n",
       "      <td>6</td>\n",
       "      <td>60</td>\n",
       "      <td>360</td>\n",
       "      <td>60</td>\n",
       "      <td>0.164764</td>\n",
       "      <td>0.364803</td>\n",
       "      <td>0.343878</td>\n",
       "      <td>0.086874</td>\n",
       "      <td>0.078462</td>\n",
       "      <td>0.356776</td>\n",
       "    </tr>\n",
       "    <tr>\n",
       "      <th>3</th>\n",
       "      <td>AP</td>\n",
       "      <td>2017-07-03</td>\n",
       "      <td>1</td>\n",
       "      <td>TB</td>\n",
       "      <td>7.0</td>\n",
       "      <td>0</td>\n",
       "      <td>P</td>\n",
       "      <td>0</td>\n",
       "      <td>M</td>\n",
       "      <td>MCL</td>\n",
       "      <td>...</td>\n",
       "      <td>6</td>\n",
       "      <td>60</td>\n",
       "      <td>360</td>\n",
       "      <td>60</td>\n",
       "      <td>0.164764</td>\n",
       "      <td>0.364803</td>\n",
       "      <td>0.343878</td>\n",
       "      <td>0.073688</td>\n",
       "      <td>0.044076</td>\n",
       "      <td>0.356776</td>\n",
       "    </tr>\n",
       "    <tr>\n",
       "      <th>4</th>\n",
       "      <td>AP</td>\n",
       "      <td>2017-07-03</td>\n",
       "      <td>1</td>\n",
       "      <td>TB</td>\n",
       "      <td>7.0</td>\n",
       "      <td>0</td>\n",
       "      <td>P</td>\n",
       "      <td>0</td>\n",
       "      <td>M</td>\n",
       "      <td>MCL</td>\n",
       "      <td>...</td>\n",
       "      <td>6</td>\n",
       "      <td>60</td>\n",
       "      <td>360</td>\n",
       "      <td>60</td>\n",
       "      <td>0.164764</td>\n",
       "      <td>0.364803</td>\n",
       "      <td>0.343878</td>\n",
       "      <td>-0.253941</td>\n",
       "      <td>0.019873</td>\n",
       "      <td>0.356776</td>\n",
       "    </tr>\n",
       "  </tbody>\n",
       "</table>\n",
       "<p>5 rows × 202 columns</p>\n",
       "</div>"
      ],
      "text/plain": [
       "  chart_file_sym       date  race_number breed_code  distance  \\\n",
       "0             AP 2017-07-03            1         TB       7.0   \n",
       "1             AP 2017-07-03            1         TB       7.0   \n",
       "2             AP 2017-07-03            1         TB       7.0   \n",
       "3             AP 2017-07-03            1         TB       7.0   \n",
       "4             AP 2017-07-03            1         TB       7.0   \n",
       "\n",
       "   is_about_distance surface_code  is_off_turf course_type_code  \\\n",
       "0                  0            P            0                M   \n",
       "1                  0            P            0                M   \n",
       "2                  0            P            0                M   \n",
       "3                  0            P            0                M   \n",
       "4                  0            P            0                M   \n",
       "\n",
       "  race_type_code                    ...                     \\\n",
       "0            MCL                    ...                      \n",
       "1            MCL                    ...                      \n",
       "2            MCL                    ...                      \n",
       "3            MCL                    ...                      \n",
       "4            MCL                    ...                      \n",
       "\n",
       "  cost_exacta_from_win_show cost_trifecta_from_place_wc  \\\n",
       "0                         6                          60   \n",
       "1                         6                          60   \n",
       "2                         6                          60   \n",
       "3                         6                          60   \n",
       "4                         6                          60   \n",
       "\n",
       "  cost_superfecta_from_show_a1 cost_synth_place_tri  \\\n",
       "0                          360                   60   \n",
       "1                          360                   60   \n",
       "2                          360                   60   \n",
       "3                          360                   60   \n",
       "4                          360                   60   \n",
       "\n",
       "   log_ratio_effectivestarters_morningline  max_prob_morning_line_odds  \\\n",
       "0                                 0.164764                    0.364803   \n",
       "1                                 0.164764                    0.364803   \n",
       "2                                 0.164764                    0.364803   \n",
       "3                                 0.164764                    0.364803   \n",
       "4                                 0.164764                    0.364803   \n",
       "\n",
       "   max_prob_final_tote_odds  underperformance_weighted  \\\n",
       "0                  0.343878                   0.000000   \n",
       "1                  0.343878                   0.000000   \n",
       "2                  0.343878                   0.086874   \n",
       "3                  0.343878                   0.073688   \n",
       "4                  0.343878                  -0.253941   \n",
       "\n",
       "  diff_abs_logprob_final_tote_morning_line  \\\n",
       "0                                 0.057891   \n",
       "1                                 0.019873   \n",
       "2                                 0.078462   \n",
       "3                                 0.044076   \n",
       "4                                 0.019873   \n",
       "\n",
       "   diff_sum_logprob_final_tote_morning_line  \n",
       "0                                  0.356776  \n",
       "1                                  0.356776  \n",
       "2                                  0.356776  \n",
       "3                                  0.356776  \n",
       "4                                  0.356776  \n",
       "\n",
       "[5 rows x 202 columns]"
      ]
     },
     "execution_count": 48,
     "metadata": {},
     "output_type": "execute_result"
    }
   ],
   "source": [
    "#'diff_abs_logprob_final_tote_morning_line' is like log-return of one runner, we wanted to get 'sum return', so we weighted 'diff_abs_logprob_final_tote_morning_line' and got the sum of abs.\n",
    "df_result['diff_abs_logprob_final_tote_morning_line'] = abs(df_result['diff_logprob_final_tote_morning_line']/df_result['num_starters'])\n",
    "df_result['diff_sum_logprob_final_tote_morning_line'] = df_result.groupby('race_id')['diff_abs_logprob_final_tote_morning_line'].transform(lambda x:sum(x))\n",
    "df_result.head()"
   ]
  },
  {
   "cell_type": "code",
   "execution_count": null,
   "metadata": {
    "collapsed": true
   },
   "outputs": [],
   "source": []
  }
 ],
 "metadata": {
  "kernelspec": {
   "display_name": "Python 3",
   "language": "python",
   "name": "python3"
  },
  "language_info": {
   "codemirror_mode": {
    "name": "ipython",
    "version": 3
   },
   "file_extension": ".py",
   "mimetype": "text/x-python",
   "name": "python",
   "nbconvert_exporter": "python",
   "pygments_lexer": "ipython3",
   "version": "3.5.2"
  }
 },
 "nbformat": 4,
 "nbformat_minor": 2
}
