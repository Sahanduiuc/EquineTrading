{
 "cells": [
  {
   "cell_type": "code",
   "execution_count": 1,
   "metadata": {},
   "outputs": [
    {
     "data": {
      "text/plain": [
       "'0.20.3'"
      ]
     },
     "execution_count": 1,
     "metadata": {},
     "output_type": "execute_result"
    }
   ],
   "source": [
    "import pandas\n",
    "pandas.__version__"
   ]
  },
  {
   "cell_type": "code",
   "execution_count": 2,
   "metadata": {},
   "outputs": [],
   "source": [
    "import sys\n",
    "sys.path.append('I:/YaoTony/code/x8313')\n",
    "from datetime import date\n",
    "import pytest\n",
    "from pandas import date_range\n",
    "from horse.betsim.wrap.jcapper import JCapper\n",
    "from horse.betsim.math import compute_probs_from_odds"
   ]
  },
  {
   "cell_type": "code",
   "execution_count": 3,
   "metadata": {},
   "outputs": [
    {
     "name": "stdout",
     "output_type": "stream",
     "text": [
      "jcapper.load(2017-07-03)\n",
      "jcapper.load(2017-07-04)\n",
      "jcapper.load(2017-07-05)\n",
      "jcapper.load(2017-07-06)\n",
      "jcapper.load(2017-07-07)\n",
      "jcapper.load(2017-07-08)\n",
      "jcapper.load(2017-07-09)\n",
      "JCapper.load() filtering scratched horses reduced from 9447 to 8500\n"
     ]
    },
    {
     "name": "stderr",
     "output_type": "stream",
     "text": [
      "/Users/saleemhuda/projects/x8313/horse/betsim/wrap/jcapper.py:273: RuntimeWarning: invalid value encountered in log\n",
      "  self.df['log_ratio_effectivestarters_morningline'] = -1.0 * log(self.df.num_effective_starters_morning_line / self.df.num_starters)\n"
     ]
    },
    {
     "name": "stdout",
     "output_type": "stream",
     "text": [
      "load_jcapper: loaded 8500 rows\n"
     ]
    }
   ],
   "source": [
    "# load JCapper Breeders Cup Results file\n",
    "jcp = JCapper(verbose=True)\n",
    "jcp.load(date_range(date(2017, 7, 3), date(2017, 7, 9)))\n",
    "jcp.add_computed_columns()\n",
    "print('load_jcapper: loaded %d rows' % (len(jcp.df)))"
   ]
  },
  {
   "cell_type": "code",
   "execution_count": 4,
   "metadata": {
    "collapsed": true
   },
   "outputs": [],
   "source": [
    "dfpay = jcp.df_payout.copy() #exotic bets payouts in easier form\n",
    "dfres = jcp.df.copy() #race results dataframe"
   ]
  },
  {
   "cell_type": "code",
   "execution_count": 5,
   "metadata": {
    "collapsed": true
   },
   "outputs": [],
   "source": [
    "def compute_simple_payout(df, attr_model, ascending=False, bet_amount=1.0):\n",
    "    \"\"\"\n",
    "    Add columns for quick calculation of Win bets % payout\n",
    "    :param df: Dataframe from dataset for multiple races\n",
    "    :param attr_model: (string)an attribute / prob or score in the dataframe that can be ranked\n",
    "    :param ascending: False if best is higher score i.e. probs\n",
    "    :param bet_amount: default to 1.0\n",
    "    :return: Dataframe with columns added\n",
    "\n",
    "    \"\"\"\n",
    "    df['is_win'] = df['official_finish_position'].map(lambda x:int(x==1))\n",
    "    df['rank_' + attr_model] = df.groupby('race_id')[attr_model].transform(lambda x:x.rank(ascending=False))\n",
    "    df['bet_amount'] = df['rank_' + attr_model].map(lambda x:int(x<1.5)*bet_amount)\n",
    "    df['is_wager'] = df['bet_amount'].map(lambda x:int(x>0))\n",
    "    df['is_paid'] = df['is_wager'] * df['is_win']\n",
    "    df['payout'] = df['is_win']*df['bet_amount']*df['payout_win'].fillna(0.0)\n",
    "\n",
    "    return df"
   ]
  },
  {
   "cell_type": "code",
   "execution_count": 6,
   "metadata": {
    "collapsed": true
   },
   "outputs": [],
   "source": [
    "def compute_advantage(df):\n",
    "\n",
    "    pct_win = df.groupby('race_id')['is_paid'].sum().value_counts(normalize=True)[1]\n",
    "\n",
    "    pct_loss = 1.0 - pct_win\n",
    "    mean_odds = df[df.is_paid>0]['final_tote_odds'].mean()\n",
    "    advantage = pct_win - pct_loss / mean_odds\n",
    "    print(advantage)\n",
    "    return advantage"
   ]
  },
  {
   "cell_type": "code",
   "execution_count": 7,
   "metadata": {},
   "outputs": [],
   "source": [
    "attr_bench_final = 'prob_final_tote_odds'\n",
    "dfresnew = compute_simple_payout(dfres, attr_model=attr_bench_final, ascending=False, bet_amount=1.0)"
   ]
  },
  {
   "cell_type": "code",
   "execution_count": 8,
   "metadata": {},
   "outputs": [
    {
     "name": "stdout",
     "output_type": "stream",
     "text": [
      "-0.17148271984334124\n"
     ]
    }
   ],
   "source": [
    "advantage_final = compute_advantage(dfresnew)# attr_model= attr_bench_final, ascending=False,bet_amount=1.0)"
   ]
  },
  {
   "cell_type": "code",
   "execution_count": 9,
   "metadata": {},
   "outputs": [
    {
     "data": {
      "text/html": [
       "<div>\n",
       "<style>\n",
       "    .dataframe thead tr:only-child th {\n",
       "        text-align: right;\n",
       "    }\n",
       "\n",
       "    .dataframe thead th {\n",
       "        text-align: left;\n",
       "    }\n",
       "\n",
       "    .dataframe tbody tr th {\n",
       "        vertical-align: top;\n",
       "    }\n",
       "</style>\n",
       "<table border=\"1\" class=\"dataframe\">\n",
       "  <thead>\n",
       "    <tr style=\"text-align: right;\">\n",
       "      <th></th>\n",
       "      <th>chart_file_sym</th>\n",
       "      <th>date</th>\n",
       "      <th>race_number</th>\n",
       "      <th>breed_code</th>\n",
       "      <th>distance</th>\n",
       "      <th>is_about_distance</th>\n",
       "      <th>surface_code</th>\n",
       "      <th>is_off_turf</th>\n",
       "      <th>course_type_code</th>\n",
       "      <th>race_type_code</th>\n",
       "      <th>...</th>\n",
       "      <th>max_prob_morning_line_odds</th>\n",
       "      <th>max_prob_final_tote_odds</th>\n",
       "      <th>underperformance_weighted</th>\n",
       "      <th>is_win</th>\n",
       "      <th>bet_amount</th>\n",
       "      <th>is_wager</th>\n",
       "      <th>is_paid</th>\n",
       "      <th>payout</th>\n",
       "      <th>diff_abs_logprob_final_tote_morning_line</th>\n",
       "      <th>diff_sum_logprob_final_tote_morning_line</th>\n",
       "    </tr>\n",
       "  </thead>\n",
       "  <tbody>\n",
       "    <tr>\n",
       "      <th>0</th>\n",
       "      <td>AP</td>\n",
       "      <td>2017-07-03</td>\n",
       "      <td>1</td>\n",
       "      <td>TB</td>\n",
       "      <td>7.0</td>\n",
       "      <td>0</td>\n",
       "      <td>P</td>\n",
       "      <td>0</td>\n",
       "      <td>M</td>\n",
       "      <td>MCL</td>\n",
       "      <td>...</td>\n",
       "      <td>0.364803</td>\n",
       "      <td>0.343878</td>\n",
       "      <td>0.000000</td>\n",
       "      <td>1</td>\n",
       "      <td>1.0</td>\n",
       "      <td>1</td>\n",
       "      <td>1</td>\n",
       "      <td>4.8</td>\n",
       "      <td>0.057891</td>\n",
       "      <td>0.356776</td>\n",
       "    </tr>\n",
       "    <tr>\n",
       "      <th>1</th>\n",
       "      <td>AP</td>\n",
       "      <td>2017-07-03</td>\n",
       "      <td>1</td>\n",
       "      <td>TB</td>\n",
       "      <td>7.0</td>\n",
       "      <td>0</td>\n",
       "      <td>P</td>\n",
       "      <td>0</td>\n",
       "      <td>M</td>\n",
       "      <td>MCL</td>\n",
       "      <td>...</td>\n",
       "      <td>0.364803</td>\n",
       "      <td>0.343878</td>\n",
       "      <td>0.000000</td>\n",
       "      <td>0</td>\n",
       "      <td>0.0</td>\n",
       "      <td>0</td>\n",
       "      <td>0</td>\n",
       "      <td>0.0</td>\n",
       "      <td>0.019873</td>\n",
       "      <td>0.356776</td>\n",
       "    </tr>\n",
       "    <tr>\n",
       "      <th>2</th>\n",
       "      <td>AP</td>\n",
       "      <td>2017-07-03</td>\n",
       "      <td>1</td>\n",
       "      <td>TB</td>\n",
       "      <td>7.0</td>\n",
       "      <td>0</td>\n",
       "      <td>P</td>\n",
       "      <td>0</td>\n",
       "      <td>M</td>\n",
       "      <td>MCL</td>\n",
       "      <td>...</td>\n",
       "      <td>0.364803</td>\n",
       "      <td>0.343878</td>\n",
       "      <td>0.086874</td>\n",
       "      <td>0</td>\n",
       "      <td>0.0</td>\n",
       "      <td>0</td>\n",
       "      <td>0</td>\n",
       "      <td>0.0</td>\n",
       "      <td>0.078462</td>\n",
       "      <td>0.356776</td>\n",
       "    </tr>\n",
       "    <tr>\n",
       "      <th>3</th>\n",
       "      <td>AP</td>\n",
       "      <td>2017-07-03</td>\n",
       "      <td>1</td>\n",
       "      <td>TB</td>\n",
       "      <td>7.0</td>\n",
       "      <td>0</td>\n",
       "      <td>P</td>\n",
       "      <td>0</td>\n",
       "      <td>M</td>\n",
       "      <td>MCL</td>\n",
       "      <td>...</td>\n",
       "      <td>0.364803</td>\n",
       "      <td>0.343878</td>\n",
       "      <td>0.073688</td>\n",
       "      <td>0</td>\n",
       "      <td>0.0</td>\n",
       "      <td>0</td>\n",
       "      <td>0</td>\n",
       "      <td>0.0</td>\n",
       "      <td>0.044076</td>\n",
       "      <td>0.356776</td>\n",
       "    </tr>\n",
       "    <tr>\n",
       "      <th>4</th>\n",
       "      <td>AP</td>\n",
       "      <td>2017-07-03</td>\n",
       "      <td>1</td>\n",
       "      <td>TB</td>\n",
       "      <td>7.0</td>\n",
       "      <td>0</td>\n",
       "      <td>P</td>\n",
       "      <td>0</td>\n",
       "      <td>M</td>\n",
       "      <td>MCL</td>\n",
       "      <td>...</td>\n",
       "      <td>0.364803</td>\n",
       "      <td>0.343878</td>\n",
       "      <td>-0.253941</td>\n",
       "      <td>0</td>\n",
       "      <td>0.0</td>\n",
       "      <td>0</td>\n",
       "      <td>0</td>\n",
       "      <td>0.0</td>\n",
       "      <td>0.019873</td>\n",
       "      <td>0.356776</td>\n",
       "    </tr>\n",
       "  </tbody>\n",
       "</table>\n",
       "<p>5 rows × 207 columns</p>\n",
       "</div>"
      ],
      "text/plain": [
       "  chart_file_sym       date  race_number breed_code  distance  \\\n",
       "0             AP 2017-07-03            1         TB       7.0   \n",
       "1             AP 2017-07-03            1         TB       7.0   \n",
       "2             AP 2017-07-03            1         TB       7.0   \n",
       "3             AP 2017-07-03            1         TB       7.0   \n",
       "4             AP 2017-07-03            1         TB       7.0   \n",
       "\n",
       "   is_about_distance surface_code  is_off_turf course_type_code  \\\n",
       "0                  0            P            0                M   \n",
       "1                  0            P            0                M   \n",
       "2                  0            P            0                M   \n",
       "3                  0            P            0                M   \n",
       "4                  0            P            0                M   \n",
       "\n",
       "  race_type_code                    ...                     \\\n",
       "0            MCL                    ...                      \n",
       "1            MCL                    ...                      \n",
       "2            MCL                    ...                      \n",
       "3            MCL                    ...                      \n",
       "4            MCL                    ...                      \n",
       "\n",
       "  max_prob_morning_line_odds max_prob_final_tote_odds  \\\n",
       "0                   0.364803                 0.343878   \n",
       "1                   0.364803                 0.343878   \n",
       "2                   0.364803                 0.343878   \n",
       "3                   0.364803                 0.343878   \n",
       "4                   0.364803                 0.343878   \n",
       "\n",
       "  underperformance_weighted is_win  bet_amount  is_wager  is_paid  payout  \\\n",
       "0                  0.000000      1         1.0         1        1     4.8   \n",
       "1                  0.000000      0         0.0         0        0     0.0   \n",
       "2                  0.086874      0         0.0         0        0     0.0   \n",
       "3                  0.073688      0         0.0         0        0     0.0   \n",
       "4                 -0.253941      0         0.0         0        0     0.0   \n",
       "\n",
       "  diff_abs_logprob_final_tote_morning_line  \\\n",
       "0                                 0.057891   \n",
       "1                                 0.019873   \n",
       "2                                 0.078462   \n",
       "3                                 0.044076   \n",
       "4                                 0.019873   \n",
       "\n",
       "   diff_sum_logprob_final_tote_morning_line  \n",
       "0                                  0.356776  \n",
       "1                                  0.356776  \n",
       "2                                  0.356776  \n",
       "3                                  0.356776  \n",
       "4                                  0.356776  \n",
       "\n",
       "[5 rows x 207 columns]"
      ]
     },
     "execution_count": 9,
     "metadata": {},
     "output_type": "execute_result"
    }
   ],
   "source": [
    "#'diff_abs_logprob_final_tote_morning_line' is like log-return of one runner, we wanted to get 'sum return', so we weighted 'diff_abs_logprob_final_tote_morning_line' and got the sum of abs.\n",
    "dfres['diff_abs_logprob_final_tote_morning_line'] = abs(dfres['diff_logprob_final_tote_morning_line']/dfres['num_starters'])\n",
    "dfres['diff_sum_logprob_final_tote_morning_line'] = dfres.groupby('race_id')['diff_abs_logprob_final_tote_morning_line'].transform(lambda x:sum(x))\n",
    "dfres.head()"
   ]
  },
  {
   "cell_type": "code",
   "execution_count": 10,
   "metadata": {},
   "outputs": [],
   "source": [
    "#we just keep the most favourate runner's data in each race\n",
    "dfres_fav = dfres.loc[dfres['rank_prob_final_tote_odds']==1]\n",
    "dfres_fav = dfres_fav.reset_index(drop=True)"
   ]
  },
  {
   "cell_type": "code",
   "execution_count": 11,
   "metadata": {
    "collapsed": true
   },
   "outputs": [],
   "source": [
    "#in the following analysis, we want to find relationship of 'underperformance_weighted' and 3 variables: 'diff_logprob_final_tote_morning_line', 'diff_sum_logprob_final_tote_morning_line','num_starters' "
   ]
  },
  {
   "cell_type": "code",
   "execution_count": 12,
   "metadata": {},
   "outputs": [
    {
     "data": {
      "image/png": "[encoded data removed]",
      "text/plain": [
       "<matplotlib.figure.Figure at 0x11717b588>"
      ]
     },
     "metadata": {},
     "output_type": "display_data"
    }
   ],
   "source": [
    "import matplotlib.pyplot as plt\n",
    "#histogram of 'underperformance_weighted'\n",
    "import matplotlib.mlab as mlab\n",
    "num_bins = 20\n",
    "n, bins, patches = plt.hist(dfres_fav['underperformance_weighted'], num_bins, normed=1, facecolor='blue', alpha=0.5)\n",
    "plt.show()"
   ]
  },
  {
   "cell_type": "code",
   "execution_count": 13,
   "metadata": {},
   "outputs": [
    {
     "data": {
      "image/png": "[encoded data removed]",
      "text/plain": [
       "<matplotlib.figure.Figure at 0x1172edf60>"
      ]
     },
     "metadata": {},
     "output_type": "display_data"
    }
   ],
   "source": [
    "plt.scatter(dfres_fav['diff_sum_logprob_final_tote_morning_line'],dfres_fav['underperformance_weighted'])\n",
    "plt.show()\n",
    "#no obvious relationship found"
   ]
  },
  {
   "cell_type": "code",
   "execution_count": 14,
   "metadata": {},
   "outputs": [
    {
     "data": {
      "image/png": "[encoded data removed]",
      "text/plain": [
       "<matplotlib.figure.Figure at 0x1173f38d0>"
      ]
     },
     "metadata": {},
     "output_type": "display_data"
    }
   ],
   "source": [
    "plt.scatter(dfres_fav['num_starters'],dfres_fav['underperformance_weighted'])\n",
    "plt.show()\n",
    "#no obvious relationship found"
   ]
  },
  {
   "cell_type": "code",
   "execution_count": 15,
   "metadata": {},
   "outputs": [
    {
     "data": {
      "image/png": "[encoded data removed]",
      "text/plain": [
       "<matplotlib.figure.Figure at 0x1174ccb00>"
      ]
     },
     "metadata": {},
     "output_type": "display_data"
    }
   ],
   "source": [
    "plt.scatter(dfres_fav['diff_logprob_final_tote_morning_line'],dfres_fav['underperformance_weighted'])\n",
    "plt.show()\n",
    "#no obvious relationship found"
   ]
  },
  {
   "cell_type": "code",
   "execution_count": 16,
   "metadata": {},
   "outputs": [],
   "source": [
    "#linear regression\n",
    "import statsmodels.formula.api as sm\n",
    "result = sm.ols(formula=\"underperformance_weighted ~ diff_logprob_final_tote_morning_line + num_starters+diff_sum_logprob_final_tote_morning_line\", data=dfres_fav).fit()"
   ]
  },
  {
   "cell_type": "code",
   "execution_count": 17,
   "metadata": {},
   "outputs": [
    {
     "data": {
      "text/plain": [
       "Intercept                                  -0.305578\n",
       "diff_logprob_final_tote_morning_line       -0.141737\n",
       "num_starters                               -0.041581\n",
       "diff_sum_logprob_final_tote_morning_line    0.281288\n",
       "dtype: float64"
      ]
     },
     "execution_count": 17,
     "metadata": {},
     "output_type": "execute_result"
    }
   ],
   "source": [
    "result.params"
   ]
  },
  {
   "cell_type": "code",
   "execution_count": 18,
   "metadata": {},
   "outputs": [
    {
     "data": {
      "text/html": [
       "<table class=\"simpletable\">\n",
       "<caption>OLS Regression Results</caption>\n",
       "<tr>\n",
       "  <th>Dep. Variable:</th>    <td>underperformance_weighted</td> <th>  R-squared:         </th> <td>   0.015</td>\n",
       "</tr>\n",
       "<tr>\n",
       "  <th>Model:</th>                       <td>OLS</td>            <th>  Adj. R-squared:    </th> <td>   0.012</td>\n",
       "</tr>\n",
       "<tr>\n",
       "  <th>Method:</th>                 <td>Least Squares</td>       <th>  F-statistic:       </th> <td>   5.579</td>\n",
       "</tr>\n",
       "<tr>\n",
       "  <th>Date:</th>                 <td>Thu, 21 Jun 2018</td>      <th>  Prob (F-statistic):</th> <td>0.000846</td>\n",
       "</tr>\n",
       "<tr>\n",
       "  <th>Time:</th>                     <td>16:29:21</td>          <th>  Log-Likelihood:    </th> <td> -1069.3</td>\n",
       "</tr>\n",
       "<tr>\n",
       "  <th>No. Observations:</th>          <td>  1115</td>           <th>  AIC:               </th> <td>   2147.</td>\n",
       "</tr>\n",
       "<tr>\n",
       "  <th>Df Residuals:</th>              <td>  1111</td>           <th>  BIC:               </th> <td>   2167.</td>\n",
       "</tr>\n",
       "<tr>\n",
       "  <th>Df Model:</th>                  <td>     3</td>           <th>                     </th>     <td> </td>   \n",
       "</tr>\n",
       "<tr>\n",
       "  <th>Covariance Type:</th>          <td>nonrobust</td>         <th>                     </th>     <td> </td>   \n",
       "</tr>\n",
       "</table>\n",
       "<table class=\"simpletable\">\n",
       "<tr>\n",
       "                      <td></td>                        <th>coef</th>     <th>std err</th>      <th>t</th>      <th>P>|t|</th>  <th>[0.025</th>    <th>0.975]</th>  \n",
       "</tr>\n",
       "<tr>\n",
       "  <th>Intercept</th>                                <td>   -0.3056</td> <td>    0.090</td> <td>   -3.401</td> <td> 0.001</td> <td>   -0.482</td> <td>   -0.129</td>\n",
       "</tr>\n",
       "<tr>\n",
       "  <th>diff_logprob_final_tote_morning_line</th>     <td>   -0.1417</td> <td>    0.079</td> <td>   -1.790</td> <td> 0.074</td> <td>   -0.297</td> <td>    0.014</td>\n",
       "</tr>\n",
       "<tr>\n",
       "  <th>num_starters</th>                             <td>   -0.0416</td> <td>    0.012</td> <td>   -3.604</td> <td> 0.000</td> <td>   -0.064</td> <td>   -0.019</td>\n",
       "</tr>\n",
       "<tr>\n",
       "  <th>diff_sum_logprob_final_tote_morning_line</th> <td>    0.2813</td> <td>    0.137</td> <td>    2.057</td> <td> 0.040</td> <td>    0.013</td> <td>    0.550</td>\n",
       "</tr>\n",
       "</table>\n",
       "<table class=\"simpletable\">\n",
       "<tr>\n",
       "  <th>Omnibus:</th>       <td>314.468</td> <th>  Durbin-Watson:     </th> <td>   2.077</td> \n",
       "</tr>\n",
       "<tr>\n",
       "  <th>Prob(Omnibus):</th> <td> 0.000</td>  <th>  Jarque-Bera (JB):  </th> <td> 770.449</td> \n",
       "</tr>\n",
       "<tr>\n",
       "  <th>Skew:</th>          <td>-1.505</td>  <th>  Prob(JB):          </th> <td>5.00e-168</td>\n",
       "</tr>\n",
       "<tr>\n",
       "  <th>Kurtosis:</th>      <td> 5.743</td>  <th>  Cond. No.          </th> <td>    59.5</td> \n",
       "</tr>\n",
       "</table>"
      ],
      "text/plain": [
       "<class 'statsmodels.iolib.summary.Summary'>\n",
       "\"\"\"\n",
       "                                OLS Regression Results                               \n",
       "=====================================================================================\n",
       "Dep. Variable:     underperformance_weighted   R-squared:                       0.015\n",
       "Model:                                   OLS   Adj. R-squared:                  0.012\n",
       "Method:                        Least Squares   F-statistic:                     5.579\n",
       "Date:                       Thu, 21 Jun 2018   Prob (F-statistic):           0.000846\n",
       "Time:                               16:29:21   Log-Likelihood:                -1069.3\n",
       "No. Observations:                       1115   AIC:                             2147.\n",
       "Df Residuals:                           1111   BIC:                             2167.\n",
       "Df Model:                                  3                                         \n",
       "Covariance Type:                   nonrobust                                         \n",
       "============================================================================================================\n",
       "                                               coef    std err          t      P>|t|      [0.025      0.975]\n",
       "------------------------------------------------------------------------------------------------------------\n",
       "Intercept                                   -0.3056      0.090     -3.401      0.001      -0.482      -0.129\n",
       "diff_logprob_final_tote_morning_line        -0.1417      0.079     -1.790      0.074      -0.297       0.014\n",
       "num_starters                                -0.0416      0.012     -3.604      0.000      -0.064      -0.019\n",
       "diff_sum_logprob_final_tote_morning_line     0.2813      0.137      2.057      0.040       0.013       0.550\n",
       "==============================================================================\n",
       "Omnibus:                      314.468   Durbin-Watson:                   2.077\n",
       "Prob(Omnibus):                  0.000   Jarque-Bera (JB):              770.449\n",
       "Skew:                          -1.505   Prob(JB):                    5.00e-168\n",
       "Kurtosis:                       5.743   Cond. No.                         59.5\n",
       "==============================================================================\n",
       "\n",
       "Warnings:\n",
       "[1] Standard Errors assume that the covariance matrix of the errors is correctly specified.\n",
       "\"\"\""
      ]
     },
     "execution_count": 18,
     "metadata": {},
     "output_type": "execute_result"
    }
   ],
   "source": [
    "result.summary()"
   ]
  },
  {
   "cell_type": "code",
   "execution_count": 19,
   "metadata": {
    "scrolled": true
   },
   "outputs": [],
   "source": [
    "#find quantiles of 'underperformance_weighted' to set classes\n",
    "quantile = dfres_fav['underperformance_weighted'].quantile([.2, .4, .6, .8])\n",
    "dfres_fav['underperformance_class'] = 4\n",
    "dfres_fav.loc[dfres_fav['underperformance_weighted'] < quantile[.8],'underperformance_class'] = 3\n",
    "dfres_fav.loc[dfres_fav['underperformance_weighted'] < quantile[.6],'underperformance_class'] = 2\n",
    "dfres_fav.loc[dfres_fav['underperformance_weighted'] < quantile[.4],'underperformance_class'] = 1\n",
    "dfres_fav.loc[dfres_fav['underperformance_weighted'] < quantile[.2],'underperformance_class'] = 0"
   ]
  },
  {
   "cell_type": "code",
   "execution_count": 20,
   "metadata": {},
   "outputs": [
    {
     "data": {
      "text/html": [
       "<div>\n",
       "<style>\n",
       "    .dataframe thead tr:only-child th {\n",
       "        text-align: right;\n",
       "    }\n",
       "\n",
       "    .dataframe thead th {\n",
       "        text-align: left;\n",
       "    }\n",
       "\n",
       "    .dataframe tbody tr th {\n",
       "        vertical-align: top;\n",
       "    }\n",
       "</style>\n",
       "<table border=\"1\" class=\"dataframe\">\n",
       "  <thead>\n",
       "    <tr style=\"text-align: right;\">\n",
       "      <th></th>\n",
       "      <th>diff_logprob_final_tote_morning_line</th>\n",
       "      <th>diff_sum_logprob_final_tote_morning_line</th>\n",
       "      <th>num_starters</th>\n",
       "      <th>underperformance_weighted</th>\n",
       "      <th>underperformance_class</th>\n",
       "    </tr>\n",
       "  </thead>\n",
       "  <tbody>\n",
       "    <tr>\n",
       "      <th>0</th>\n",
       "      <td>0.405235</td>\n",
       "      <td>0.356776</td>\n",
       "      <td>7</td>\n",
       "      <td>0.000000</td>\n",
       "      <td>4</td>\n",
       "    </tr>\n",
       "    <tr>\n",
       "      <th>1</th>\n",
       "      <td>0.068782</td>\n",
       "      <td>0.236487</td>\n",
       "      <td>6</td>\n",
       "      <td>-1.415755</td>\n",
       "      <td>0</td>\n",
       "    </tr>\n",
       "    <tr>\n",
       "      <th>2</th>\n",
       "      <td>0.198876</td>\n",
       "      <td>0.401806</td>\n",
       "      <td>6</td>\n",
       "      <td>-1.224550</td>\n",
       "      <td>0</td>\n",
       "    </tr>\n",
       "    <tr>\n",
       "      <th>3</th>\n",
       "      <td>0.043925</td>\n",
       "      <td>0.380867</td>\n",
       "      <td>7</td>\n",
       "      <td>0.000000</td>\n",
       "      <td>4</td>\n",
       "    </tr>\n",
       "    <tr>\n",
       "      <th>4</th>\n",
       "      <td>0.253792</td>\n",
       "      <td>0.357477</td>\n",
       "      <td>8</td>\n",
       "      <td>-0.582042</td>\n",
       "      <td>1</td>\n",
       "    </tr>\n",
       "  </tbody>\n",
       "</table>\n",
       "</div>"
      ],
      "text/plain": [
       "   diff_logprob_final_tote_morning_line  \\\n",
       "0                              0.405235   \n",
       "1                              0.068782   \n",
       "2                              0.198876   \n",
       "3                              0.043925   \n",
       "4                              0.253792   \n",
       "\n",
       "   diff_sum_logprob_final_tote_morning_line  num_starters  \\\n",
       "0                                  0.356776             7   \n",
       "1                                  0.236487             6   \n",
       "2                                  0.401806             6   \n",
       "3                                  0.380867             7   \n",
       "4                                  0.357477             8   \n",
       "\n",
       "   underperformance_weighted  underperformance_class  \n",
       "0                   0.000000                       4  \n",
       "1                  -1.415755                       0  \n",
       "2                  -1.224550                       0  \n",
       "3                   0.000000                       4  \n",
       "4                  -0.582042                       1  "
      ]
     },
     "execution_count": 20,
     "metadata": {},
     "output_type": "execute_result"
    }
   ],
   "source": [
    "#just keep useful columns\n",
    "dfres_fav_1 = dfres_fav[['diff_logprob_final_tote_morning_line','diff_sum_logprob_final_tote_morning_line', 'num_starters','underperformance_weighted', 'underperformance_class']]\n",
    "dfres_fav_1.head()"
   ]
  },
  {
   "cell_type": "code",
   "execution_count": 21,
   "metadata": {
    "collapsed": true
   },
   "outputs": [],
   "source": [
    "#drop rows with na values\n",
    "dfres_fav_1 = dfres_fav_1.dropna(axis=0, how='any')\n",
    "dfres_fav_1=dfres_fav_1.reset_index(drop=True)"
   ]
  },
  {
   "cell_type": "code",
   "execution_count": 22,
   "metadata": {},
   "outputs": [],
   "source": [
    "#doing random forest\n",
    "from sklearn.ensemble import RandomForestClassifier\n",
    "nrow = dfres_fav_1.shape[0]\n",
    "ntrain = int(nrow/5*4)\n",
    "dfres_fav_train, dfres_fav_test = dfres_fav_1.iloc[0:ntrain,:], dfres_fav_1.iloc[ntrain:nrow,:]"
   ]
  },
  {
   "cell_type": "code",
   "execution_count": 23,
   "metadata": {},
   "outputs": [
    {
     "data": {
      "text/plain": [
       "RandomForestClassifier(bootstrap=True, class_weight=None, criterion='gini',\n",
       "            max_depth=None, max_features='auto', max_leaf_nodes=None,\n",
       "            min_impurity_decrease=0.0, min_impurity_split=None,\n",
       "            min_samples_leaf=1, min_samples_split=2,\n",
       "            min_weight_fraction_leaf=0.0, n_estimators=10, n_jobs=2,\n",
       "            oob_score=False, random_state=0, verbose=0, warm_start=False)"
      ]
     },
     "execution_count": 23,
     "metadata": {},
     "output_type": "execute_result"
    }
   ],
   "source": [
    "import pandas as pd\n",
    "features = dfres_fav_1.columns[:3]\n",
    "#y = pd.factorize(dfres_fav_train['underperformance_class'])[0]\n",
    "y = dfres_fav_train['underperformance_class']\n",
    "clf = RandomForestClassifier(n_jobs=2, random_state=0)\n",
    "clf.fit(dfres_fav_train[features], y)"
   ]
  },
  {
   "cell_type": "code",
   "execution_count": 24,
   "metadata": {},
   "outputs": [
    {
     "data": {
      "text/plain": [
       "array([[0.6, 0. , 0.2, 0. , 0.2],\n",
       "       [0.3, 0.1, 0.4, 0. , 0.2],\n",
       "       [0.1, 0.4, 0.4, 0. , 0.1],\n",
       "       [0. , 0.1, 0.5, 0. , 0.4],\n",
       "       [0.4, 0.1, 0. , 0. , 0.5],\n",
       "       [0. , 0.3, 0.3, 0. , 0.4],\n",
       "       [0.1, 0.3, 0.1, 0. , 0.5],\n",
       "       [0. , 0. , 0.6, 0. , 0.4],\n",
       "       [0.2, 0.1, 0. , 0. , 0.7],\n",
       "       [0.2, 0.3, 0.2, 0. , 0.3]])"
      ]
     },
     "execution_count": 24,
     "metadata": {},
     "output_type": "execute_result"
    }
   ],
   "source": [
    "# Apply the Classifier we trained to the test data (which, remember, it has never seen before)\n",
    "preds = clf.predict(dfres_fav_test[features])\n",
    "clf.predict_proba(dfres_fav_test[features])[0:10]\n"
   ]
  },
  {
   "cell_type": "code",
   "execution_count": 25,
   "metadata": {},
   "outputs": [
    {
     "data": {
      "text/html": [
       "<div>\n",
       "<style>\n",
       "    .dataframe thead tr:only-child th {\n",
       "        text-align: right;\n",
       "    }\n",
       "\n",
       "    .dataframe thead th {\n",
       "        text-align: left;\n",
       "    }\n",
       "\n",
       "    .dataframe tbody tr th {\n",
       "        vertical-align: top;\n",
       "    }\n",
       "</style>\n",
       "<table border=\"1\" class=\"dataframe\">\n",
       "  <thead>\n",
       "    <tr style=\"text-align: right;\">\n",
       "      <th>Predicted class</th>\n",
       "      <th>0</th>\n",
       "      <th>1</th>\n",
       "      <th>2</th>\n",
       "      <th>3</th>\n",
       "      <th>4</th>\n",
       "    </tr>\n",
       "    <tr>\n",
       "      <th>Actual class</th>\n",
       "      <th></th>\n",
       "      <th></th>\n",
       "      <th></th>\n",
       "      <th></th>\n",
       "      <th></th>\n",
       "    </tr>\n",
       "  </thead>\n",
       "  <tbody>\n",
       "    <tr>\n",
       "      <th>0</th>\n",
       "      <td>10</td>\n",
       "      <td>9</td>\n",
       "      <td>7</td>\n",
       "      <td>2</td>\n",
       "      <td>15</td>\n",
       "    </tr>\n",
       "    <tr>\n",
       "      <th>1</th>\n",
       "      <td>8</td>\n",
       "      <td>11</td>\n",
       "      <td>6</td>\n",
       "      <td>0</td>\n",
       "      <td>22</td>\n",
       "    </tr>\n",
       "    <tr>\n",
       "      <th>2</th>\n",
       "      <td>9</td>\n",
       "      <td>8</td>\n",
       "      <td>10</td>\n",
       "      <td>0</td>\n",
       "      <td>14</td>\n",
       "    </tr>\n",
       "    <tr>\n",
       "      <th>3</th>\n",
       "      <td>1</td>\n",
       "      <td>0</td>\n",
       "      <td>0</td>\n",
       "      <td>0</td>\n",
       "      <td>0</td>\n",
       "    </tr>\n",
       "    <tr>\n",
       "      <th>4</th>\n",
       "      <td>20</td>\n",
       "      <td>22</td>\n",
       "      <td>11</td>\n",
       "      <td>1</td>\n",
       "      <td>37</td>\n",
       "    </tr>\n",
       "  </tbody>\n",
       "</table>\n",
       "</div>"
      ],
      "text/plain": [
       "Predicted class   0   1   2  3   4\n",
       "Actual class                      \n",
       "0                10   9   7  2  15\n",
       "1                 8  11   6  0  22\n",
       "2                 9   8  10  0  14\n",
       "3                 1   0   0  0   0\n",
       "4                20  22  11  1  37"
      ]
     },
     "execution_count": 25,
     "metadata": {},
     "output_type": "execute_result"
    }
   ],
   "source": [
    "# Create confusion matrix\n",
    "pd.crosstab(dfres_fav_test['underperformance_class'], preds, rownames=['Actual class'], colnames=['Predicted class'])\n",
    "#result is not good"
   ]
  },
  {
   "cell_type": "code",
   "execution_count": 26,
   "metadata": {},
   "outputs": [
    {
     "data": {
      "text/plain": [
       "[('diff_logprob_final_tote_morning_line', 0.4638679874424462),\n",
       " ('diff_sum_logprob_final_tote_morning_line', 0.4427258003580724),\n",
       " ('num_starters', 0.09340621219948149)]"
      ]
     },
     "execution_count": 26,
     "metadata": {},
     "output_type": "execute_result"
    }
   ],
   "source": [
    "# View a list of the features and their importance scores\n",
    "list(zip(dfres_fav_train[features], clf.feature_importances_))"
   ]
  },
  {
   "cell_type": "code",
   "execution_count": null,
   "metadata": {
    "collapsed": true
   },
   "outputs": [],
   "source": []
  },
  {
   "cell_type": "code",
   "execution_count": null,
   "metadata": {
    "collapsed": true
   },
   "outputs": [],
   "source": []
  }
 ],
 "metadata": {
  "anaconda-cloud": {},
  "kernelspec": {
   "display_name": "Python 3",
   "language": "python",
   "name": "python3"
  },
  "language_info": {
   "codemirror_mode": {
    "name": "ipython",
    "version": 3
   },
   "file_extension": ".py",
   "mimetype": "text/x-python",
   "name": "python",
   "nbconvert_exporter": "python",
   "pygments_lexer": "ipython3",
   "version": "3.5.2"
  }
 },
 "nbformat": 4,
 "nbformat_minor": 1
}
